{
 "cells": [
  {
   "cell_type": "code",
   "execution_count": 2,
   "metadata": {},
   "outputs": [],
   "source": [
    "# notes on python 3 "
   ]
  },
  {
   "cell_type": "code",
   "execution_count": 8,
   "metadata": {},
   "outputs": [
    {
     "name": "stdout",
     "output_type": "stream",
     "text": [
      "['hello', 'world', 'i', 'am', 'akshay']\n",
      "hello world i am akshay\n"
     ]
    }
   ],
   "source": [
    "s=\"hello world i am akshay\"# declaration of a string\n",
    "x=s.split()                 # split function\n",
    "print(x)                    #print statement\n",
    "\n",
    "print(\" \".join(x))          # join function to join the list\n",
    "\n"
   ]
  },
  {
   "cell_type": "code",
   "execution_count": 10,
   "metadata": {},
   "outputs": [],
   "source": [
    "# splitting on specific letters\n",
    "# so use .split('in which character u wanna split ')"
   ]
  },
  {
   "cell_type": "code",
   "execution_count": 11,
   "metadata": {},
   "outputs": [
    {
     "name": "stdout",
     "output_type": "stream",
     "text": [
      "45\n"
     ]
    }
   ],
   "source": [
    "for i in ['akshay',45,'harshit']: # for loop in python \n",
    "    if i == 45:                    # if i =  45 print the number \n",
    "        print(i)\n",
    "    "
   ]
  },
  {
   "cell_type": "code",
   "execution_count": 13,
   "metadata": {},
   "outputs": [
    {
     "name": "stdout",
     "output_type": "stream",
     "text": [
      "0\n",
      "1\n",
      "2\n",
      "3\n"
     ]
    }
   ],
   "source": [
    "for i in range(4): # range function is a generator \n",
    "    print(i)"
   ]
  },
  {
   "cell_type": "code",
   "execution_count": 14,
   "metadata": {},
   "outputs": [
    {
     "name": "stdout",
     "output_type": "stream",
     "text": [
      "0\n",
      "1\n",
      "3\n",
      "6\n",
      "10\n",
      "15\n",
      "21\n",
      "28\n",
      "36\n",
      "45\n"
     ]
    }
   ],
   "source": [
    "# fibonacciss series\n",
    "count=0\n",
    "for i in range(10):\n",
    "    count=count+i\n",
    "    print(count)\n",
    "    "
   ]
  },
  {
   "cell_type": "code",
   "execution_count": 15,
   "metadata": {},
   "outputs": [
    {
     "name": "stdout",
     "output_type": "stream",
     "text": [
      "range(0, 5)\n"
     ]
    }
   ],
   "source": [
    "print(range(5))"
   ]
  },
  {
   "cell_type": "code",
   "execution_count": 16,
   "metadata": {},
   "outputs": [
    {
     "name": "stdout",
     "output_type": "stream",
     "text": [
      "[0, 1, 2, 3, 4]\n"
     ]
    }
   ],
   "source": [
    "print(list(range(5)))"
   ]
  },
  {
   "cell_type": "code",
   "execution_count": 1,
   "metadata": {},
   "outputs": [
    {
     "ename": "NameError",
     "evalue": "name 'y' is not defined",
     "output_type": "error",
     "traceback": [
      "\u001b[0;31m---------------------------------------------------------------------------\u001b[0m",
      "\u001b[0;31mNameError\u001b[0m                                 Traceback (most recent call last)",
      "\u001b[0;32m<ipython-input-1-cc7a63e53ea6>\u001b[0m in \u001b[0;36m<module>\u001b[0;34m\u001b[0m\n\u001b[0;32m----> 1\u001b[0;31m \u001b[0;32mfor\u001b[0m \u001b[0mx\u001b[0m \u001b[0;32min\u001b[0m \u001b[0my\u001b[0m\u001b[0;34m:\u001b[0m\u001b[0;34m\u001b[0m\u001b[0;34m\u001b[0m\u001b[0m\n\u001b[0m\u001b[1;32m      2\u001b[0m     \u001b[0mprint\u001b[0m\u001b[0;34m(\u001b[0m\u001b[0mx\u001b[0m\u001b[0;34m)\u001b[0m\u001b[0;34m\u001b[0m\u001b[0;34m\u001b[0m\u001b[0m\n",
      "\u001b[0;31mNameError\u001b[0m: name 'y' is not defined"
     ]
    }
   ],
   "source": [
    "for x in y:\n",
    "    print(x)"
   ]
  },
  {
   "cell_type": "code",
   "execution_count": 7,
   "metadata": {},
   "outputs": [
    {
     "ename": "SyntaxError",
     "evalue": "keyword can't be an expression (<ipython-input-7-151db59a5e3e>, line 3)",
     "output_type": "error",
     "traceback": [
      "\u001b[0;36m  File \u001b[0;32m\"<ipython-input-7-151db59a5e3e>\"\u001b[0;36m, line \u001b[0;32m3\u001b[0m\n\u001b[0;31m    print(string[i].end=\"\")\u001b[0m\n\u001b[0m         ^\u001b[0m\n\u001b[0;31mSyntaxError\u001b[0m\u001b[0;31m:\u001b[0m keyword can't be an expression\n"
     ]
    }
   ],
   "source": [
    "string=\"akshay is a good boy\"\n",
    "for i in range(len(string)):\n",
    "    print(string[i].end=\"\")"
   ]
  },
  {
   "cell_type": "code",
   "execution_count": 16,
   "metadata": {},
   "outputs": [
    {
     "name": "stdout",
     "output_type": "stream",
     "text": [
      "37\n"
     ]
    }
   ],
   "source": [
    "addition_str=\"2+5+10+20\"\n",
    "sum_val=0\n",
    "\n",
    "for i in addition_str.split('+'):\n",
    "    sum_val=sum_val+int(i)\n",
    "print(sum_val)    \n",
    "    "
   ]
  },
  {
   "cell_type": "code",
   "execution_count": 10,
   "metadata": {},
   "outputs": [
    {
     "name": "stdout",
     "output_type": "stream",
     "text": [
      "enter a number 134\n",
      "134 is even number\n"
     ]
    }
   ],
   "source": [
    "x=int(input(\"enter a number \"))\n",
    "if x % 2 == 0:\n",
    "    print(x, \"is even number\")\n",
    "\n",
    "elif x % 2 == 1:\n",
    "    print(x, \"is odd number\")\n",
    "else:\n",
    "    print(\"wrong input , assign a value again\")"
   ]
  },
  {
   "cell_type": "code",
   "execution_count": 3,
   "metadata": {},
   "outputs": [
    {
     "name": "stdout",
     "output_type": "stream",
     "text": [
      "19\n"
     ]
    }
   ],
   "source": [
    "char = \"hello my name is akshay\"\n",
    "count=0\n",
    "for i in char:\n",
    "    if i != \" \":\n",
    "        count=count+1\n",
    "        continue\n",
    "        \n",
    "\n",
    "    \n",
    "print(count)        "
   ]
  },
  {
   "cell_type": "code",
   "execution_count": 13,
   "metadata": {},
   "outputs": [
    {
     "name": "stdout",
     "output_type": "stream",
     "text": [
      "44\n"
     ]
    }
   ],
   "source": [
    "x=[1,2,3,4,5,6,7,8,9,44]\n",
    "greatest=0\n",
    "for i in x:\n",
    "    if i > greatest:\n",
    "        greatest=i\n",
    "        \n",
    "print(greatest)\n"
   ]
  },
  {
   "cell_type": "code",
   "execution_count": 19,
   "metadata": {},
   "outputs": [],
   "source": [
    "words = [\"adopt\", \"bake\", \"beam\", \"confide\", \"grill\", \"plant\", \"time\", \"wave\", \"wish\"]\n",
    "past_tense=[]\n",
    "for i in words:\n",
    "   \n",
    "\n",
    "    if i[-1] == 'e':\n",
    "        past_tense.append(i+'d')\n",
    "        \n",
    "    else:\n",
    "        past_tense.append(i+'ed')\n"
   ]
  },
  {
   "cell_type": "code",
   "execution_count": 20,
   "metadata": {},
   "outputs": [
    {
     "data": {
      "text/plain": [
       "['adopted',\n",
       " 'baked',\n",
       " 'beamed',\n",
       " 'confided',\n",
       " 'grilled',\n",
       " 'planted',\n",
       " 'timed',\n",
       " 'waved',\n",
       " 'wished']"
      ]
     },
     "execution_count": 20,
     "metadata": {},
     "output_type": "execute_result"
    }
   ],
   "source": [
    "past_tense\n"
   ]
  },
  {
   "cell_type": "code",
   "execution_count": 22,
   "metadata": {},
   "outputs": [
    {
     "name": "stdout",
     "output_type": "stream",
     "text": [
      "32\n"
     ]
    }
   ],
   "source": [
    "s = \"singing in the rain and playing in the rain are two entirely different situations but both can be fun\"\n",
    "vowels = ['a','e','i','o','u']\n",
    "num_vowels=0\n",
    "\n",
    "# Write your code here.\n",
    "for i in s:\n",
    "    if i in vowels:\n",
    "        num_vowels=num_vowels+1\n",
    "\n",
    "print(num_vowels)"
   ]
  },
  {
   "cell_type": "code",
   "execution_count": 23,
   "metadata": {},
   "outputs": [],
   "source": [
    "sentence = \"python is a high level general purpose programming language that can be applied to many different classes of problems.\"\n",
    "num_a_or_e=0\n",
    "for i in sentence.split(\" \"):\n",
    "    if \"a\" in i or \"e\" in i:\n",
    "        num_a_or_e=num_a_or_e+1\n",
    "        \n",
    "        \n"
   ]
  },
  {
   "cell_type": "code",
   "execution_count": 24,
   "metadata": {},
   "outputs": [],
   "source": [
    "items = [\"whirring\", \"wow!\", \"calendar\", \"wry\", \"glass\", \"\", \"llama\",\"tumultuous\",\"owing\"]\n",
    "acc_num=0\n",
    "for i in items:\n",
    "    if 'w' in i.lower():\n",
    "        acc_num+=1\n",
    "        \n",
    "        \n"
   ]
  },
  {
   "cell_type": "code",
   "execution_count": 25,
   "metadata": {},
   "outputs": [],
   "source": [
    "sentence = \"students flock to the arb for a variety of outdoor activities such as jogging and picnicking\"\n",
    "\n",
    "# Write your code here.\n",
    "same_letter_count=0\n",
    "for i in sentence.split(\" \"):\n",
    "    if i[0]==i[-1]:\n",
    "        \n",
    "        same_letter_count+=1\n",
    "        "
   ]
  },
  {
   "cell_type": "code",
   "execution_count": 26,
   "metadata": {},
   "outputs": [
    {
     "name": "stdout",
     "output_type": "stream",
     "text": [
      "5\n"
     ]
    }
   ],
   "source": [
    "rainfall_mi = \"1.65, 1.46, 2.05, 3.03, 3.35, 3.46, 2.83, 3.23, 3.5, 2.52, 2.8, 1.85\"\n",
    "num_rainy_months=0\n",
    "for i in rainfall_mi.split(', '):\n",
    "    if float(i) > 3.0:\n",
    "        num_rainy_months+=1\n",
    "        \n",
    "        \n",
    "print(num_rainy_months)        "
   ]
  },
  {
   "cell_type": "code",
   "execution_count": 8,
   "metadata": {},
   "outputs": [
    {
     "name": "stdout",
     "output_type": "stream",
     "text": [
      "2 1\n"
     ]
    }
   ],
   "source": [
    "a=[1,2,45,4]\n",
    "k=3\n",
    "\n",
    "for i in a:\n",
    "    diff=k-i\n",
    "    if diff in a:\n",
    "        print(diff,i)\n",
    "        break"
   ]
  },
  {
   "cell_type": "code",
   "execution_count": 1,
   "metadata": {},
   "outputs": [
    {
     "name": "stdout",
     "output_type": "stream",
     "text": [
      "['one', 'three']\n",
      "['a', 'f']\n"
     ]
    }
   ],
   "source": [
    "a = ['one', 'two', 'three']\n",
    "del a[1]\n",
    "print(a)\n",
    "\n",
    "alist = ['a', 'b', 'c', 'd', 'e', 'f']\n",
    "del alist[1:5]\n",
    "print(alist)\n"
   ]
  },
  {
   "cell_type": "code",
   "execution_count": 2,
   "metadata": {},
   "outputs": [
    {
     "name": "stdout",
     "output_type": "stream",
     "text": [
      "False\n",
      "True\n",
      "True\n",
      "[5, 82, 83]\n"
     ]
    }
   ],
   "source": [
    "a = [81,82,83]\n",
    "b = [81,82,83]\n",
    "print(a is b)\n",
    "\n",
    "b = a\n",
    "print(a == b)\n",
    "print(a is b)\n",
    "\n",
    "b[0] = 5\n",
    "print(a)\n"
   ]
  },
  {
   "cell_type": "code",
   "execution_count": 8,
   "metadata": {},
   "outputs": [
    {
     "name": "stdout",
     "output_type": "stream",
     "text": [
      "hello\n"
     ]
    }
   ],
   "source": [
    "a=\"hello\"\n",
    "b=a\n",
    "b=b+\"a\"\n",
    "print(a)"
   ]
  },
  {
   "cell_type": "code",
   "execution_count": 12,
   "metadata": {},
   "outputs": [
    {
     "name": "stdout",
     "output_type": "stream",
     "text": [
      "['hello', 'am', 'akshay', 'koni']\n",
      "['hello', 'am', 'akshay', 'koni']\n"
     ]
    }
   ],
   "source": [
    "a=[\"hello\",\"am\",\"akshay\"]\n",
    "b=a\n",
    "b.append(\"koni\")\n",
    "print(b)\n",
    "print(a)"
   ]
  },
  {
   "cell_type": "code",
   "execution_count": 4,
   "metadata": {},
   "outputs": [
    {
     "name": "stdout",
     "output_type": "stream",
     "text": [
      "[1, 2, 3, 4, 5, 6]\n"
     ]
    }
   ],
   "source": [
    "a=[1,2,3,4,5]\n",
    "b=a\n",
    "b.append(6)\n",
    "print(a)\n"
   ]
  },
  {
   "cell_type": "code",
   "execution_count": 15,
   "metadata": {},
   "outputs": [
    {
     "name": "stdout",
     "output_type": "stream",
     "text": [
      "[5, 27, 3, 12]\n",
      "[5, 12, 27, 3, 12]\n",
      "2\n",
      "3\n",
      "1\n",
      "[12, 3, 27, 12, 5]\n",
      "[3, 5, 12, 12, 27]\n",
      "[3, 12, 12, 27]\n",
      "27\n",
      "[3, 12, 12]\n"
     ]
    }
   ],
   "source": [
    "mylist = []\n",
    "mylist.append(5)\n",
    "mylist.append(27)\n",
    "mylist.append(3)\n",
    "mylist.append(12)\n",
    "print(mylist)\n",
    "\n",
    "mylist.insert(1, 12)\n",
    "print(mylist)\n",
    "print(mylist.count(12))\n",
    "\n",
    "print(mylist.index(3))\n",
    "print(mylist.count(5))\n",
    "\n",
    "mylist.reverse()\n",
    "print(mylist)\n",
    "\n",
    "mylist.sort()\n",
    "print(mylist)\n",
    "\n",
    "mylist.remove(5)\n",
    "print(mylist)\n",
    "\n",
    "lastitem = mylist.pop()\n",
    "print(lastitem)\n",
    "print(mylist)"
   ]
  },
  {
   "cell_type": "code",
   "execution_count": 18,
   "metadata": {},
   "outputs": [
    {
     "name": "stdout",
     "output_type": "stream",
     "text": [
      "[45, 32, 88, 'cat', 'cow']\n",
      "[45, 32, 88, 'cat']\n"
     ]
    }
   ],
   "source": [
    "origlist = [45,32,88]\n",
    "aliaslist = origlist\n",
    "origlist += [\"cat\"]\n",
    "origlist = origlist + [\"cow\"]\n",
    "print(origlist)\n",
    "print(aliaslist)"
   ]
  },
  {
   "cell_type": "code",
   "execution_count": 21,
   "metadata": {},
   "outputs": [
    {
     "name": "stdout",
     "output_type": "stream",
     "text": [
      "Hello, Sally. Nice to meet you.\n",
      "Hello, Nice to meet you. Sally.\n"
     ]
    },
    {
     "ename": "IndexError",
     "evalue": "tuple index out of range",
     "output_type": "error",
     "traceback": [
      "\u001b[0;31m---------------------------------------------------------------------------\u001b[0m",
      "\u001b[0;31mIndexError\u001b[0m                                Traceback (most recent call last)",
      "\u001b[0;32m<ipython-input-21-4c3d07808565>\u001b[0m in \u001b[0;36m<module>\u001b[0;34m\u001b[0m\n\u001b[1;32m      7\u001b[0m \u001b[0mprint\u001b[0m\u001b[0;34m(\u001b[0m\u001b[0ms\u001b[0m\u001b[0;34m.\u001b[0m\u001b[0mformat\u001b[0m\u001b[0;34m(\u001b[0m\u001b[0mgreeting\u001b[0m\u001b[0;34m,\u001b[0m\u001b[0mname\u001b[0m\u001b[0;34m)\u001b[0m\u001b[0;34m)\u001b[0m \u001b[0;31m# will print Hello, Nice to meet you. Sally.\u001b[0m\u001b[0;34m\u001b[0m\u001b[0;34m\u001b[0m\u001b[0m\n\u001b[1;32m      8\u001b[0m \u001b[0;34m\u001b[0m\u001b[0m\n\u001b[0;32m----> 9\u001b[0;31m \u001b[0mprint\u001b[0m\u001b[0;34m(\u001b[0m\u001b[0ms\u001b[0m\u001b[0;34m.\u001b[0m\u001b[0mformat\u001b[0m\u001b[0;34m(\u001b[0m\u001b[0mname\u001b[0m\u001b[0;34m)\u001b[0m\u001b[0;34m)\u001b[0m \u001b[0;31m# 2 {}s, only one interpolation item! Not ideal.\u001b[0m\u001b[0;34m\u001b[0m\u001b[0;34m\u001b[0m\u001b[0m\n\u001b[0m",
      "\u001b[0;31mIndexError\u001b[0m: tuple index out of range"
     ]
    }
   ],
   "source": [
    "name = \"Sally\"\n",
    "greeting = \"Nice to meet you\"\n",
    "s = \"Hello, {}. {}.\"\n",
    "\n",
    "print(s.format(name,greeting)) # will print Hello, Sally. Nice to meet you.\n",
    "\n",
    "print(s.format(greeting,name)) # will print Hello, Nice to meet you. Sally.\n",
    "\n",
    "print(s.format(name)) # 2 {}s, only one interpolation item! Not ideal.\n"
   ]
  },
  {
   "cell_type": "code",
   "execution_count": 27,
   "metadata": {},
   "outputs": [],
   "source": [
    "sports = ['cricket', 'football', 'volleyball', 'baseball', 'softball', 'track and field', 'curling', 'ping pong', 'hockey']\n",
    "sports.insert(2,\"horesback riding\")"
   ]
  },
  {
   "cell_type": "code",
   "execution_count": 28,
   "metadata": {},
   "outputs": [
    {
     "name": "stdout",
     "output_type": "stream",
     "text": [
      "['cricket', 'football', 'horesback riding', 'volleyball', 'baseball', 'softball', 'track and field', 'curling', 'ping pong', 'hockey']\n"
     ]
    }
   ],
   "source": [
    "print(sports)"
   ]
  },
  {
   "cell_type": "code",
   "execution_count": 37,
   "metadata": {},
   "outputs": [
    {
     "name": "stdout",
     "output_type": "stream",
     "text": [
      "['Youyou Tu', 'Rainer Weiss', 'Malala Yousafzai', 'Kazuo Ishiguro', 'Alvin E. Roth', 'Alice Munro']\n"
     ]
    }
   ],
   "source": [
    "winners = ['Alice Munro', 'Alvin E. Roth', 'Kazuo Ishiguro', 'Malala Yousafzai', 'Rainer Weiss', 'Youyou Tu']\n",
    "winners.sort()\n",
    "print(winners[::-1])\n"
   ]
  },
  {
   "cell_type": "code",
   "execution_count": 39,
   "metadata": {},
   "outputs": [
    {
     "name": "stdout",
     "output_type": "stream",
     "text": [
      "[4]\n",
      "[4, 6]\n",
      "[4, 6, 8]\n",
      "[4, 6, 8, 10]\n",
      "[4, 6, 8, 10, 12]\n"
     ]
    }
   ],
   "source": [
    "#accumulator \n",
    "x=[2,3,4,5,6]\n",
    "y=[]\n",
    "\n",
    "for i in x:\n",
    "    mul=i*2\n",
    "    y.append(mul)\n",
    "    print(y)"
   ]
  },
  {
   "cell_type": "code",
   "execution_count": 42,
   "metadata": {},
   "outputs": [
    {
     "name": "stdout",
     "output_type": "stream",
     "text": [
      "llab\n"
     ]
    }
   ],
   "source": [
    "b=\"ball\"\n",
    "x=\"\"\n",
    "\n",
    "for i in b:\n",
    "    \n",
    "print(x)\n",
    "    "
   ]
  },
  {
   "cell_type": "code",
   "execution_count": 103,
   "metadata": {},
   "outputs": [
    {
     "name": "stdout",
     "output_type": "stream",
     "text": [
      "WA. \n",
      "WA. EA. \n",
      "WA. EA. AI. \n",
      "WA. EA. AI. AR. \n",
      "WA. EA. AI. AR. VI. \n"
     ]
    }
   ],
   "source": [
    "stopwords = ['to', 'a', 'for', 'by', 'an', 'am', 'the', 'so', 'it', 'and', 'The']\n",
    "sent = \"The water earth and air are vital\"\n",
    "acro=\"\"\n",
    "count=0\n",
    "for i in sent.split():\n",
    "    if i not in stopwords:\n",
    "        acro=acro+i[:2].upper()+'. '\n",
    "        print(acro)\n",
    "        \n"
   ]
  },
  {
   "cell_type": "code",
   "execution_count": 35,
   "metadata": {},
   "outputs": [
    {
     "name": "stdout",
     "output_type": "stream",
     "text": [
      "The store has 12 shoes, each for 29.99 USD\n",
      "The store has 20 shirts, each for 9.99 USD\n",
      "The store has 25 sweatpants, each for 15.00 USD\n",
      "The store has 13 scarves, each for 7.75 USD\n"
     ]
    }
   ],
   "source": [
    "inventory = [\"shoes, 12, 29.99\", \"shirts, 20, 9.99\", \"sweatpants, 25, 15.00\", \"scarves, 13, 7.75\"]\n",
    "\n",
    "for i in inventory:\n",
    "    x=i.split(', ')\n",
    "    \n",
    "    print(\"The store has {} {}, each for {} USD\".format(x[1],x[0],x[2]))\n",
    "    \n"
   ]
  },
  {
   "cell_type": "code",
   "execution_count": 38,
   "metadata": {},
   "outputs": [
    {
     "name": "stdout",
     "output_type": "stream",
     "text": [
      "['shoes', '12', '29.99']\n",
      "['shirts', '20', '9.99']\n",
      "['sweatpants', '25', '15.00']\n",
      "['scarves', '13', '7.75']\n"
     ]
    }
   ],
   "source": [
    "inventory = [\"shoes, 12, 29.99\", \"shirts, 20, 9.99\", \"sweatpants, 25, 15.00\", \"scarves, 13, 7.75\"]\n",
    "\n",
    "for i in inventory:\n",
    "    print(i.split(', '))"
   ]
  },
  {
   "cell_type": "code",
   "execution_count": 66,
   "metadata": {},
   "outputs": [
    {
     "name": "stdout",
     "output_type": "stream",
     "text": [
      "was I tac a ro rac a ti saw\n"
     ]
    }
   ],
   "source": [
    "r_phrase=[]\n",
    "p_phrase = \"was it a car or a cat I saw\"\n",
    "p_phrase=p_phrase[::-1]\n",
    "print(p_phrase)"
   ]
  },
  {
   "cell_type": "code",
   "execution_count": 68,
   "metadata": {},
   "outputs": [],
   "source": [
    "#Below are a set of scores that students have received in the past semester. Write code to determine how many are 90 or above and assign that result to the value a_scores.\n",
    "#6/9/2020, 7:25:46 AM - 4 of 4\n",
    "\n",
    "\n",
    "scores = \"67 80 90 78 93 20 79 89 96 97 92 88 79 68 58 90 98 100 79 74 83 88 80 86 85 70 90 100\"\n",
    "\n",
    "a_scores=0\n",
    "\n",
    "\n",
    "for i in scores.split(\" \"):\n",
    "\n",
    "\n",
    "    if int(i)>=90:\n",
    "\n",
    "        a_scores+=1"
   ]
  },
  {
   "cell_type": "code",
   "execution_count": 69,
   "metadata": {},
   "outputs": [],
   "source": [
    "\"\"\"Write code that uses the string stored in org and creates an acronym which\n",
    "is assigned to the variable acro. Only the first letter of each word should be used, each letter in\n",
    "the acronym should be a capital letter, and there should be nothing to separate the letters of the acronym. Words that should not be included in the acronym are stored in the list stopwords. For example, if org was assigned the string “hello to world” then the resulting acronym should be “HW”.\n",
    "6/9/2020, 7:30:51 AM - 5 of 5\n",
    "\"\"\"\n",
    "stopwords = ['to', 'a', 'for', 'by', 'an', 'am', 'the', 'so', 'it', 'and', \"The\"]\n",
    "org = \"The organization for health, safety, and education\"\n",
    "acro=\"\"\n",
    "for i in org.split():\n",
    "\n",
    "    if i not in stopwords:\n",
    "\n",
    "        acro=acro+i[0].upper()\n"
   ]
  },
  {
   "cell_type": "code",
   "execution_count": 70,
   "metadata": {},
   "outputs": [
    {
     "name": "stdout",
     "output_type": "stream",
     "text": [
      "The store has 12 shoes, each for 29.99 USD.\n",
      "The store has 20 shirts, each for 9.99 USD.\n",
      "The store has 25 sweatpants, each for 15.00 USD.\n",
      "The store has 13 scarves, each for 7.75 USD.\n"
     ]
    }
   ],
   "source": [
    "\"\"\"Provided is a list of data about a store’s inventory where each item in the list represents the name of an item, how much is in stock, and how much it costs. Print out each item in the list with the same formatting, using the .format method (not string concatenation). For example, the first print statment should read The store has 12 shoes, each for 29.99 USD.\n",
    "6/9/2020, 8:11:23 AM - 4 of 4\n",
    "\"\"\"\n",
    "inventory = [\"shoes, 12, 29.99\", \"shirts, 20, 9.99\", \"sweatpants, 25, 15.00\", \"scarves, 13, 7.75\"]\n",
    "for i in inventory:\n",
    "    x=i.split(', ')\n",
    "    print(\"The store has {} {}, each for {} USD.\".format(x[1],x[0],x[2]))"
   ]
  },
  {
   "cell_type": "code",
   "execution_count": 91,
   "metadata": {},
   "outputs": [
    {
     "name": "stdout",
     "output_type": "stream",
     "text": [
      "WA. EA. AI. AR. VI\n"
     ]
    }
   ],
   "source": [
    "stopwords = ['to', 'a', 'for', 'by', 'an', 'am', 'the', 'so', 'it', 'and', 'The']\n",
    "sent = \"The water earth and air are vital\"\n",
    "acro=\"\"\n",
    "sum=0\n",
    "it=0\n",
    "for i in sent.split():\n",
    "    \n",
    "    if i not in stopwords:\n",
    "        sum=sum+1\n",
    "        \n",
    "\n",
    "for j in sent.split():\n",
    "    if j not in stopwords:\n",
    "        if it<sum-1:\n",
    "            acro=acro+j[0:2].upper()+'. '\n",
    "            it+=1\n",
    "        else:\n",
    "            acro=acro+j[0:2].upper()\n",
    "        \n",
    "print(acro)"
   ]
  },
  {
   "cell_type": "code",
   "execution_count": 42,
   "metadata": {},
   "outputs": [
    {
     "name": "stdout",
     "output_type": "stream",
     "text": [
      "5\n",
      "WA. EA. AI. AR. VI\n"
     ]
    }
   ],
   "source": [
    "stopwords = ['to', 'a', 'for', 'by', 'an', 'am', 'the', 'so', 'it', 'and', 'The']\n",
    "sent = \"The water earth and air are vital\"\n",
    "acro=\"\"\n",
    "acc=0\n",
    "check=1\n",
    "for i in sent.split():\n",
    "    \n",
    "    if i not in stopwords:\n",
    "        acc=acc+1\n",
    "        \n",
    "print(acc)\n",
    "\n",
    "for j in sent.split():\n",
    "    if j not in stopwords:\n",
    "        if check < acc:\n",
    "            acro=acro+j[:2].upper()+'. '\n",
    "        else:\n",
    "            acro=acro+j[:2].upper()\n",
    "            \n",
    "print(acro[:len(acro)-2])\n",
    "        "
   ]
  },
  {
   "cell_type": "code",
   "execution_count": 41,
   "metadata": {},
   "outputs": [
    {
     "ename": "NameError",
     "evalue": "name 'acro' is not defined",
     "output_type": "error",
     "traceback": [
      "\u001b[0;31m---------------------------------------------------------------------------\u001b[0m",
      "\u001b[0;31mNameError\u001b[0m                                 Traceback (most recent call last)",
      "\u001b[0;32m<ipython-input-41-0a5c375cc061>\u001b[0m in \u001b[0;36m<module>\u001b[0;34m\u001b[0m\n\u001b[0;32m----> 1\u001b[0;31m \u001b[0mprint\u001b[0m\u001b[0;34m(\u001b[0m\u001b[0macro\u001b[0m\u001b[0;34m[\u001b[0m\u001b[0;34m:\u001b[0m\u001b[0mlen\u001b[0m\u001b[0;34m(\u001b[0m\u001b[0macro\u001b[0m\u001b[0;34m)\u001b[0m\u001b[0;34m-\u001b[0m\u001b[0;36m2\u001b[0m\u001b[0;34m]\u001b[0m\u001b[0;34m)\u001b[0m\u001b[0;34m\u001b[0m\u001b[0;34m\u001b[0m\u001b[0m\n\u001b[0m",
      "\u001b[0;31mNameError\u001b[0m: name 'acro' is not defined"
     ]
    }
   ],
   "source": [
    "print(acro[:len(acro)-2])"
   ]
  },
  {
   "cell_type": "code",
   "execution_count": 3,
   "metadata": {},
   "outputs": [
    {
     "data": {
      "text/plain": [
       "'/home/anonymous/anaconda3'"
      ]
     },
     "execution_count": 3,
     "metadata": {},
     "output_type": "execute_result"
    }
   ],
   "source": [
    "pwd\n"
   ]
  },
  {
   "cell_type": "code",
   "execution_count": 7,
   "metadata": {},
   "outputs": [
    {
     "data": {
      "text/plain": [
       "23"
      ]
     },
     "execution_count": 7,
     "metadata": {},
     "output_type": "execute_result"
    }
   ],
   "source": [
    "test=open()\n",
    "test.write(\"jello my name is akshay\")\n"
   ]
  },
  {
   "cell_type": "code",
   "execution_count": 31,
   "metadata": {},
   "outputs": [],
   "source": [
    "test=open(\"test.txt\",\"a\")\n",
    "lines=test.writelines('''hello my name is akshay i am very good \n",
    "i am very good boy and a goood programmer''')\n"
   ]
  },
  {
   "cell_type": "code",
   "execution_count": 40,
   "metadata": {},
   "outputs": [
    {
     "name": "stdout",
     "output_type": "stream",
     "text": [
      "['jello my name is akshayhello my name is akshay i am very good \\n']\n"
     ]
    }
   ],
   "source": [
    "test=open(\"test.txt\",\"r\")\n",
    "lines=test.readlines()\n",
    "print(lines[:1])"
   ]
  },
  {
   "cell_type": "code",
   "execution_count": 43,
   "metadata": {},
   "outputs": [],
   "source": [
    "test.close()"
   ]
  },
  {
   "cell_type": "code",
   "execution_count": 4,
   "metadata": {},
   "outputs": [],
   "source": [
    "file_ob=open(\"square.txt\",\"w\")\n",
    "for i in range(0,11):\n",
    "    square=i*i\n",
    "    file_ob.write(str(square)+\"\\n\")\n",
    "    \n",
    "file_ob.close()"
   ]
  },
  {
   "cell_type": "code",
   "execution_count": 6,
   "metadata": {},
   "outputs": [
    {
     "name": "stdout",
     "output_type": "stream",
     "text": [
      "0\n",
      "1\n",
      "4\n",
      "9\n",
      "16\n",
      "25\n",
      "36\n",
      "49\n",
      "64\n",
      "81\n",
      "100\n",
      "\n"
     ]
    }
   ],
   "source": [
    "file_ob=open(\"square.txt\",\"r\")\n",
    "print(file_ob.read())\n",
    "file_ob.close()"
   ]
  },
  {
   "cell_type": "code",
   "execution_count": 9,
   "metadata": {},
   "outputs": [
    {
     "name": "stdout",
     "output_type": "stream",
     "text": [
      "0\n",
      "1\n",
      "4\n",
      "9\n",
      "16\n",
      "25\n",
      "36\n",
      "49\n",
      "64\n",
      "81\n",
      "100\n"
     ]
    }
   ],
   "source": [
    "with open(\"square.txt\",\"r\") as square:\n",
    "    for i in square:\n",
    "        print(i.strip())"
   ]
  },
  {
   "cell_type": "code",
   "execution_count": 1,
   "metadata": {},
   "outputs": [
    {
     "name": "stdout",
     "output_type": "stream",
     "text": [
      "enter how many elements u wanna enter5\n",
      "enter the 0 elements5\n",
      "enter the 1 elements4\n",
      "enter the 2 elements3\n",
      "enter the 3 elements2\n",
      "enter the 4 elements1\n",
      "enter the key to be found5\n",
      "the sorted list is below\n",
      "[1, 2, 3, 4, 5]\n",
      "the element is 5 in 4 position\n",
      "\n"
     ]
    }
   ],
   "source": [
    "elements=[]\n",
    "num=int(input(\"enter how many elements u wanna enter\"))\n",
    "for i in range(num):\n",
    "    x=int(input(f\"enter the {i} elements\"))\n",
    "    elements.append(x)\n",
    "key=int(input(\"enter the key to be found\"))\n",
    "elements.sort()\n",
    "print(\"the sorted list is below\")\n",
    "print(elements)\n",
    "if key in elements:\n",
    "    ind=elements.index(key)\n",
    "    print(f\"the element is {key} in {ind} position\\n\")\n",
    "else:\n",
    "    print(\"the element could not be found\\n\")"
   ]
  },
  {
   "cell_type": "code",
   "execution_count": 1,
   "metadata": {},
   "outputs": [
    {
     "name": "stdout",
     "output_type": "stream",
     "text": [
      "enter the number1234\n",
      "[1234]\n",
      "[1234]\n"
     ]
    }
   ],
   "source": [
    "#sorting in python \n"
   ]
  },
  {
   "cell_type": "code",
   "execution_count": 5,
   "metadata": {},
   "outputs": [
    {
     "name": "stdout",
     "output_type": "stream",
     "text": [
      "enter how many elements u wanna enter4\n",
      "enter the 0 element2\n",
      "enter the 1 element7\n",
      "enter the 2 element6\n",
      "enter the 3 element3\n",
      "without sorted [2, 7, 6, 3]\n",
      "sorted [2, 3, 6, 7]\n"
     ]
    }
   ],
   "source": [
    "bubble=[]\n",
    "x=int(input(\"enter how many elements u wanna enter\"))\n",
    "for i in range(x):\n",
    "    y=int(input(f\"enter the {i} element\"))\n",
    "    bubble.append(y)\n",
    "print(f\"without sorted {bubble}\")\n",
    "bubble.sort()\n",
    "print(f\"sorted {bubble}\")\n",
    "    "
   ]
  },
  {
   "cell_type": "code",
   "execution_count": 1,
   "metadata": {},
   "outputs": [
    {
     "ename": "FileNotFoundError",
     "evalue": "[Errno 2] No such file or directory: 'school_prompt.txt'",
     "output_type": "error",
     "traceback": [
      "\u001b[0;31m---------------------------------------------------------------------------\u001b[0m",
      "\u001b[0;31mFileNotFoundError\u001b[0m                         Traceback (most recent call last)",
      "\u001b[0;32m<ipython-input-1-c5a1ad651ba8>\u001b[0m in \u001b[0;36m<module>\u001b[0;34m\u001b[0m\n\u001b[1;32m      1\u001b[0m \u001b[0mthree\u001b[0m\u001b[0;34m=\u001b[0m\u001b[0;34m[\u001b[0m\u001b[0;34m]\u001b[0m\u001b[0;34m\u001b[0m\u001b[0;34m\u001b[0m\u001b[0m\n\u001b[0;32m----> 2\u001b[0;31m \u001b[0;32mwith\u001b[0m \u001b[0mopen\u001b[0m\u001b[0;34m(\u001b[0m\u001b[0;34m\"school_prompt.txt\"\u001b[0m\u001b[0;34m,\u001b[0m\u001b[0;34m\"r\"\u001b[0m\u001b[0;34m)\u001b[0m \u001b[0;32mas\u001b[0m \u001b[0mschool\u001b[0m\u001b[0;34m:\u001b[0m\u001b[0;34m\u001b[0m\u001b[0;34m\u001b[0m\u001b[0m\n\u001b[0m\u001b[1;32m      3\u001b[0m     \u001b[0mx\u001b[0m\u001b[0;34m=\u001b[0m\u001b[0mschool\u001b[0m\u001b[0;34m.\u001b[0m\u001b[0mreadlines\u001b[0m\u001b[0;34m(\u001b[0m\u001b[0;34m)\u001b[0m\u001b[0;34m\u001b[0m\u001b[0;34m\u001b[0m\u001b[0m\n\u001b[1;32m      4\u001b[0m     \u001b[0;32mfor\u001b[0m \u001b[0mi\u001b[0m \u001b[0;32min\u001b[0m \u001b[0mx\u001b[0m\u001b[0;34m:\u001b[0m\u001b[0;34m\u001b[0m\u001b[0;34m\u001b[0m\u001b[0m\n\u001b[1;32m      5\u001b[0m         \u001b[0my\u001b[0m\u001b[0;34m=\u001b[0m\u001b[0mi\u001b[0m\u001b[0;34m.\u001b[0m\u001b[0msplit\u001b[0m\u001b[0;34m(\u001b[0m\u001b[0;34m)\u001b[0m\u001b[0;34m[\u001b[0m\u001b[0;36m2\u001b[0m\u001b[0;34m:\u001b[0m\u001b[0;36m3\u001b[0m\u001b[0;34m:\u001b[0m\u001b[0;36m2\u001b[0m\u001b[0;34m]\u001b[0m\u001b[0;34m\u001b[0m\u001b[0;34m\u001b[0m\u001b[0m\n",
      "\u001b[0;31mFileNotFoundError\u001b[0m: [Errno 2] No such file or directory: 'school_prompt.txt'"
     ]
    }
   ],
   "source": [
    "three=[]\n",
    "with open(\"school_prompt.txt\",\"r\") as school:\n",
    "    x=school.readlines()\n",
    "    for i in x:\n",
    "        y=i.split()[2:3:2]\n",
    "        print(y)\n",
    "    "
   ]
  },
  {
   "cell_type": "code",
   "execution_count": 4,
   "metadata": {},
   "outputs": [
    {
     "name": "stdout",
     "output_type": "stream",
     "text": [
      "{'Manuel': 4, 'Lochte': 12, 'Adrian': 7, 'Ledecky': 5, 'Dirado': 4, 'Phelps': 28}\n"
     ]
    }
   ],
   "source": [
    "swimmers = {'Manuel':4, 'Lochte':12, 'Adrian':7, 'Ledecky':5, 'Dirado':4, 'Phelps':23}\n",
    "swimmers['Phelps']=swimmers['Phelps']+5\n",
    "print(swimmers)"
   ]
  },
  {
   "cell_type": "code",
   "execution_count": 6,
   "metadata": {},
   "outputs": [
    {
     "name": "stdout",
     "output_type": "stream",
     "text": [
      "['Shooting', 'Fencing', 'Judo', 'Swimming', 'Diving']\n"
     ]
    }
   ],
   "source": [
    "medal_events = {'Shooting': 7, 'Fencing': 4, 'Judo': 2, 'Swimming': 3, 'Diving': 2}\n",
    "events=list(medal_events.keys())\n",
    "print(events)"
   ]
  },
  {
   "cell_type": "code",
   "execution_count": 10,
   "metadata": {},
   "outputs": [
    {
     "name": "stdout",
     "output_type": "stream",
     "text": [
      "dict_keys(['Italy', 'USA', 'Brazil', 'China', 'Spain', 'Canada', 'Argentina', 'England'])\n"
     ]
    }
   ],
   "source": [
    "golds = {\"Italy\": 12, \"USA\": 33, \"Brazil\": 15, \"China\": 27, \"Spain\": 19, \"Canada\": 22, \"Argentina\": 8, \"England\": 29}\n",
    "countries=golds.keys()\n",
    "print(countries)"
   ]
  },
  {
   "cell_type": "code",
   "execution_count": 16,
   "metadata": {},
   "outputs": [
    {
     "name": "stdout",
     "output_type": "stream",
     "text": [
      "{'h': 1, 'e': 1, 'l': 1, 'o': 2, ' ': 7, 'm': 2, 'y': 1, 'n': 2, 'a': 4, 'i': 3, 's': 1, 'k': 1, 'd': 1, 't': 0}\n"
     ]
    }
   ],
   "source": [
    "x=\"hello my name is akshay koni and am idiot\"\n",
    "ab={}\n",
    "for i in x:\n",
    "    if i not in ab:\n",
    "        ab[i]=0\n",
    "    else: \n",
    "        ab[i]=ab[i]+1\n",
    "        \n",
    "        \n",
    "print(ab)\n"
   ]
  },
  {
   "cell_type": "code",
   "execution_count": 17,
   "metadata": {},
   "outputs": [
    {
     "data": {
      "text/plain": [
       "4"
      ]
     },
     "execution_count": 17,
     "metadata": {},
     "output_type": "execute_result"
    }
   ],
   "source": [
    "ab['a']"
   ]
  },
  {
   "cell_type": "code",
   "execution_count": 21,
   "metadata": {},
   "outputs": [
    {
     "ename": "TypeError",
     "evalue": "unsupported operand type(s) for +: 'int' and 'str'",
     "output_type": "error",
     "traceback": [
      "\u001b[0;31m---------------------------------------------------------------------------\u001b[0m",
      "\u001b[0;31mTypeError\u001b[0m                                 Traceback (most recent call last)",
      "\u001b[0;32m<ipython-input-21-d91e9033bb1c>\u001b[0m in \u001b[0;36m<module>\u001b[0;34m\u001b[0m\n\u001b[1;32m      6\u001b[0m         \u001b[0;32mbreak\u001b[0m\u001b[0;34m\u001b[0m\u001b[0;34m\u001b[0m\u001b[0m\n\u001b[1;32m      7\u001b[0m \u001b[0;34m\u001b[0m\u001b[0m\n\u001b[0;32m----> 8\u001b[0;31m \u001b[0mprint\u001b[0m\u001b[0;34m(\u001b[0m\u001b[0mcheck\u001b[0m \u001b[0;34m+\u001b[0m \u001b[0;34m\" \"\u001b[0m\u001b[0;34m+\u001b[0m\u001b[0mx\u001b[0m\u001b[0;34m[\u001b[0m\u001b[0mi\u001b[0m\u001b[0;34m]\u001b[0m\u001b[0;34m)\u001b[0m\u001b[0;34m\u001b[0m\u001b[0;34m\u001b[0m\u001b[0m\n\u001b[0m",
      "\u001b[0;31mTypeError\u001b[0m: unsupported operand type(s) for +: 'int' and 'str'"
     ]
    }
   ],
   "source": [
    "x={\"k1\":1,\"k2\":2,\"k3\":3}\n",
    "check=0\n",
    "for i in x:\n",
    "    if check<x[i]:\n",
    "        check=x[i]\n",
    "        break\n",
    "    \n",
    "\n"
   ]
  },
  {
   "cell_type": "code",
   "execution_count": 31,
   "metadata": {},
   "outputs": [
    {
     "name": "stdout",
     "output_type": "stream",
     "text": [
      "0 x\n"
     ]
    }
   ],
   "source": [
    "placement = \"Beaches are cool places to visit in spring however the Mackinaw Bridge is near. Most people visit Mackinaw later since the island is a cool place to explore.\"\n",
    "min_value=0\n",
    "dic={}\n",
    "for i in placement:\n",
    "    \n",
    "    if i not in dic:\n",
    "        dic[i]=0\n",
    "        \n",
    "    else:\n",
    "        dic[i]=dic[i]+1\n",
    "        \n",
    "\n",
    "for i in dic:\n",
    "    if min_value>=dic[i]:\n",
    "        min_value=dic[i]\n",
    "        x=i\n",
    "    \n",
    "        \n",
    "print(str(min_value)+\" \"+i)    "
   ]
  },
  {
   "cell_type": "code",
   "execution_count": 32,
   "metadata": {},
   "outputs": [],
   "source": [
    "'''Create a dictionary called lett_d that keeps track of all of the\n",
    "characters in the string product and notes how many times each character was seen. Then, find the key with \n",
    "the highest value in this dictionary and assign that key to max_value.\n",
    "'''\n",
    "product = \"iphone and android phones\"\n"
   ]
  },
  {
   "cell_type": "code",
   "execution_count": 33,
   "metadata": {},
   "outputs": [
    {
     "name": "stdout",
     "output_type": "stream",
     "text": [
      "{'s': 8, 'a': 5, 'l': 6, 'y': 3, ' ': 11, 'e': 7, 'h': 4, 'b': 2, 't': 2, 'o': 2, 'r': 2, 'n': 1, 'd': 2}\n",
      "2\n"
     ]
    }
   ],
   "source": [
    "sally = \"sally sells sea shells by the sea shore and by the road\"\n",
    "worst_char=\"\"\n",
    "characters={}\n",
    "comp=0\n",
    "\n",
    "for i in sally:\n",
    "    if i not in characters:\n",
    "        characters[i]=0\n",
    "        \n",
    "    characters[i]=characters[i]+1\n",
    "    \n",
    "print(characters)\n",
    "for j in characters:\n",
    "    if comp>=characters[j]:\n",
    "        comp=characters[j]\n",
    "        worst_char=j\n",
    "    else:\n",
    "        comp=comp+1\n",
    "        \n",
    "print(comp)    "
   ]
  },
  {
   "cell_type": "code",
   "execution_count": 34,
   "metadata": {},
   "outputs": [],
   "source": [
    "str1 = \"peter piper picked a peck of pickled peppers\"\n",
    "freq={}\n",
    "for i in str1:\n",
    "    if i not in freq:\n",
    "        freq[i]=0\n",
    "        \n",
    "    freq[i]=freq[i]+1"
   ]
  },
  {
   "cell_type": "code",
   "execution_count": 35,
   "metadata": {},
   "outputs": [],
   "source": [
    "s1 = \"hello\"\n",
    "counts={}\n",
    "for i in s1:\n",
    "    if i not in counts:\n",
    "        counts[i]=0\n",
    "        \n",
    "    counts[i]=counts[i]+1"
   ]
  },
  {
   "cell_type": "code",
   "execution_count": 36,
   "metadata": {},
   "outputs": [],
   "source": [
    "str1 = \"I wish I wish with all my heart to fly with dragons in a land apart\"\n",
    "freq_words={}\n",
    "for i in str1.split():\n",
    "    if i not in freq_words:\n",
    "        freq_words[i]=1\n",
    "        \n",
    "    else:\n",
    "        freq_words[i]=freq_words[i]+1"
   ]
  },
  {
   "cell_type": "code",
   "execution_count": 38,
   "metadata": {},
   "outputs": [
    {
     "name": "stdout",
     "output_type": "stream",
     "text": [
      "{'s': 8, 'a': 3, 'l': 6, 'y': 2, ' ': 7, 'e': 6, 'h': 3, 'b': 1, 't': 1, 'o': 1, 'r': 1}\n",
      "8\n"
     ]
    }
   ],
   "source": [
    "sally = \"sally sells sea shells by the sea shore\"\n",
    "characters={}\n",
    "best_char=\"\"\n",
    "comp=0\n",
    "for char in sally:\n",
    "    if char not in characters:\n",
    "        characters[char]=0\n",
    "        \n",
    "        \n",
    "    characters[char]=characters[char]+1\n",
    "    \n",
    "print(characters)\n",
    "for i in characters:\n",
    "    if comp<characters[i]:\n",
    "        comp=characters[i]\n",
    "        best_char=i\n",
    "        \n",
    "print(comp)\n",
    "    "
   ]
  },
  {
   "cell_type": "code",
   "execution_count": 39,
   "metadata": {},
   "outputs": [
    {
     "name": "stdout",
     "output_type": "stream",
     "text": [
      "{'s': 8, 'a': 5, 'l': 6, 'y': 3, ' ': 11, 'e': 7, 'h': 4, 'b': 2, 't': 2, 'o': 2, 'r': 2, 'n': 1, 'd': 2}\n",
      "2\n"
     ]
    }
   ],
   "source": [
    "sally = \"sally sells sea shells by the sea shore and by the road\"\n",
    "worst_char=\"\"\n",
    "characters={}\n",
    "comp=0\n",
    "\n",
    "for i in sally:\n",
    "    if i not in characters:\n",
    "        characters[i]=0\n",
    "        \n",
    "    characters[i]=characters[i]+1\n",
    "    \n",
    "print(characters)\n",
    "for j in characters:\n",
    "    if comp>=characters[j]:\n",
    "        comp=characters[j]\n",
    "        worst_char=j\n",
    "    else:\n",
    "        comp=comp+1\n",
    "        \n",
    "print(comp)    "
   ]
  },
  {
   "cell_type": "code",
   "execution_count": 1,
   "metadata": {},
   "outputs": [],
   "source": [
    "def myfunc_ion(name):\n",
    "    print(\"hello \"+name)"
   ]
  },
  {
   "cell_type": "code",
   "execution_count": 3,
   "metadata": {},
   "outputs": [
    {
     "name": "stdout",
     "output_type": "stream",
     "text": [
      "hello akshay\n"
     ]
    }
   ],
   "source": [
    "myfunc_ion('akshay')"
   ]
  },
  {
   "cell_type": "code",
   "execution_count": 17,
   "metadata": {},
   "outputs": [],
   "source": [
    "\n",
    "def myfunc(mylist):\n",
    "    a=0\n",
    "    for i in mylist:\n",
    "        a=a+i\n",
    "        \n",
    "    return a\n",
    "    \n"
   ]
  },
  {
   "cell_type": "code",
   "execution_count": 18,
   "metadata": {},
   "outputs": [
    {
     "data": {
      "text/plain": [
       "36"
      ]
     },
     "execution_count": 18,
     "metadata": {},
     "output_type": "execute_result"
    }
   ],
   "source": [
    "b=[1,2,3,4,5,6,7,8]\n",
    "myfunc(b)"
   ]
  },
  {
   "cell_type": "code",
   "execution_count": 7,
   "metadata": {},
   "outputs": [
    {
     "name": "stdout",
     "output_type": "stream",
     "text": [
      "11\n"
     ]
    }
   ],
   "source": [
    "# global variables and local variables\n",
    "def akki(y):\n",
    "    global x # declariong x as global\n",
    "    x+=1\n",
    "    y=y+x\n",
    "    return y\n",
    "    \n",
    "    \n",
    "    \n",
    "    \n",
    "x=5\n",
    "y=akki(5)\n",
    "print(y)"
   ]
  },
  {
   "cell_type": "code",
   "execution_count": 8,
   "metadata": {},
   "outputs": [
    {
     "ename": "UnboundLocalError",
     "evalue": "local variable 'x' referenced before assignment",
     "output_type": "error",
     "traceback": [
      "\u001b[0;31m---------------------------------------------------------------------------\u001b[0m",
      "\u001b[0;31mUnboundLocalError\u001b[0m                         Traceback (most recent call last)",
      "\u001b[0;32m<ipython-input-8-e67fe0166faf>\u001b[0m in \u001b[0;36m<module>\u001b[0;34m\u001b[0m\n\u001b[1;32m     10\u001b[0m \u001b[0;34m\u001b[0m\u001b[0m\n\u001b[1;32m     11\u001b[0m \u001b[0mx\u001b[0m\u001b[0;34m=\u001b[0m\u001b[0;36m5\u001b[0m\u001b[0;34m\u001b[0m\u001b[0;34m\u001b[0m\u001b[0m\n\u001b[0;32m---> 12\u001b[0;31m \u001b[0my\u001b[0m\u001b[0;34m=\u001b[0m\u001b[0makki\u001b[0m\u001b[0;34m(\u001b[0m\u001b[0;36m5\u001b[0m\u001b[0;34m)\u001b[0m\u001b[0;34m\u001b[0m\u001b[0;34m\u001b[0m\u001b[0m\n\u001b[0m\u001b[1;32m     13\u001b[0m \u001b[0mprint\u001b[0m\u001b[0;34m(\u001b[0m\u001b[0my\u001b[0m\u001b[0;34m)\u001b[0m\u001b[0;34m\u001b[0m\u001b[0;34m\u001b[0m\u001b[0m\n",
      "\u001b[0;32m<ipython-input-8-e67fe0166faf>\u001b[0m in \u001b[0;36makki\u001b[0;34m(y)\u001b[0m\n\u001b[1;32m      2\u001b[0m \u001b[0;32mdef\u001b[0m \u001b[0makki\u001b[0m\u001b[0;34m(\u001b[0m\u001b[0my\u001b[0m\u001b[0;34m)\u001b[0m\u001b[0;34m:\u001b[0m\u001b[0;34m\u001b[0m\u001b[0;34m\u001b[0m\u001b[0m\n\u001b[1;32m      3\u001b[0m \u001b[0;34m\u001b[0m\u001b[0m\n\u001b[0;32m----> 4\u001b[0;31m     \u001b[0mx\u001b[0m\u001b[0;34m+=\u001b[0m\u001b[0;36m1\u001b[0m\u001b[0;34m\u001b[0m\u001b[0;34m\u001b[0m\u001b[0m\n\u001b[0m\u001b[1;32m      5\u001b[0m     \u001b[0my\u001b[0m\u001b[0;34m=\u001b[0m\u001b[0my\u001b[0m\u001b[0;34m+\u001b[0m\u001b[0mx\u001b[0m\u001b[0;34m\u001b[0m\u001b[0;34m\u001b[0m\u001b[0m\n\u001b[1;32m      6\u001b[0m     \u001b[0;32mreturn\u001b[0m \u001b[0my\u001b[0m\u001b[0;34m\u001b[0m\u001b[0;34m\u001b[0m\u001b[0m\n",
      "\u001b[0;31mUnboundLocalError\u001b[0m: local variable 'x' referenced before assignment"
     ]
    }
   ],
   "source": [
    "# global variables and local variables\n",
    "def akki(y):\n",
    "    # error x is global and we r using it as local \n",
    "    \n",
    "    x+=1\n",
    "    y=y+x             \"\"\"okay so in local scope u can use use local variables but if there are no local \n",
    "                        variables names same as in global then ot will take the value from global \n",
    "                         variable.......but if u cant access global variables in local scope directly one way is \n",
    "                         to write global in funtion and then name of variable to use that variable as globally\n",
    "                                 \"\"\"\n",
    "    return y\n",
    "    \n",
    "    \n",
    "    \n",
    "    \n",
    "x=5\n",
    "y=akki(5)\n",
    "print(y)"
   ]
  },
  {
   "cell_type": "code",
   "execution_count": 3,
   "metadata": {},
   "outputs": [
    {
     "name": "stdout",
     "output_type": "stream",
     "text": [
      "dict_keys(['a', 'b', 'c', 'd'])\n",
      "a\n",
      "b\n"
     ]
    }
   ],
   "source": [
    "def most_common_letter(s):\n",
    "    frequencies = count_freqs(s)\n",
    "    return best_key(frequencies)\n",
    "\n",
    "def count_freqs(st):\n",
    "    d = {}\n",
    "    for c in st:\n",
    "        if c not in d:\n",
    "             d[c] = 0\n",
    "        d[c] = d[c] + 1\n",
    "    return d\n",
    "\n",
    "def best_key(dictionary):\n",
    "    ks = dictionary.keys()\n",
    "    print(ks)\n",
    "    best_key_so_far = list(ks)[0]\n",
    "    print(best_key_so_far) # Have to turn ks into a real list before using [] to select an item\n",
    "    for k in ks:\n",
    "        if dictionary[k] > dictionary[best_key_so_far]:\n",
    "            best_key_so_far = k\n",
    "    return best_key_so_far\n",
    "\n",
    "print(most_common_letter(\"abbbbbbbbbbbccccddddd\"))\n"
   ]
  },
  {
   "cell_type": "code",
   "execution_count": 18,
   "metadata": {},
   "outputs": [],
   "source": [
    "\"\"\"Write two functions, one called addit and one called mult. addit takes one number \n",
    "as an input and adds 5. mult takes one number as an input, and multiplies that input \n",
    "by whatever is returned by addit, and then returns the result.\"\"\"\n",
    "\n",
    "def mult(a):\n",
    "    b=addit(a)\n",
    "    return a*b\n",
    "\n",
    "def addit(y):\n",
    "    return y+5"
   ]
  },
  {
   "cell_type": "code",
   "execution_count": 19,
   "metadata": {},
   "outputs": [
    {
     "data": {
      "text/plain": [
       "24"
      ]
     },
     "execution_count": 19,
     "metadata": {},
     "output_type": "execute_result"
    }
   ],
   "source": [
    "mult(3)\n"
   ]
  },
  {
   "cell_type": "code",
   "execution_count": 24,
   "metadata": {},
   "outputs": [],
   "source": [
    "def accum(x):\n",
    "    x=0\n",
    "    for i in (x):\n",
    "        print(i)\n",
    "        \n",
    "        \n",
    "    \n",
    "        "
   ]
  },
  {
   "cell_type": "code",
   "execution_count": 26,
   "metadata": {},
   "outputs": [
    {
     "ename": "TypeError",
     "evalue": "'int' object is not iterable",
     "output_type": "error",
     "traceback": [
      "\u001b[0;31m---------------------------------------------------------------------------\u001b[0m",
      "\u001b[0;31mTypeError\u001b[0m                                 Traceback (most recent call last)",
      "\u001b[0;32m<ipython-input-26-9d913ddf7f93>\u001b[0m in \u001b[0;36m<module>\u001b[0;34m\u001b[0m\n\u001b[1;32m      1\u001b[0m \u001b[0mx\u001b[0m\u001b[0;34m=\u001b[0m\u001b[0;34m[\u001b[0m\u001b[0;36m1\u001b[0m\u001b[0;34m,\u001b[0m\u001b[0;36m2\u001b[0m\u001b[0;34m,\u001b[0m\u001b[0;36m3\u001b[0m\u001b[0;34m,\u001b[0m\u001b[0;36m4\u001b[0m\u001b[0;34m,\u001b[0m\u001b[0;36m5\u001b[0m\u001b[0;34m,\u001b[0m\u001b[0;36m6\u001b[0m\u001b[0;34m]\u001b[0m\u001b[0;34m\u001b[0m\u001b[0;34m\u001b[0m\u001b[0m\n\u001b[0;32m----> 2\u001b[0;31m \u001b[0maccum\u001b[0m\u001b[0;34m(\u001b[0m\u001b[0mx\u001b[0m\u001b[0;34m)\u001b[0m\u001b[0;34m\u001b[0m\u001b[0;34m\u001b[0m\u001b[0m\n\u001b[0m",
      "\u001b[0;32m<ipython-input-24-5d7169ff8f84>\u001b[0m in \u001b[0;36maccum\u001b[0;34m(x)\u001b[0m\n\u001b[1;32m      1\u001b[0m \u001b[0;32mdef\u001b[0m \u001b[0maccum\u001b[0m\u001b[0;34m(\u001b[0m\u001b[0mx\u001b[0m\u001b[0;34m)\u001b[0m\u001b[0;34m:\u001b[0m\u001b[0;34m\u001b[0m\u001b[0;34m\u001b[0m\u001b[0m\n\u001b[1;32m      2\u001b[0m     \u001b[0mx\u001b[0m\u001b[0;34m=\u001b[0m\u001b[0;36m0\u001b[0m\u001b[0;34m\u001b[0m\u001b[0;34m\u001b[0m\u001b[0m\n\u001b[0;32m----> 3\u001b[0;31m     \u001b[0;32mfor\u001b[0m \u001b[0mi\u001b[0m \u001b[0;32min\u001b[0m \u001b[0;34m(\u001b[0m\u001b[0mx\u001b[0m\u001b[0;34m)\u001b[0m\u001b[0;34m:\u001b[0m\u001b[0;34m\u001b[0m\u001b[0;34m\u001b[0m\u001b[0m\n\u001b[0m\u001b[1;32m      4\u001b[0m         \u001b[0mprint\u001b[0m\u001b[0;34m(\u001b[0m\u001b[0mi\u001b[0m\u001b[0;34m)\u001b[0m\u001b[0;34m\u001b[0m\u001b[0;34m\u001b[0m\u001b[0m\n\u001b[1;32m      5\u001b[0m \u001b[0;34m\u001b[0m\u001b[0m\n",
      "\u001b[0;31mTypeError\u001b[0m: 'int' object is not iterable"
     ]
    }
   ],
   "source": [
    "x=[1,2,3,4,5,6]\n",
    "accum(x)\n"
   ]
  },
  {
   "cell_type": "code",
   "execution_count": 27,
   "metadata": {},
   "outputs": [
    {
     "data": {
      "text/plain": [
       "'You will need to write two functions for this problem.\\nThe first function, divide that takes in any number and returns that same\\nnumber divided by 2. The second function called sum should take any number, \\ndivide it by 2, and add 6. It should return this new number. You should call the \\ndivide function within the sum function. Do not worry about decimals.\\n\\n\\n'"
      ]
     },
     "execution_count": 27,
     "metadata": {},
     "output_type": "execute_result"
    }
   ],
   "source": [
    "\"\"\"You will need to write two functions for this problem.\n",
    "The first function, divide that takes in any number and returns that same\n",
    "number divided by 2. The second function called sum should take any number, \n",
    "divide it by 2, and add 6. It should return this new number. You should call the \n",
    "divide function within the sum function. Do not worry about decimals.\n",
    "\n",
    "\n",
    "\"\"\"\n"
   ]
  },
  {
   "cell_type": "code",
   "execution_count": 29,
   "metadata": {},
   "outputs": [
    {
     "name": "stdout",
     "output_type": "stream",
     "text": [
      "Zaptos\n"
     ]
    },
    {
     "ename": "ValueError",
     "evalue": "too many values to unpack (expected 3)",
     "output_type": "error",
     "traceback": [
      "\u001b[0;31m---------------------------------------------------------------------------\u001b[0m",
      "\u001b[0;31mValueError\u001b[0m                                Traceback (most recent call last)",
      "\u001b[0;32m<ipython-input-29-4a60e2b21540>\u001b[0m in \u001b[0;36m<module>\u001b[0;34m\u001b[0m\n\u001b[1;32m      1\u001b[0m \u001b[0mlst_tups\u001b[0m \u001b[0;34m=\u001b[0m \u001b[0;34m[\u001b[0m\u001b[0;34m(\u001b[0m\u001b[0;34m'Articuno'\u001b[0m\u001b[0;34m,\u001b[0m \u001b[0;34m'Moltres'\u001b[0m\u001b[0;34m,\u001b[0m \u001b[0;34m'Zaptos'\u001b[0m\u001b[0;34m)\u001b[0m\u001b[0;34m,\u001b[0m \u001b[0;34m(\u001b[0m\u001b[0;34m'Beedrill'\u001b[0m\u001b[0;34m,\u001b[0m \u001b[0;34m'Metapod'\u001b[0m\u001b[0;34m,\u001b[0m \u001b[0;34m'Charizard'\u001b[0m\u001b[0;34m,\u001b[0m \u001b[0;34m'Venasaur'\u001b[0m\u001b[0;34m,\u001b[0m \u001b[0;34m'Squirtle'\u001b[0m\u001b[0;34m)\u001b[0m\u001b[0;34m,\u001b[0m \u001b[0;34m(\u001b[0m\u001b[0;34m'Oddish'\u001b[0m\u001b[0;34m,\u001b[0m \u001b[0;34m'Poliwag'\u001b[0m\u001b[0;34m,\u001b[0m \u001b[0;34m'Diglett'\u001b[0m\u001b[0;34m,\u001b[0m \u001b[0;34m'Bellsprout'\u001b[0m\u001b[0;34m)\u001b[0m\u001b[0;34m,\u001b[0m \u001b[0;34m(\u001b[0m\u001b[0;34m'Ponyta'\u001b[0m\u001b[0;34m,\u001b[0m \u001b[0;34m\"Farfetch'd\"\u001b[0m\u001b[0;34m,\u001b[0m \u001b[0;34m\"Tauros\"\u001b[0m\u001b[0;34m,\u001b[0m \u001b[0;34m'Dragonite'\u001b[0m\u001b[0;34m)\u001b[0m\u001b[0;34m,\u001b[0m \u001b[0;34m(\u001b[0m\u001b[0;34m'Hoothoot'\u001b[0m\u001b[0;34m,\u001b[0m \u001b[0;34m'Chikorita'\u001b[0m\u001b[0;34m,\u001b[0m \u001b[0;34m'Lanturn'\u001b[0m\u001b[0;34m,\u001b[0m \u001b[0;34m'Flaaffy'\u001b[0m\u001b[0;34m,\u001b[0m \u001b[0;34m'Unown'\u001b[0m\u001b[0;34m,\u001b[0m \u001b[0;34m'Teddiursa'\u001b[0m\u001b[0;34m,\u001b[0m \u001b[0;34m'Phanpy'\u001b[0m\u001b[0;34m)\u001b[0m\u001b[0;34m,\u001b[0m \u001b[0;34m(\u001b[0m\u001b[0;34m'Loudred'\u001b[0m\u001b[0;34m,\u001b[0m \u001b[0;34m'Volbeat'\u001b[0m\u001b[0;34m,\u001b[0m \u001b[0;34m'Wailord'\u001b[0m\u001b[0;34m,\u001b[0m \u001b[0;34m'Seviper'\u001b[0m\u001b[0;34m,\u001b[0m \u001b[0;34m'Sealeo'\u001b[0m\u001b[0;34m)\u001b[0m\u001b[0;34m]\u001b[0m\u001b[0;34m\u001b[0m\u001b[0;34m\u001b[0m\u001b[0m\n\u001b[0;32m----> 2\u001b[0;31m \u001b[0;32mfor\u001b[0m \u001b[0ma\u001b[0m\u001b[0;34m,\u001b[0m\u001b[0mb\u001b[0m\u001b[0;34m,\u001b[0m\u001b[0mc\u001b[0m \u001b[0;32min\u001b[0m \u001b[0mlst_tups\u001b[0m\u001b[0;34m:\u001b[0m\u001b[0;34m\u001b[0m\u001b[0;34m\u001b[0m\u001b[0m\n\u001b[0m\u001b[1;32m      3\u001b[0m     \u001b[0mprint\u001b[0m\u001b[0;34m(\u001b[0m\u001b[0mc\u001b[0m\u001b[0;34m)\u001b[0m\u001b[0;34m\u001b[0m\u001b[0;34m\u001b[0m\u001b[0m\n",
      "\u001b[0;31mValueError\u001b[0m: too many values to unpack (expected 3)"
     ]
    }
   ],
   "source": [
    "lst_tups = [('Articuno', 'Moltres', 'Zaptos'), ('Beedrill', 'Metapod', 'Charizard', 'Venasaur', 'Squirtle'), ('Oddish', 'Poliwag', 'Diglett', 'Bellsprout'), ('Ponyta', \"Farfetch'd\", \"Tauros\", 'Dragonite'), ('Hoothoot', 'Chikorita', 'Lanturn', 'Flaaffy', 'Unown', 'Teddiursa', 'Phanpy'), ('Loudred', 'Volbeat', 'Wailord', 'Seviper', 'Sealeo')]\n",
    "for a,b,c in lst_tups:\n",
    "    print(c)"
   ]
  },
  {
   "cell_type": "code",
   "execution_count": 30,
   "metadata": {},
   "outputs": [
    {
     "name": "stdout",
     "output_type": "stream",
     "text": [
      "(62.8318, 314.159)\n"
     ]
    }
   ],
   "source": [
    "def circleInfo(r):\n",
    "    \"\"\" Return (circumference, area) of a circle of radius r \"\"\"\n",
    "    c = 2 * 3.14159 * r\n",
    "    a = 3.14159 * r * r\n",
    "    return (c, a)\n",
    "\n",
    "print(circleInfo(10))\n"
   ]
  },
  {
   "cell_type": "code",
   "execution_count": 31,
   "metadata": {},
   "outputs": [],
   "source": [
    "(water,fire,electricty,grass)=(\"Squirtle\",\"Charmander\",\"pikachu\",\"bulbasaur\")"
   ]
  },
  {
   "cell_type": "code",
   "execution_count": 32,
   "metadata": {},
   "outputs": [
    {
     "data": {
      "text/plain": [
       "'Squirtle'"
      ]
     },
     "execution_count": 32,
     "metadata": {},
     "output_type": "execute_result"
    }
   ],
   "source": [
    "water"
   ]
  },
  {
   "cell_type": "code",
   "execution_count": 33,
   "metadata": {},
   "outputs": [
    {
     "data": {
      "text/plain": [
       "'Charmander'"
      ]
     },
     "execution_count": 33,
     "metadata": {},
     "output_type": "execute_result"
    }
   ],
   "source": [
    "fire"
   ]
  },
  {
   "cell_type": "code",
   "execution_count": 34,
   "metadata": {},
   "outputs": [
    {
     "data": {
      "text/plain": [
       "'pikachu'"
      ]
     },
     "execution_count": 34,
     "metadata": {},
     "output_type": "execute_result"
    }
   ],
   "source": [
    "electricty"
   ]
  },
  {
   "cell_type": "code",
   "execution_count": 35,
   "metadata": {},
   "outputs": [
    {
     "data": {
      "text/plain": [
       "'bulbasaur'"
      ]
     },
     "execution_count": 35,
     "metadata": {},
     "output_type": "execute_result"
    }
   ],
   "source": [
    "grass"
   ]
  },
  {
   "cell_type": "code",
   "execution_count": 44,
   "metadata": {},
   "outputs": [
    {
     "ename": "ValueError",
     "evalue": "not enough values to unpack (expected 4, got 3)",
     "output_type": "error",
     "traceback": [
      "\u001b[0;31m---------------------------------------------------------------------------\u001b[0m",
      "\u001b[0;31mValueError\u001b[0m                                Traceback (most recent call last)",
      "\u001b[0;32m<ipython-input-44-2814f597b9ce>\u001b[0m in \u001b[0;36m<module>\u001b[0;34m\u001b[0m\n\u001b[1;32m      2\u001b[0m \u001b[0mcountry\u001b[0m\u001b[0;34m=\u001b[0m\u001b[0;34m[\u001b[0m\u001b[0;34m]\u001b[0m\u001b[0;34m\u001b[0m\u001b[0;34m\u001b[0m\u001b[0m\n\u001b[1;32m      3\u001b[0m \u001b[0;32mfor\u001b[0m \u001b[0mi\u001b[0m \u001b[0;32min\u001b[0m \u001b[0mtuples_lst\u001b[0m\u001b[0;34m:\u001b[0m\u001b[0;34m\u001b[0m\u001b[0;34m\u001b[0m\u001b[0m\n\u001b[0;32m----> 4\u001b[0;31m     \u001b[0ma\u001b[0m\u001b[0;34m,\u001b[0m\u001b[0mb\u001b[0m\u001b[0;34m,\u001b[0m\u001b[0mc\u001b[0m\u001b[0;34m,\u001b[0m\u001b[0md\u001b[0m\u001b[0;34m=\u001b[0m\u001b[0mi\u001b[0m\u001b[0;34m\u001b[0m\u001b[0;34m\u001b[0m\u001b[0m\n\u001b[0m\u001b[1;32m      5\u001b[0m     \u001b[0mprint\u001b[0m\u001b[0;34m(\u001b[0m\u001b[0mb\u001b[0m\u001b[0;34m)\u001b[0m\u001b[0;34m\u001b[0m\u001b[0;34m\u001b[0m\u001b[0m\n",
      "\u001b[0;31mValueError\u001b[0m: not enough values to unpack (expected 4, got 3)"
     ]
    }
   ],
   "source": [
    "tuples_lst = [('Beijing', 'China', 2008), ('London', 'England', 2012), ('Rio', 'Brazil', 2016, 'Current'), ('Tokyo', 'Japan', 2020, 'Future')]\n",
    "country=[]\n",
    "for i in tuples_lst:\n",
    "    a,b,c,d=i\n",
    "    print(b)"
   ]
  },
  {
   "cell_type": "code",
   "execution_count": 2,
   "metadata": {},
   "outputs": [],
   "source": [
    "list1 = [8, 3, 4, 5, 6, 7, 9]\n",
    "tot=0\n",
    "ini=0\n",
    "while ini<len(list1):\n",
    "    tot=tot+list1[ini]\n",
    "    ini+=1"
   ]
  },
  {
   "cell_type": "code",
   "execution_count": 3,
   "metadata": {},
   "outputs": [
    {
     "name": "stdout",
     "output_type": "stream",
     "text": [
      "42\n"
     ]
    }
   ],
   "source": [
    "print(tot)"
   ]
  },
  {
   "cell_type": "code",
   "execution_count": 1,
   "metadata": {},
   "outputs": [],
   "source": [
    "def stop_at_four(x):\n",
    "    new_lst=[]\n",
    "    ini=0\n",
    "    while ini<4:\n",
    "        new_lst.append(x[ini])\n",
    "        ini+=1\n",
    "    return new_lst"
   ]
  },
  {
   "cell_type": "code",
   "execution_count": 2,
   "metadata": {},
   "outputs": [
    {
     "name": "stdout",
     "output_type": "stream",
     "text": [
      "[1, 2, 3, 4]\n"
     ]
    }
   ],
   "source": [
    "y=[1,2,3,4]\n",
    "print(stop_at_four(y))"
   ]
  },
  {
   "cell_type": "code",
   "execution_count": 3,
   "metadata": {},
   "outputs": [],
   "source": [
    "def stop_at_four(x):\n",
    "    new_lst=[]\n",
    "    ini=0\n",
    "    while ini<=4:\n",
    "        new_lst.append(x[ini])\n",
    "        ini+=1\n",
    "    return new_lst"
   ]
  },
  {
   "cell_type": "code",
   "execution_count": 4,
   "metadata": {},
   "outputs": [
    {
     "name": "stdout",
     "output_type": "stream",
     "text": [
      "[1, 2, 3, 4, 5]\n"
     ]
    }
   ],
   "source": [
    "print(stop_at_four([1,2,3,4,5,6,7]))"
   ]
  },
  {
   "cell_type": "code",
   "execution_count": 7,
   "metadata": {},
   "outputs": [],
   "source": [
    "def stop_at_four(x):\n",
    "    lst=[]\n",
    "    idx=0\n",
    "    while idx<len(x):\n",
    "        if idx<5:\n",
    "            \n",
    "        \n",
    "            lst.append(x[idx])\n",
    "        else:\n",
    "            lst=[]\n",
    "        \n",
    "        idx=idx+1\n",
    "        \n",
    "    return lst"
   ]
  },
  {
   "cell_type": "code",
   "execution_count": 8,
   "metadata": {},
   "outputs": [
    {
     "name": "stdout",
     "output_type": "stream",
     "text": [
      "[4, 1]\n"
     ]
    }
   ],
   "source": [
    "print(stop_at_four([4,1]))"
   ]
  },
  {
   "cell_type": "code",
   "execution_count": 4,
   "metadata": {},
   "outputs": [
    {
     "name": "stdout",
     "output_type": "stream",
     "text": [
      "enter the num to add (o to exit)1\n",
      "enter the num to add (o to exit)2\n",
      "enter the num to add (o to exit)3\n",
      "enter the num to add (o to exit)4\n",
      "enter the num to add (o to exit)5\n",
      "enter the num to add (o to exit)0\n",
      "15\n"
     ]
    }
   ],
   "source": [
    "sum=0\n",
    "condition=True\n",
    "while condition:\n",
    "    x=int(input(\"enter the num to add (o to exit)\"))\n",
    "    if x!=0:\n",
    "        sum=sum+x\n",
    "    else:\n",
    "        condition=False\n",
    "print(sum)"
   ]
  },
  {
   "cell_type": "code",
   "execution_count": 11,
   "metadata": {},
   "outputs": [
    {
     "name": "stdout",
     "output_type": "stream",
     "text": [
      "enter y or no t\n",
      "enter y or no f\n",
      "enter y or no y\n",
      "try \n"
     ]
    }
   ],
   "source": [
    "condition=True\n",
    "while condition:\n",
    "    x=input(\"enter y or no \")\n",
    "    if x=='y'or x=='n':\n",
    "        if x=='y':\n",
    "            print(\"try \")\n",
    "        elif x=='n':\n",
    "            print(\"keep on trying\")\n",
    "        condition=False\n",
    "    \n",
    "    \n",
    "        \n",
    "    "
   ]
  },
  {
   "cell_type": "raw",
   "metadata": {},
   "source": []
  },
  {
   "cell_type": "code",
   "execution_count": 23,
   "metadata": {},
   "outputs": [],
   "source": [
    "def sublist(y):\n",
    "    sublist=[]\n",
    "    x=0 \n",
    "    while x<4:\n",
    "        if len(y)>4:\n",
    "            sublist.append(y[x])\n",
    "      \n",
    "            \n",
    "        \n",
    "        \n",
    "        x+=1\n",
    "    print(sublist)\n",
    "    "
   ]
  },
  {
   "cell_type": "code",
   "execution_count": 26,
   "metadata": {},
   "outputs": [
    {
     "name": "stdout",
     "output_type": "stream",
     "text": [
      "[1, 2, 3, 4]\n"
     ]
    }
   ],
   "source": [
    "sublist([1,2,3,4,5])"
   ]
  },
  {
   "cell_type": "code",
   "execution_count": 1,
   "metadata": {},
   "outputs": [
    {
     "ename": "SyntaxError",
     "evalue": "invalid syntax (<ipython-input-1-3da41e04f12f>, line 1)",
     "output_type": "error",
     "traceback": [
      "\u001b[0;36m  File \u001b[0;32m\"<ipython-input-1-3da41e04f12f>\"\u001b[0;36m, line \u001b[0;32m1\u001b[0m\n\u001b[0;31m    hello changes done\u001b[0m\n\u001b[0m                ^\u001b[0m\n\u001b[0;31mSyntaxError\u001b[0m\u001b[0;31m:\u001b[0m invalid syntax\n"
     ]
    }
   ],
   "source": [
    "hello changes done\n"
   ]
  },
  {
   "cell_type": "code",
   "execution_count": 1,
   "metadata": {},
   "outputs": [
    {
     "name": "stdout",
     "output_type": "stream",
     "text": [
      "hello\n"
     ]
    }
   ],
   "source": [
    "print(\"hello\")"
   ]
  },
  {
   "cell_type": "code",
   "execution_count": 2,
   "metadata": {},
   "outputs": [],
   "source": [
    "def myfunc(x):\n",
    "    ini=1\n",
    "    su=0\n",
    "    while ini<=x:\n",
    "        su=su+ini\n",
    "        ini+=1\n",
    "    return su"
   ]
  },
  {
   "cell_type": "code",
   "execution_count": 4,
   "metadata": {},
   "outputs": [
    {
     "data": {
      "text/plain": [
       "15"
      ]
     },
     "execution_count": 4,
     "metadata": {},
     "output_type": "execute_result"
    }
   ],
   "source": [
    "myfunc(5)"
   ]
  },
  {
   "cell_type": "code",
   "execution_count": 5,
   "metadata": {},
   "outputs": [],
   "source": [
    "def stop_at_four():\n",
    "    ini=0\n",
    "    new_list=[]\n",
    "    while ini<=4:\n",
    "        new_list.append(ini)\n",
    "        ini+=1\n",
    "    return new_list\n",
    "    \n",
    "\n"
   ]
  },
  {
   "cell_type": "code",
   "execution_count": 6,
   "metadata": {},
   "outputs": [
    {
     "name": "stdout",
     "output_type": "stream",
     "text": [
      "[0, 1, 2, 3, 4]\n"
     ]
    }
   ],
   "source": [
    "print(stop_at_four())"
   ]
  },
  {
   "cell_type": "code",
   "execution_count": 51,
   "metadata": {},
   "outputs": [],
   "source": [
    "def stop_at_four(lst_of_numbers):\n",
    "    ini=0\n",
    "    new_list=[]\n",
    "    if len(lst_of_numbers)>:\n",
    "        while ini<5:\n",
    "            new_list.append(lst_of_numbers[ini])\n",
    "            ini+=1\n",
    "        return new_list\n",
    "    else:\n",
    "        return new_list\n"
   ]
  },
  {
   "cell_type": "code",
   "execution_count": 52,
   "metadata": {},
   "outputs": [
    {
     "name": "stdout",
     "output_type": "stream",
     "text": [
      "[1, 2, 3, 4, 3]\n"
     ]
    }
   ],
   "source": [
    "print(stop_at_four([1,2,3,4,3]))"
   ]
  },
  {
   "cell_type": "code",
   "execution_count": 53,
   "metadata": {},
   "outputs": [],
   "source": [
    "def sublist(x):\n",
    "    ini=0\n",
    "    sub_list=[]\n",
    "    \n",
    "          "
   ]
  },
  {
   "cell_type": "code",
   "execution_count": 57,
   "metadata": {},
   "outputs": [
    {
     "name": "stdout",
     "output_type": "stream",
     "text": [
      "[1, 2, 3, 4, 5]\n"
     ]
    }
   ],
   "source": [
    "print(sublist([1,2,3,4,5]))"
   ]
  },
  {
   "cell_type": "code",
   "execution_count": 63,
   "metadata": {},
   "outputs": [],
   "source": [
    "def sublist(x):\n",
    "    ini=0\n",
    "    sub_list=[]\n",
    "    \n",
    "    while ini < len(x):\n",
    "        \n",
    "        if x[ini]==5:\n",
    "            sub_list.append(x[ini])\n",
    "        ini+=1\n",
    "    return sub_list   "
   ]
  },
  {
   "cell_type": "code",
   "execution_count": 64,
   "metadata": {},
   "outputs": [
    {
     "name": "stdout",
     "output_type": "stream",
     "text": [
      "[]\n"
     ]
    }
   ],
   "source": [
    "print(sublist([1]))"
   ]
  },
  {
   "cell_type": "code",
   "execution_count": 67,
   "metadata": {},
   "outputs": [
    {
     "ename": "SyntaxError",
     "evalue": "invalid syntax (<ipython-input-67-c27fd41bcc32>, line 11)",
     "output_type": "error",
     "traceback": [
      "\u001b[0;36m  File \u001b[0;32m\"<ipython-input-67-c27fd41bcc32>\"\u001b[0;36m, line \u001b[0;32m11\u001b[0m\n\u001b[0;31m    else y==0:\u001b[0m\n\u001b[0m         ^\u001b[0m\n\u001b[0;31mSyntaxError\u001b[0m\u001b[0;31m:\u001b[0m invalid syntax\n"
     ]
    }
   ],
   "source": [
    "def sublist(x):\n",
    "    ini=0\n",
    "    new_list=[]\n",
    "    y=x.count(5)\n",
    "    if y==1:\n",
    "        while x[ini]!=5:\n",
    "            new_list.append(x[ini])\n",
    "        \n",
    "            ini+=1\n",
    "    return new_list\n",
    "    else y==0:\n",
    "        new_list=x\n",
    "        return new_list\n"
   ]
  },
  {
   "cell_type": "code",
   "execution_count": 6,
   "metadata": {},
   "outputs": [],
   "source": [
    "\"\"\"Challenge: Write a function called beginning that takes a list as input and contains a while loop \n",
    "that only stops once the element of the list is the string ‘bye’. What is returned is a list that contains \n",
    "up to the first 10 strings, regardless of where the loop stops. (i.e., if it stops on the 32nd element, \n",
    "the first 10 are returned. If “bye” is the 5th element, the first 4 are returned.) If you want to make this even \n",
    "more of a challenge, do this without slicing\"\"\"\n",
    "\n",
    "def beginning():\n",
    "    ini=0\n",
    "    x=[]\n",
    "    dec=True\n",
    "    while 'bye' not in x:\n",
    "        x=list(input('\"enter the elements ...\"bye to stop\"'))\n",
    "        if 'bye' in x:\n",
    "            dec=False\n",
    "            \n",
    "        \n",
    "            \n",
    "        \n",
    "    \n",
    "    "
   ]
  },
  {
   "cell_type": "code",
   "execution_count": null,
   "metadata": {},
   "outputs": [
    {
     "name": "stdout",
     "output_type": "stream",
     "text": [
      "\"enter the elements ...\"bye to stop\"4\n",
      "\"enter the elements ...\"bye to stop\"4\n",
      "\"enter the elements ...\"bye to stop\"bye\n",
      "\"enter the elements ...\"bye to stop\"bye\n",
      "\"enter the elements ...\"bye to stop\"\n",
      "\"enter the elements ...\"bye to stop\"\n",
      "\"enter the elements ...\"bye to stop\"\n",
      "\"enter the elements ...\"bye to stop\"\n",
      "\"enter the elements ...\"bye to stop\"\n"
     ]
    }
   ],
   "source": [
    "beginning()"
   ]
  },
  {
   "cell_type": "code",
   "execution_count": 76,
   "metadata": {},
   "outputs": [
    {
     "ename": "NameError",
     "evalue": "name 'x' is not defined",
     "output_type": "error",
     "traceback": [
      "\u001b[0;31m---------------------------------------------------------------------------\u001b[0m",
      "\u001b[0;31mNameError\u001b[0m                                 Traceback (most recent call last)",
      "\u001b[0;32m<ipython-input-76-fc17d851ef81>\u001b[0m in \u001b[0;36m<module>\u001b[0;34m\u001b[0m\n\u001b[0;32m----> 1\u001b[0;31m \u001b[0mprint\u001b[0m\u001b[0;34m(\u001b[0m\u001b[0mx\u001b[0m\u001b[0;34m)\u001b[0m\u001b[0;34m\u001b[0m\u001b[0;34m\u001b[0m\u001b[0m\n\u001b[0m",
      "\u001b[0;31mNameError\u001b[0m: name 'x' is not defined"
     ]
    }
   ],
   "source": [
    "print(x)"
   ]
  },
  {
   "cell_type": "code",
   "execution_count": 1,
   "metadata": {},
   "outputs": [
    {
     "name": "stdout",
     "output_type": "stream",
     "text": [
      "enter3\n"
     ]
    }
   ],
   "source": [
    "x=list(input(\"enter\"))"
   ]
  },
  {
   "cell_type": "code",
   "execution_count": 3,
   "metadata": {},
   "outputs": [
    {
     "data": {
      "text/plain": [
       "True"
      ]
     },
     "execution_count": 3,
     "metadata": {},
     "output_type": "execute_result"
    }
   ],
   "source": [
    "'3' in x"
   ]
  },
  {
   "cell_type": "code",
   "execution_count": 1,
   "metadata": {},
   "outputs": [],
   "source": [
    "def sublist(x):\n",
    "    ini=0\n",
    "    new_list=[]\n",
    "    y=x.count(5)\n",
    "    if y==1:\n",
    "        while x[ini]!=5:\n",
    "            new_list.append(x[ini])\n",
    "        \n",
    "            ini+=1\n",
    "    \n",
    "    elif y==0:\n",
    "        new_list=x\n",
    "    return new_list"
   ]
  },
  {
   "cell_type": "code",
   "execution_count": 2,
   "metadata": {},
   "outputs": [],
   "source": [
    "def check_nums(x):\n",
    "    ini=0\n",
    "    new_list=[]\n",
    "    y=x.count(7)\n",
    "    if y==1:\n",
    "        while x[ini]!=7:\n",
    "            new_list.append(x[ini])\n",
    "        \n",
    "            ini+=1\n",
    "    \n",
    "    elif y==0:\n",
    "        new_list=x\n",
    "    return new_list\n"
   ]
  },
  {
   "cell_type": "code",
   "execution_count": 3,
   "metadata": {},
   "outputs": [],
   "source": [
    "def sublist(x):\n",
    "    ini=0\n",
    "    new_list=[]\n",
    "    \n",
    "    if \"STOP\" in x:\n",
    "        while x[ini]!=\"STOP\":\n",
    "            new_list.append(x[ini])\n",
    "        \n",
    "            ini+=1\n",
    "    \n",
    "    elif y==0:\n",
    "        new_list=x\n",
    "    return new_list"
   ]
  },
  {
   "cell_type": "code",
   "execution_count": 4,
   "metadata": {},
   "outputs": [],
   "source": [
    "def stop_at_z(x):\n",
    "\n",
    "    ini=0\n",
    "    new_list=[]\n",
    "    \n",
    "    if \"z\" in x:\n",
    "        while x[ini]!=\"z\":\n",
    "            new_list.append(x[ini])\n",
    "        \n",
    "            ini+=1\n",
    "    \n",
    "    elif y==0:\n",
    "        new_list=x\n",
    "    return new_list"
   ]
  },
  {
   "cell_type": "code",
   "execution_count": 5,
   "metadata": {},
   "outputs": [],
   "source": [
    "sum1 = 0\n",
    "\n",
    "lst = [65, 78, 21, 33]\n",
    "\n",
    "for x in lst:\n",
    "    sum1 = sum1 + x\n",
    "sum2=0\n",
    "ini=0\n",
    "while ini<len(lst):\n",
    "    sum2=sum2+lst[ini]\n",
    "    ini+=1\n"
   ]
  },
  {
   "cell_type": "code",
   "execution_count": 1,
   "metadata": {},
   "outputs": [],
   "source": [
    "\"\"\"Challenge: Write a function called beginning that takes a list as input and contains a while loop \n",
    "that only stops once the element of the list is the string ‘bye’. What is returned is a list that contains \n",
    "up to the first 10 strings, regardless of where the loop stops. (i.e., if it stops on the 32nd element, \n",
    "the first 10 are returned. If “bye” is the 5th element, the first 4 are returned.) If you want to make this even \n",
    "more of a challenge, do this without slicing\"\"\"\n",
    "\n",
    "def beginning():\n",
    "    ini=0\n",
    "    x=[]\n",
    "    dec=True\n",
    "    while dec:\n",
    "        x=list(input('\"enter the elements ...\"bye to stop\"'))\n",
    "        if 'bye' in x:\n",
    "            dec=False\n",
    "            \n",
    "        \n",
    "            \n",
    "        \n",
    "    \n",
    "    "
   ]
  },
  {
   "cell_type": "code",
   "execution_count": 3,
   "metadata": {},
   "outputs": [],
   "source": [
    "def waste(mar,var = \"Water\", marble = \"type\"):\n",
    "    final_string = var + \" \" + marble + \" \" + mar\n",
    "    return final_string\n"
   ]
  },
  {
   "cell_type": "code",
   "execution_count": 11,
   "metadata": {},
   "outputs": [],
   "source": [
    "def checkingIfIn(a, direction = True, d = {'apple': 2, 'pear': 1, 'fruit': 19, 'orange': 5, 'banana': 3, 'grapes': 2, 'watermelon': 7}):\n",
    "    if direction == True:\n",
    "        if a in d:\n",
    "            return d[a]\n",
    "        else:\n",
    "            return False\n",
    "    else:\n",
    "        if a not in d:\n",
    "            return True\n",
    "        else:\n",
    "            return d[a]\n",
    "\n",
    "# Call the function so that it returns False and assign that function call to the variable c_false\n",
    "c_false=checkingIfIn(\"dragon fruit\")\n",
    "\n",
    "# Call the fucntion so that it returns True and assign it to the variable c_true\n",
    "c_true=checkingIfIn(\"banana\")\n",
    "\n",
    "# Call the function so that the value of fruit is assigned to the variable fruit_ans\n",
    "fruit_ans=checkingIfIn(\"banana\")\n",
    "\n",
    "# Call the function using the first and third parameter so that the value 8 is assigned to the \n",
    "#variable param_check\n",
    "\n",
    "param_check=checkingIfIn(\"apple\",d={\"apple\":8})"
   ]
  },
  {
   "cell_type": "code",
   "execution_count": 12,
   "metadata": {},
   "outputs": [
    {
     "name": "stdout",
     "output_type": "stream",
     "text": [
      "8\n"
     ]
    }
   ],
   "source": [
    "print(param_check)"
   ]
  },
  {
   "cell_type": "code",
   "execution_count": 6,
   "metadata": {},
   "outputs": [
    {
     "name": "stdout",
     "output_type": "stream",
     "text": [
      "{'n', 'h', 'm', 'k', 'a', 'i', ' ', 's', 'e', 'y', 'o', 'l'}\n"
     ]
    }
   ],
   "source": [
    "x=\"hello my name is akshay\"\n",
    "y=set(x)\n",
    "sorted(y)\n",
    "print(y)"
   ]
  },
  {
   "cell_type": "code",
   "execution_count": 1,
   "metadata": {},
   "outputs": [],
   "source": [
    "s=[1,2,3,4,5,6,7]\n",
    "s.sort()"
   ]
  },
  {
   "cell_type": "code",
   "execution_count": 2,
   "metadata": {},
   "outputs": [
    {
     "name": "stdout",
     "output_type": "stream",
     "text": [
      "[1, 2, 3, 4, 5, 6, 7]\n"
     ]
    }
   ],
   "source": [
    "print(s)"
   ]
  },
  {
   "cell_type": "code",
   "execution_count": 3,
   "metadata": {},
   "outputs": [],
   "source": [
    "nums = ['1450', '33', '871', '19', '14378', '32', '1005', '44', '8907', '16']\n",
    "\n",
    "def last_char(x):\n",
    "    return x[-1]\n",
    "\n",
    "nums_sorted = sorted(nums,reverse=True,key=last_char)\n",
    "\n"
   ]
  },
  {
   "cell_type": "code",
   "execution_count": 4,
   "metadata": {},
   "outputs": [
    {
     "data": {
      "text/plain": [
       "['19', '14378', '8907', '16', '1005', '44', '33', '32', '871', '1450']"
      ]
     },
     "execution_count": 4,
     "metadata": {},
     "output_type": "execute_result"
    }
   ],
   "source": [
    "nums_sorted"
   ]
  },
  {
   "cell_type": "code",
   "execution_count": 5,
   "metadata": {},
   "outputs": [],
   "source": [
    "nums = ['1450', '33', '871', '19', '14378', '32', '1005', '44', '8907', '16']\n",
    "\n",
    "nums_sorted_lambda = sorted(nums,reverse=True,key=lambda x:x[-1])\n",
    "\n"
   ]
  },
  {
   "cell_type": "code",
   "execution_count": 6,
   "metadata": {},
   "outputs": [
    {
     "name": "stdout",
     "output_type": "stream",
     "text": [
      "E appears 2 times\n",
      "F appears 1 times\n",
      "B appears 2 times\n",
      "A appears 2 times\n",
      "D appears 4 times\n",
      "I appears 2 times\n",
      "C appears 1 times\n"
     ]
    }
   ],
   "source": [
    "L = ['E', 'F', 'B', 'A', 'D', 'I', 'I', 'C', 'B', 'A', 'D', 'D', 'E', 'D']\n",
    "\n",
    "d = {}\n",
    "for x in L:\n",
    "    if x in d:\n",
    "        d[x] = d[x] + 1\n",
    "    else:\n",
    "        d[x] = 1\n",
    "for x in d.keys():\n",
    "    print(\"{} appears {} times\".format(x, d[x]))\n"
   ]
  },
  {
   "cell_type": "code",
   "execution_count": 7,
   "metadata": {},
   "outputs": [
    {
     "name": "stdout",
     "output_type": "stream",
     "text": [
      "A appears 2 times\n",
      "B appears 2 times\n",
      "C appears 1 times\n",
      "D appears 4 times\n",
      "E appears 2 times\n",
      "F appears 1 times\n",
      "I appears 2 times\n"
     ]
    }
   ],
   "source": [
    "L = ['E', 'F', 'B', 'A', 'D', 'I', 'I', 'C', 'B', 'A', 'D', 'D', 'E', 'D']\n",
    "\n",
    "d = {}\n",
    "for x in L:\n",
    "    if x in d:\n",
    "        d[x] = d[x] + 1\n",
    "    else:\n",
    "        d[x] = 1\n",
    "y = sorted(d.keys())\n",
    "for k in y:\n",
    "    print(\"{} appears {} times\".format(k, d[k]))\n"
   ]
  },
  {
   "cell_type": "code",
   "execution_count": 8,
   "metadata": {},
   "outputs": [
    {
     "name": "stdout",
     "output_type": "stream",
     "text": [
      "D appears 4 times\n",
      "E appears 2 times\n",
      "B appears 2 times\n",
      "A appears 2 times\n",
      "I appears 2 times\n",
      "F appears 1 times\n",
      "C appears 1 times\n"
     ]
    }
   ],
   "source": [
    "L = ['E', 'F', 'B', 'A', 'D', 'I', 'I', 'C', 'B', 'A', 'D', 'D', 'E', 'D']\n",
    "\n",
    "d = {}\n",
    "for x in L:\n",
    "    if x in d:\n",
    "        d[x] = d[x] + 1\n",
    "    else:\n",
    "        d[x] = 1\n",
    "\n",
    "y = sorted(d.keys(), key=lambda k: d[k], reverse=True)\n",
    "for k in y:\n",
    "    print(\"{} appears {} times\".format(k, d[k]))\n"
   ]
  },
  {
   "cell_type": "code",
   "execution_count": 9,
   "metadata": {},
   "outputs": [
    {
     "name": "stdout",
     "output_type": "stream",
     "text": [
      "D appears 4 times\n",
      "E appears 2 times\n",
      "B appears 2 times\n",
      "A appears 2 times\n",
      "I appears 2 times\n",
      "F appears 1 times\n",
      "C appears 1 times\n"
     ]
    }
   ],
   "source": [
    "L = ['E', 'F', 'B', 'A', 'D', 'I', 'I', 'C', 'B', 'A', 'D', 'D', 'E', 'D']\n",
    "\n",
    "d = {}\n",
    "for x in L:\n",
    "    if x in d:\n",
    "        d[x] = d[x] + 1\n",
    "    else:\n",
    "        d[x] = 1\n",
    "\n",
    "# now loop through the sorted keys\n",
    "for k in sorted(d, key=lambda k: d[k], reverse=True):\n",
    "      print(\"{} appears {} times\".format(k, d[k]))\n"
   ]
  },
  {
   "cell_type": "code",
   "execution_count": 10,
   "metadata": {},
   "outputs": [],
   "source": [
    "dictionary = {\"Flowers\": 10, 'Trees': 20, 'Chairs': 6, \"Firepit\": 1, 'Grill': 2, 'Lights': 14}\n",
    "\n",
    "sorted_values=sorted(dictionary,reverse=True,key=lambda x:dictionary[x])"
   ]
  },
  {
   "cell_type": "code",
   "execution_count": 11,
   "metadata": {},
   "outputs": [
    {
     "data": {
      "text/plain": [
       "['Trees', 'Lights', 'Flowers', 'Chairs', 'Grill', 'Firepit']"
      ]
     },
     "execution_count": 11,
     "metadata": {},
     "output_type": "execute_result"
    }
   ],
   "source": [
    "sorted_values"
   ]
  },
  {
   "cell_type": "code",
   "execution_count": 12,
   "metadata": {},
   "outputs": [
    {
     "name": "stdout",
     "output_type": "stream",
     "text": [
      "('A', 2, 4)\n",
      "('A', 3, 2)\n",
      "('B', 3, 1)\n",
      "('C', 1, 2)\n",
      "('C', 1, 4)\n"
     ]
    }
   ],
   "source": [
    "tups = [('A', 3, 2),\n",
    "        ('C', 1, 4),\n",
    "        ('B', 3, 1),\n",
    "        ('A', 2, 4),\n",
    "        ('C', 1, 2)]\n",
    "for tup in sorted(tups):\n",
    "    print(tup)\n"
   ]
  },
  {
   "cell_type": "code",
   "execution_count": 13,
   "metadata": {},
   "outputs": [
    {
     "name": "stdout",
     "output_type": "stream",
     "text": [
      "kiwi\n",
      "pear\n",
      "apple\n",
      "mango\n",
      "peach\n",
      "papaya\n",
      "blueberry\n"
     ]
    }
   ],
   "source": [
    "fruits = ['peach', 'kiwi', 'apple', 'blueberry', 'papaya', 'mango', 'pear']\n",
    "new_order = sorted(fruits, key=lambda fruit_name: (len(fruit_name), fruit_name))\n",
    "for fruit in new_order:\n",
    "    print(fruit)\n"
   ]
  },
  {
   "cell_type": "code",
   "execution_count": 14,
   "metadata": {},
   "outputs": [
    {
     "name": "stdout",
     "output_type": "stream",
     "text": [
      "blueberry\n",
      "papaya\n",
      "peach\n",
      "mango\n",
      "apple\n",
      "pear\n",
      "kiwi\n"
     ]
    }
   ],
   "source": [
    "fruits = ['peach', 'kiwi', 'apple', 'blueberry', 'papaya', 'mango', 'pear']\n",
    "new_order = sorted(fruits, key=lambda fruit_name: (len(fruit_name), fruit_name), reverse=True)\n",
    "for fruit in new_order:\n",
    "    print(fruit)\n"
   ]
  },
  {
   "cell_type": "code",
   "execution_count": 15,
   "metadata": {},
   "outputs": [
    {
     "name": "stdout",
     "output_type": "stream",
     "text": [
      "blueberry\n",
      "papaya\n",
      "apple\n",
      "mango\n",
      "peach\n",
      "kiwi\n",
      "pear\n"
     ]
    }
   ],
   "source": [
    "fruits = ['peach', 'kiwi', 'apple', 'blueberry', 'papaya', 'mango', 'pear']\n",
    "new_order = sorted(fruits, key=lambda fruit_name: (-len(fruit_name), fruit_name))\n",
    "for fruit in new_order:\n",
    "    print(fruit)\n"
   ]
  },
  {
   "cell_type": "code",
   "execution_count": 16,
   "metadata": {},
   "outputs": [],
   "source": [
    "weather = {'Reykjavik': {'temp':60, 'condition': 'rainy'},\n",
    "           'Buenos Aires': {'temp': 55, 'condition': 'cloudy'},\n",
    "           'Cairo': {'temp': 96, 'condition': 'sunny'},\n",
    "           'Berlin': {'temp': 89, 'condition': 'sunny'},\n",
    "           'Caloocan': {'temp': 78, 'condition': 'sunny'}}\n",
    "\n",
    "sorted_weather = sorted(weather, key=lambda w: (w, weather[w]['temp']))\n"
   ]
  },
  {
   "cell_type": "code",
   "execution_count": 17,
   "metadata": {},
   "outputs": [
    {
     "data": {
      "text/plain": [
       "['Berlin', 'Buenos Aires', 'Cairo', 'Caloocan', 'Reykjavik']"
      ]
     },
     "execution_count": 17,
     "metadata": {},
     "output_type": "execute_result"
    }
   ],
   "source": [
    "sorted_weather"
   ]
  },
  {
   "cell_type": "code",
   "execution_count": 21,
   "metadata": {},
   "outputs": [],
   "source": [
    "medals = {'Japan':41, 'Russia':56, 'South Korea':21, 'United States':121, 'Germany':42, 'China':70}\n",
    "top_three=sorted(medals,key=lambda count:medals[count])\n"
   ]
  },
  {
   "cell_type": "code",
   "execution_count": 22,
   "metadata": {},
   "outputs": [
    {
     "data": {
      "text/plain": [
       "['South Korea', 'Japan', 'Germany', 'Russia', 'China', 'United States']"
      ]
     },
     "execution_count": 22,
     "metadata": {},
     "output_type": "execute_result"
    }
   ],
   "source": [
    "top_three"
   ]
  },
  {
   "cell_type": "code",
   "execution_count": 24,
   "metadata": {},
   "outputs": [],
   "source": [
    "groceries = {'apples': 5, 'pasta': 3, 'carrots': 12, 'orange juice': 2, 'bananas': 8, 'popcorn': 1, 'salsa': 3, 'cereal': 4, 'coffee': 5, 'granola bars': 15, 'onions': 7, 'rice': 1, 'peanut butter': 2, 'spinach': 9}\n",
    "\n",
    "most_needed=sorted(groceries,key=lambda fruit:groceries[fruit])"
   ]
  },
  {
   "cell_type": "code",
   "execution_count": 25,
   "metadata": {},
   "outputs": [
    {
     "data": {
      "text/plain": [
       "['popcorn',\n",
       " 'rice',\n",
       " 'orange juice',\n",
       " 'peanut butter',\n",
       " 'pasta',\n",
       " 'salsa',\n",
       " 'cereal',\n",
       " 'apples',\n",
       " 'coffee',\n",
       " 'onions',\n",
       " 'bananas',\n",
       " 'spinach',\n",
       " 'carrots',\n",
       " 'granola bars']"
      ]
     },
     "execution_count": 25,
     "metadata": {},
     "output_type": "execute_result"
    }
   ],
   "source": [
    "most_needed"
   ]
  },
  {
   "cell_type": "code",
   "execution_count": 28,
   "metadata": {},
   "outputs": [
    {
     "ename": "TypeError",
     "evalue": "'str' object is not callable",
     "output_type": "error",
     "traceback": [
      "\u001b[0;31m---------------------------------------------------------------------------\u001b[0m",
      "\u001b[0;31mTypeError\u001b[0m                                 Traceback (most recent call last)",
      "\u001b[0;32m<ipython-input-28-7e189e600f5b>\u001b[0m in \u001b[0;36m<module>\u001b[0;34m\u001b[0m\n\u001b[1;32m      4\u001b[0m \u001b[0;34m\u001b[0m\u001b[0m\n\u001b[1;32m      5\u001b[0m \u001b[0mids\u001b[0m \u001b[0;34m=\u001b[0m \u001b[0;34m[\u001b[0m\u001b[0;36m17573005\u001b[0m\u001b[0;34m,\u001b[0m \u001b[0;36m17572342\u001b[0m\u001b[0;34m,\u001b[0m \u001b[0;36m17579000\u001b[0m\u001b[0;34m,\u001b[0m \u001b[0;36m17570002\u001b[0m\u001b[0;34m,\u001b[0m \u001b[0;36m17572345\u001b[0m\u001b[0;34m,\u001b[0m \u001b[0;36m17579329\u001b[0m\u001b[0;34m]\u001b[0m\u001b[0;34m\u001b[0m\u001b[0;34m\u001b[0m\u001b[0m\n\u001b[0;32m----> 6\u001b[0;31m \u001b[0msorted_ids\u001b[0m\u001b[0;34m=\u001b[0m\u001b[0msorted\u001b[0m\u001b[0;34m(\u001b[0m\u001b[0mids\u001b[0m\u001b[0;34m,\u001b[0m\u001b[0mkey\u001b[0m\u001b[0;34m=\u001b[0m\u001b[0mlast_four\u001b[0m\u001b[0;34m(\u001b[0m\u001b[0mstr\u001b[0m\u001b[0;34m(\u001b[0m\u001b[0mids\u001b[0m\u001b[0;34m)\u001b[0m\u001b[0;34m)\u001b[0m\u001b[0;34m)\u001b[0m\u001b[0;34m\u001b[0m\u001b[0;34m\u001b[0m\u001b[0m\n\u001b[0m",
      "\u001b[0;31mTypeError\u001b[0m: 'str' object is not callable"
     ]
    }
   ],
   "source": [
    "def last_four(x):\n",
    "    return (x[-1:-5])\n",
    "\n",
    "\n",
    "ids = [17573005, 17572342, 17579000, 17570002, 17572345, 17579329]\n",
    "sorted_ids=sorted(ids,key=last_four(str(ids)))\n"
   ]
  },
  {
   "cell_type": "code",
   "execution_count": 29,
   "metadata": {},
   "outputs": [],
   "source": [
    "letters = \"alwnfiwaksuezlaeiajsdl\"\n",
    "sorted_letters=sorted(letters,reverse=True)"
   ]
  },
  {
   "cell_type": "code",
   "execution_count": 30,
   "metadata": {},
   "outputs": [],
   "source": [
    "animals = ['elephant', 'cat', 'moose', 'antelope', 'elk', 'rabbit', 'zebra', 'yak', 'salamander', 'deer', 'otter', 'minx', 'giraffe', 'goat', 'cow', 'tiger', 'bear']\n",
    "animals_sorted=sorted(animals)\n"
   ]
  },
  {
   "cell_type": "code",
   "execution_count": 31,
   "metadata": {},
   "outputs": [],
   "source": [
    "medals = {'Japan':41, 'Russia':56, 'South Korea':21, 'United States':121, 'Germany':42, 'China':70}\n",
    "alphabetical=sorted(medals)"
   ]
  },
  {
   "cell_type": "code",
   "execution_count": 95,
   "metadata": {},
   "outputs": [],
   "source": [
    "medals = {'Japan':41, 'Russia':56, 'South Korea':21, 'United States':121, 'Germany':42, 'China':70}\n",
    "r=sorted(medals,key=lambda count:medals[count],reverse=True)\n",
    "top_three=r[:3]"
   ]
  },
  {
   "cell_type": "code",
   "execution_count": 98,
   "metadata": {},
   "outputs": [
    {
     "data": {
      "text/plain": [
       "['granola bars',\n",
       " 'carrots',\n",
       " 'spinach',\n",
       " 'bananas',\n",
       " 'onions',\n",
       " 'apples',\n",
       " 'coffee',\n",
       " 'cereal',\n",
       " 'pasta',\n",
       " 'salsa',\n",
       " 'orange juice',\n",
       " 'peanut butter',\n",
       " 'popcorn',\n",
       " 'rice']"
      ]
     },
     "execution_count": 98,
     "metadata": {},
     "output_type": "execute_result"
    }
   ],
   "source": [
    "groceries = {'apples': 5, 'pasta': 3, 'carrots': 12, 'orange juice': 2, 'bananas': 8, 'popcorn': 1, 'salsa': 3, \n",
    "             'cereal': 4, 'coffee': 5, 'granola bars': 15, 'onions': 7, 'rice': 1, 'peanut butter': 2,\n",
    "             'spinach': 9}\n",
    "\n",
    "most_needed=sorted(groceries,key=lambda fruit:groceries[fruit],reverse=True)\n",
    "most_needed"
   ]
  },
  {
   "cell_type": "code",
   "execution_count": 99,
   "metadata": {},
   "outputs": [],
   "source": [
    "ex_lst = ['hi', 'how are you', 'bye', 'apple', 'zebra', 'dance']\n",
    "lambda_sort=sorted(ex_lst,key=lambda x:x[1])\n"
   ]
  },
  {
   "cell_type": "code",
   "execution_count": 104,
   "metadata": {},
   "outputs": [],
   "source": [
    "def last_four(x):\n",
    "    new_list=[]\n",
    "    for i in x:\n",
    "        s=str(i)\n",
    "        new_list.append(s[-4:])\n",
    "        \n",
    "    return new_list\n",
    "\n",
    "\n",
    "ids = [17573005, 17572342, 17579000, 17570002, 17572345, 17579329]\n",
    "sorted_id=sorted(str(ids),key=last_four)\n"
   ]
  },
  {
   "cell_type": "code",
   "execution_count": 105,
   "metadata": {},
   "outputs": [
    {
     "data": {
      "text/plain": [
       "['3005', '2342', '9000', '0002', '2345', '9329']"
      ]
     },
     "execution_count": 105,
     "metadata": {},
     "output_type": "execute_result"
    }
   ],
   "source": [
    "last_four(ids)"
   ]
  },
  {
   "cell_type": "code",
   "execution_count": 89,
   "metadata": {},
   "outputs": [],
   "source": [
    "punctuation_chars = [\"'\", '\"', \",\", \".\", \"!\", \":\", \";\", '#', '@']\n",
    "\n",
    "def strip_punctuation(x):\n",
    "    s=\"\"\n",
    "    for i in x:\n",
    "        if x in punctuation_chars:\n",
    "            continue\n",
    "        else:\n",
    "            s=s+i\n",
    "        return s \n",
    "            \n",
    "            "
   ]
  },
  {
   "cell_type": "code",
   "execution_count": 90,
   "metadata": {},
   "outputs": [
    {
     "data": {
      "text/plain": [
       "':'"
      ]
     },
     "execution_count": 90,
     "metadata": {},
     "output_type": "execute_result"
    }
   ],
   "source": [
    "a=':aksh@ay'\n",
    "strip_punctuation(a)\n"
   ]
  },
  {
   "cell_type": "code",
   "execution_count": 91,
   "metadata": {},
   "outputs": [],
   "source": [
    "punctuation_chars = [\"'\", '\"', \",\", \".\", \"!\", \":\", \";\", '#', '@']\n",
    "def strip_punctuation(x):\n",
    "    a=\"\"\n",
    "    for i in x:\n",
    "        if i not in punctuation_chars:\n",
    "            a=a+i\n",
    "        else:\n",
    "            continue\n",
    "    return a\n"
   ]
  },
  {
   "cell_type": "code",
   "execution_count": 92,
   "metadata": {},
   "outputs": [
    {
     "data": {
      "text/plain": [
       "'akshay'"
      ]
     },
     "execution_count": 92,
     "metadata": {},
     "output_type": "execute_result"
    }
   ],
   "source": [
    "strip_punctuation('#akshay')"
   ]
  },
  {
   "cell_type": "code",
   "execution_count": 94,
   "metadata": {},
   "outputs": [
    {
     "ename": "FileNotFoundError",
     "evalue": "[Errno 2] No such file or directory: 'positive_words.txt'",
     "output_type": "error",
     "traceback": [
      "\u001b[0;31m---------------------------------------------------------------------------\u001b[0m",
      "\u001b[0;31mFileNotFoundError\u001b[0m                         Traceback (most recent call last)",
      "\u001b[0;32m<ipython-input-94-7d42c89ca96b>\u001b[0m in \u001b[0;36m<module>\u001b[0;34m\u001b[0m\n\u001b[1;32m      2\u001b[0m \u001b[0;31m# list of positive words to use\u001b[0m\u001b[0;34m\u001b[0m\u001b[0;34m\u001b[0m\u001b[0;34m\u001b[0m\u001b[0m\n\u001b[1;32m      3\u001b[0m \u001b[0mpositive_words\u001b[0m \u001b[0;34m=\u001b[0m \u001b[0;34m[\u001b[0m\u001b[0;34m]\u001b[0m\u001b[0;34m\u001b[0m\u001b[0;34m\u001b[0m\u001b[0m\n\u001b[0;32m----> 4\u001b[0;31m \u001b[0;32mwith\u001b[0m \u001b[0mopen\u001b[0m\u001b[0;34m(\u001b[0m\u001b[0;34m\"positive_words.txt\"\u001b[0m\u001b[0;34m)\u001b[0m \u001b[0;32mas\u001b[0m \u001b[0mpos_f\u001b[0m\u001b[0;34m:\u001b[0m\u001b[0;34m\u001b[0m\u001b[0;34m\u001b[0m\u001b[0m\n\u001b[0m\u001b[1;32m      5\u001b[0m     \u001b[0;32mfor\u001b[0m \u001b[0mlin\u001b[0m \u001b[0;32min\u001b[0m \u001b[0mpos_f\u001b[0m\u001b[0;34m:\u001b[0m\u001b[0;34m\u001b[0m\u001b[0;34m\u001b[0m\u001b[0m\n\u001b[1;32m      6\u001b[0m         \u001b[0;32mif\u001b[0m \u001b[0mlin\u001b[0m\u001b[0;34m[\u001b[0m\u001b[0;36m0\u001b[0m\u001b[0;34m]\u001b[0m \u001b[0;34m!=\u001b[0m \u001b[0;34m';'\u001b[0m \u001b[0;32mand\u001b[0m \u001b[0mlin\u001b[0m\u001b[0;34m[\u001b[0m\u001b[0;36m0\u001b[0m\u001b[0;34m]\u001b[0m \u001b[0;34m!=\u001b[0m \u001b[0;34m'\\n'\u001b[0m\u001b[0;34m:\u001b[0m\u001b[0;34m\u001b[0m\u001b[0;34m\u001b[0m\u001b[0m\n",
      "\u001b[0;31mFileNotFoundError\u001b[0m: [Errno 2] No such file or directory: 'positive_words.txt'"
     ]
    }
   ],
   "source": [
    "punctuation_chars = [\"'\", '\"', \",\", \".\", \"!\", \":\", \";\", '#', '@']\n",
    "# list of positive words to use\n",
    "positive_words = []\n",
    "with open(\"positive_words.txt\") as pos_f:\n",
    "    for lin in pos_f:\n",
    "        if lin[0] != ';' and lin[0] != '\\n':\n",
    "            positive_words.append(lin.strip())\n",
    "            \n",
    "    def get_pos(x):\n",
    "        count=0\n",
    "        for i in x.lower():\n",
    "            if str(i) in positive_words:\n",
    "                count+=1\n",
    "        return count      \n"
   ]
  },
  {
   "cell_type": "code",
   "execution_count": 106,
   "metadata": {},
   "outputs": [],
   "source": [
    "def last_four(x):\n",
    "    x=str(x)\n",
    "    return x[-4:]\n",
    "    \n",
    "        \n",
    "    return new_list\n",
    "\n",
    "\n",
    "ids = [17573005, 17572342, 17579000, 17570002, 17572345, 17579329]\n",
    "\n",
    "\n",
    "\n",
    "\n",
    "ids = [17573005, 17572342, 17579000, 17570002, 17572345, 17579329]\n",
    "sorted_ids=sorted(ids,key=last_four)"
   ]
  },
  {
   "cell_type": "code",
   "execution_count": 107,
   "metadata": {},
   "outputs": [
    {
     "data": {
      "text/plain": [
       "'he00o wor0d'"
      ]
     },
     "execution_count": 107,
     "metadata": {},
     "output_type": "execute_result"
    }
   ],
   "source": [
    "a=\"hello world\"\n",
    "a.replace()"
   ]
  },
  {
   "cell_type": "code",
   "execution_count": 120,
   "metadata": {},
   "outputs": [],
   "source": [
    "punctuation_chars = [\"'\", '\"', \",\", \".\", \"!\", \":\", \";\", '#', '@']\n",
    "\n",
    "def strip_punctuation(x):\n",
    "    for i in punctuation_chars:\n",
    "        x=x.replace(i,\"\")\n",
    "    return x"
   ]
  },
  {
   "cell_type": "code",
   "execution_count": 121,
   "metadata": {},
   "outputs": [
    {
     "name": "stdout",
     "output_type": "stream",
     "text": [
      "hello\n"
     ]
    }
   ],
   "source": [
    "strip_punctuation('hello#')"
   ]
  },
  {
   "cell_type": "code",
   "execution_count": 1,
   "metadata": {},
   "outputs": [
    {
     "name": "stdout",
     "output_type": "stream",
     "text": [
      "\n",
      "\n",
      "\n",
      "{\n",
      " \"resultCount\":25,\n",
      " \"results\": [\n",
      "{\"wrapperType\":\"track\", \"kind\":\"podcast\", \"collectionId\":10892}]}\n",
      "------\n",
      "<class 'dict'>\n",
      "dict_keys(['resultCount', 'results'])\n",
      "25\n"
     ]
    }
   ],
   "source": [
    "import json\n",
    "a_string = '\\n\\n\\n{\\n \"resultCount\":25,\\n \"results\": [\\n{\"wrapperType\":\"track\", \"kind\":\"podcast\", \"collectionId\":10892}]}'\n",
    "print(a_string)\n",
    "d = json.loads(a_string)\n",
    "print(\"------\")\n",
    "print(type(d))\n",
    "print(d.keys())\n",
    "print(d['resultCount'])\n",
    "# print(a_string['resultCount'])\n"
   ]
  },
  {
   "cell_type": "code",
   "execution_count": 2,
   "metadata": {},
   "outputs": [
    {
     "name": "stdout",
     "output_type": "stream",
     "text": [
      "{'key1': {'c': True, 'a': 90, '5': 50}, 'key2': {'b': 3, 'c': 'yes'}}\n",
      "--------\n",
      "{\n",
      "  \"key1\": {\n",
      "    \"5\": 50,\n",
      "    \"a\": 90,\n",
      "    \"c\": true\n",
      "  },\n",
      "  \"key2\": {\n",
      "    \"b\": 3,\n",
      "    \"c\": \"yes\"\n",
      "  }\n",
      "}\n"
     ]
    }
   ],
   "source": [
    "import json\n",
    "def pretty(obj):\n",
    "    return json.dumps(obj, sort_keys=True, indent=2)\n",
    "\n",
    "d = {'key1': {'c': True, 'a': 90, '5': 50}, 'key2':{'b': 3, 'c': \"yes\"}}\n",
    "\n",
    "print(d)\n",
    "print('--------')\n",
    "print(pretty(d))\n"
   ]
  },
  {
   "cell_type": "code",
   "execution_count": 3,
   "metadata": {},
   "outputs": [
    {
     "name": "stdout",
     "output_type": "stream",
     "text": [
      "level1: \n",
      "1\n",
      "level1: \n",
      "2\n",
      "level1: \n",
      "     level2: a\n",
      "     level2: b\n",
      "     level2: c\n",
      "level1: \n",
      "     level2: d\n",
      "     level2: e\n",
      "level1: \n",
      "     level2: f\n",
      "     level2: g\n",
      "     level2: h\n"
     ]
    }
   ],
   "source": [
    "nested1 = [1, 2, ['a', 'b', 'c'],['d', 'e'],['f', 'g', 'h']]\n",
    "for x in nested1:\n",
    "    print(\"level1: \")\n",
    "    if type(x) is list:\n",
    "        for y in x:\n",
    "            print(\"     level2: {}\".format(y))\n",
    "    else:\n",
    "        print(x)\n"
   ]
  },
  {
   "cell_type": "code",
   "execution_count": 7,
   "metadata": {},
   "outputs": [
    {
     "name": "stdout",
     "output_type": "stream",
     "text": [
      "[1, 2, 3, 4, 5, 6, 7, 8]\n"
     ]
    }
   ],
   "source": [
    "a=[1,2,3,4,5,6,7]\n",
    "b=a\n",
    "b.append(8)\n",
    "print(a)"
   ]
  },
  {
   "cell_type": "code",
   "execution_count": 8,
   "metadata": {},
   "outputs": [
    {
     "name": "stdout",
     "output_type": "stream",
     "text": [
      "[1, 2, 3, 4, 5, 6, 7]\n"
     ]
    }
   ],
   "source": [
    "a=[1,2,3,4,5,6,7]\n",
    "b=a[:]\n",
    "b.append(8)\n",
    "print(a)"
   ]
  },
  {
   "cell_type": "code",
   "execution_count": 4,
   "metadata": {},
   "outputs": [],
   "source": [
    "x=[[1,2,3,4,5],[6,7,8,9,0]]\n",
    "outer=[]\n",
    "inner=[]\n",
    "for i in x:\n",
    "    for y in i:\n",
    "        inner.append(y)\n",
    "    outer.append(i)"
   ]
  },
  {
   "cell_type": "code",
   "execution_count": 6,
   "metadata": {},
   "outputs": [
    {
     "data": {
      "text/plain": [
       "[[1, 2, 3, 4, 5], [6, 7, 8, 9, 0]]"
      ]
     },
     "execution_count": 6,
     "metadata": {},
     "output_type": "execute_result"
    }
   ],
   "source": [
    "inner\n",
    "outer"
   ]
  },
  {
   "cell_type": "code",
   "execution_count": 7,
   "metadata": {},
   "outputs": [
    {
     "name": "stdout",
     "output_type": "stream",
     "text": [
      "-------- Original -----------\n",
      "[['canines', ['dogs', 'puppies'], ['marsupials']], ['felines', ['cats', 'kittens']], 'Hi there']\n",
      "-------- deep copy -----------\n",
      "[['canines', ['dogs', 'puppies']], ['felines', ['cats', 'kittens']]]\n",
      "-------- shallow copy -----------\n",
      "[['canines', ['dogs', 'puppies'], ['marsupials']], ['felines', ['cats', 'kittens']]]\n"
     ]
    }
   ],
   "source": [
    "import copy\n",
    "original = [['canines', ['dogs', 'puppies']], ['felines', ['cats', 'kittens']]]\n",
    "shallow_copy_version = original[:]\n",
    "deeply_copied_version = copy.deepcopy(original)\n",
    "original.append(\"Hi there\")\n",
    "original[0].append([\"marsupials\"])\n",
    "print(\"-------- Original -----------\")\n",
    "print(original)\n",
    "print(\"-------- deep copy -----------\")\n",
    "print(deeply_copied_version)\n",
    "print(\"-------- shallow copy -----------\")\n",
    "print(shallow_copy_version)\n"
   ]
  },
  {
   "cell_type": "code",
   "execution_count": 8,
   "metadata": {},
   "outputs": [],
   "source": [
    "res = {\n",
    "  \"search_metadata\": {\n",
    "    \"count\": 3,\n",
    "    \"completed_in\": 0.015,\n",
    "    \"max_id_str\": \"536624519285583872\",\n",
    "    \"since_id_str\": \"0\",\n",
    "    \"next_results\": \"?max_id=536623674942439424&q=University%20of%20Michigan&count=3&include_entities=1\",\n",
    "    \"refresh_url\": \"?since_id=536624519285583872&q=University%20of%20Michigan&include_entities=1\",\n",
    "    \"since_id\": 0,\n",
    "    \"query\": \"University+of+Michigan\",\n",
    "    \"max_id\": 536624519285583872\n",
    "  },\n",
    "  \"statuses\": [\n",
    "    {\n",
    "      \"contributors\": None,\n",
    "      \"truncated\": False,\n",
    "      \"text\": \"RT @mikeweber25: I'm decommiting from the university of Michigan thank you Michigan for the love and support I'll remake my decision at the\\u2026\",\n",
    "      \"in_reply_to_status_id\": None,\n",
    "      \"id\": 536624519285583872,\n",
    "      \"favorite_count\": 0,\n",
    "      \"source\": \"<a href=\\\"http://twitter.com/download/iphone\\\" rel=\\\"nofollow\\\">Twitter for iPhone</a>\",\n",
    "      \"retweeted\": False,\n",
    "      \"coordinates\": None,\n",
    "      \"entities\": {\n",
    "        \"symbols\": [],\n",
    "        \"user_mentions\": [\n",
    "          {\n",
    "            \"id\": 1119996684,\n",
    "            \"indices\": [\n",
    "              3,\n",
    "              15\n",
    "            ],\n",
    "            \"id_str\": \"1119996684\",\n",
    "            \"screen_name\": \"mikeweber25\",\n",
    "            \"name\": \"Mikey\"\n",
    "          }\n",
    "        ],\n",
    "        \"hashtags\": [],\n",
    "        \"urls\": []\n",
    "      },\n",
    "      \"in_reply_to_screen_name\": None,\n",
    "      \"in_reply_to_user_id\": None,\n",
    "      \"retweet_count\": 2014,\n",
    "      \"id_str\": \"536624519285583872\",\n",
    "      \"favorited\": False,\n",
    "      \"retweeted_status\": {\n",
    "        \"contributors\": None,\n",
    "        \"truncated\": False,\n",
    "        \"text\": \"I'm decommiting from the university of Michigan thank you Michigan for the love and support I'll remake my decision at the army bowl\",\n",
    "        \"in_reply_to_status_id\": None,\n",
    "        \"id\": 536300265616322560,\n",
    "        \"favorite_count\": 1583,\n",
    "        \"source\": \"<a href=\\\"http://twitter.com/download/iphone\\\" rel=\\\"nofollow\\\">Twitter for iPhone</a>\",\n",
    "        \"retweeted\": False,\n",
    "        \"coordinates\": None,\n",
    "        \"entities\": {\n",
    "          \"symbols\": [],\n",
    "          \"user_mentions\": [],\n",
    "          \"hashtags\": [],\n",
    "          \"urls\": []\n",
    "        },\n",
    "        \"in_reply_to_screen_name\": None,\n",
    "        \"in_reply_to_user_id\": None,\n",
    "        \"retweet_count\": 2014,\n",
    "        \"id_str\": \"536300265616322560\",\n",
    "        \"favorited\": False,\n",
    "        \"user\": {\n",
    "          \"follow_request_sent\": False,\n",
    "          \"profile_use_background_image\": True,\n",
    "          \"profile_text_color\": \"666666\",\n",
    "          \"default_profile_image\": False,\n",
    "          \"id\": 1119996684,\n",
    "          \"profile_background_image_url_https\": \"https://abs.twimg.com/images/themes/theme9/bg.gif\",\n",
    "          \"verified\": False,\n",
    "          \"profile_location\": None,\n",
    "          \"profile_image_url_https\": \"https://pbs.twimg.com/profile_images/534465900343083008/A09dIq1d_normal.jpeg\",\n",
    "          \"profile_sidebar_fill_color\": \"252429\",\n",
    "          \"entities\": {\n",
    "            \"description\": {\n",
    "              \"urls\": []\n",
    "            }\n",
    "          },\n",
    "          \"followers_count\": 5444,\n",
    "          \"profile_sidebar_border_color\": \"FFFFFF\",\n",
    "          \"id_str\": \"1119996684\",\n",
    "          \"profile_background_color\": \"C0DEED\",\n",
    "          \"listed_count\": 36,\n",
    "          \"is_translation_enabled\": False,\n",
    "          \"utc_offset\": None,\n",
    "          \"statuses_count\": 6525,\n",
    "          \"description\": \"Mike Weber (U.S Army All American) DETROIT CTSENIOR State Champion\",\n",
    "          \"friends_count\": 693,\n",
    "          \"location\": \"\",\n",
    "          \"profile_link_color\": \"0084B4\",\n",
    "          \"profile_image_url\": \"http://pbs.twimg.com/profile_images/534465900343083008/A09dIq1d_normal.jpeg\",\n",
    "          \"following\": False,\n",
    "          \"geo_enabled\": False,\n",
    "          \"profile_banner_url\": \"https://pbs.twimg.com/profile_banners/1119996684/1416261575\",\n",
    "          \"profile_background_image_url\": \"http://abs.twimg.com/images/themes/theme9/bg.gif\",\n",
    "          \"name\": \"Mikey\",\n",
    "          \"lang\": \"en\",\n",
    "          \"profile_background_tile\": False,\n",
    "          \"favourites_count\": 1401,\n",
    "          \"screen_name\": \"mikeweber25\",\n",
    "          \"notifications\": False,\n",
    "          \"url\": None,\n",
    "          \"created_at\": \"Fri Jan 25 18:45:53 +0000 2013\",\n",
    "          \"contributors_enabled\": False,\n",
    "          \"time_zone\": None,\n",
    "          \"protected\": False,\n",
    "          \"default_profile\": False,\n",
    "          \"is_translator\": False\n",
    "        },\n",
    "        \"geo\": None,\n",
    "        \"in_reply_to_user_id_str\": None,\n",
    "        \"lang\": \"en\",\n",
    "        \"created_at\": \"Sat Nov 22 23:28:41 +0000 2014\",\n",
    "        \"in_reply_to_status_id_str\": None,\n",
    "        \"place\": None,\n",
    "        \"metadata\": {\n",
    "          \"iso_language_code\": \"en\",\n",
    "          \"result_type\": \"recent\"\n",
    "        }\n",
    "      },\n",
    "      \"user\": {\n",
    "        \"follow_request_sent\": False,\n",
    "        \"profile_use_background_image\": True,\n",
    "        \"profile_text_color\": \"333333\",\n",
    "        \"default_profile_image\": False,\n",
    "        \"id\": 2435537208,\n",
    "        \"profile_background_image_url_https\": \"https://abs.twimg.com/images/themes/theme1/bg.png\",\n",
    "        \"verified\": False,\n",
    "        \"profile_location\": None,\n",
    "        \"profile_image_url_https\": \"https://pbs.twimg.com/profile_images/532694075947110400/oZEP5XNQ_normal.jpeg\",\n",
    "        \"profile_sidebar_fill_color\": \"DDEEF6\",\n",
    "        \"entities\": {\n",
    "          \"description\": {\n",
    "            \"urls\": []\n",
    "          }\n",
    "        },\n",
    "        \"followers_count\": 161,\n",
    "        \"profile_sidebar_border_color\": \"C0DEED\",\n",
    "        \"id_str\": \"2435537208\",\n",
    "        \"profile_background_color\": \"C0DEED\",\n",
    "        \"listed_count\": 0,\n",
    "        \"is_translation_enabled\": False,\n",
    "        \"utc_offset\": None,\n",
    "        \"statuses_count\": 524,\n",
    "        \"description\": \"Delasalle '17 Baseball & Football.\",\n",
    "        \"friends_count\": 255,\n",
    "        \"location\": \"\",\n",
    "        \"profile_link_color\": \"0084B4\",\n",
    "        \"profile_image_url\": \"http://pbs.twimg.com/profile_images/532694075947110400/oZEP5XNQ_normal.jpeg\",\n",
    "        \"following\": False,\n",
    "        \"geo_enabled\": False,\n",
    "        \"profile_banner_url\": \"https://pbs.twimg.com/profile_banners/2435537208/1406779364\",\n",
    "        \"profile_background_image_url\": \"http://abs.twimg.com/images/themes/theme1/bg.png\",\n",
    "        \"name\": \"Andrew Brooks\",\n",
    "        \"lang\": \"en\",\n",
    "        \"profile_background_tile\": False,\n",
    "        \"favourites_count\": 555,\n",
    "        \"screen_name\": \"31brooks_\",\n",
    "        \"notifications\": False,\n",
    "        \"url\": None,\n",
    "        \"created_at\": \"Wed Apr 09 14:34:41 +0000 2014\",\n",
    "        \"contributors_enabled\": False,\n",
    "        \"time_zone\": None,\n",
    "        \"protected\": False,\n",
    "        \"default_profile\": True,\n",
    "        \"is_translator\": False\n",
    "      },\n",
    "      \"geo\": None,\n",
    "      \"in_reply_to_user_id_str\": None,\n",
    "      \"lang\": \"en\",\n",
    "      \"created_at\": \"Sun Nov 23 20:57:10 +0000 2014\",\n",
    "      \"in_reply_to_status_id_str\": None,\n",
    "      \"place\": None,\n",
    "      \"metadata\": {\n",
    "        \"iso_language_code\": \"en\",\n",
    "        \"result_type\": \"recent\"\n",
    "      }\n",
    "    },\n",
    "    {\n",
    "      \"contributors\": None,\n",
    "      \"truncated\": False,\n",
    "      \"text\": \"RT @Plantedd: The University of Michigan moved a big Bur Oak yesterday. 65ft tall. 350+ tons. http://t.co/v2Y6vl3f9e\",\n",
    "      \"in_reply_to_status_id\": None,\n",
    "      \"id\": 536624216305848320,\n",
    "      \"favorite_count\": 0,\n",
    "      \"source\": \"<a href=\\\"http://tapbots.com/tweetbot\\\" rel=\\\"nofollow\\\">Tweetbot for i\\u039fS</a>\",\n",
    "      \"retweeted\": False,\n",
    "      \"coordinates\": None,\n",
    "      \"entities\": {\n",
    "        \"symbols\": [],\n",
    "        \"user_mentions\": [\n",
    "          {\n",
    "            \"id\": 462890283,\n",
    "            \"indices\": [\n",
    "              3,\n",
    "              12\n",
    "            ],\n",
    "            \"id_str\": \"462890283\",\n",
    "            \"screen_name\": \"Plantedd\",\n",
    "            \"name\": \"David Wong\"\n",
    "          }\n",
    "        ],\n",
    "        \"hashtags\": [],\n",
    "        \"urls\": [],\n",
    "        \"media\": [\n",
    "          {\n",
    "            \"source_status_id_str\": \"526276522374889472\",\n",
    "            \"expanded_url\": \"http://twitter.com/Plantedd/status/526276522374889472/photo/1\",\n",
    "            \"display_url\": \"pic.twitter.com/v2Y6vl3f9e\",\n",
    "            \"url\": \"http://t.co/v2Y6vl3f9e\",\n",
    "            \"media_url_https\": \"https://pbs.twimg.com/media/B021tLsIYAADq21.jpg\",\n",
    "            \"source_status_id\": 526276522374889472,\n",
    "            \"id_str\": \"526276519308845056\",\n",
    "            \"sizes\": {\n",
    "              \"small\": {\n",
    "                \"h\": 191,\n",
    "                \"resize\": \"fit\",\n",
    "                \"w\": 340\n",
    "              },\n",
    "              \"large\": {\n",
    "                \"h\": 576,\n",
    "                \"resize\": \"fit\",\n",
    "                \"w\": 1024\n",
    "              },\n",
    "              \"medium\": {\n",
    "                \"h\": 337,\n",
    "                \"resize\": \"fit\",\n",
    "                \"w\": 600\n",
    "              },\n",
    "              \"thumb\": {\n",
    "                \"h\": 150,\n",
    "                \"resize\": \"crop\",\n",
    "                \"w\": 150\n",
    "              }\n",
    "            },\n",
    "            \"indices\": [\n",
    "              94,\n",
    "              116\n",
    "            ],\n",
    "            \"type\": \"photo\",\n",
    "            \"id\": 526276519308845056,\n",
    "            \"media_url\": \"http://pbs.twimg.com/media/B021tLsIYAADq21.jpg\"\n",
    "          }\n",
    "        ]\n",
    "      },\n",
    "      \"in_reply_to_screen_name\": None,\n",
    "      \"in_reply_to_user_id\": None,\n",
    "      \"retweet_count\": 27,\n",
    "      \"id_str\": \"536624216305848320\",\n",
    "      \"favorited\": False,\n",
    "      \"retweeted_status\": {\n",
    "        \"contributors\": None,\n",
    "        \"truncated\": False,\n",
    "        \"text\": \"The University of Michigan moved a big Bur Oak yesterday. 65ft tall. 350+ tons. http://t.co/v2Y6vl3f9e\",\n",
    "        \"in_reply_to_status_id\": None,\n",
    "        \"id\": 526276522374889472,\n",
    "        \"favorite_count\": 25,\n",
    "        \"source\": \"<a href=\\\"http://twitter.com/download/iphone\\\" rel=\\\"nofollow\\\">Twitter for iPhone</a>\",\n",
    "        \"retweeted\": False,\n",
    "        \"coordinates\": None,\n",
    "        \"entities\": {\n",
    "          \"symbols\": [],\n",
    "          \"user_mentions\": [],\n",
    "          \"hashtags\": [],\n",
    "          \"urls\": [],\n",
    "          \"media\": [\n",
    "            {\n",
    "              \"expanded_url\": \"http://twitter.com/Plantedd/status/526276522374889472/photo/1\",\n",
    "              \"display_url\": \"pic.twitter.com/v2Y6vl3f9e\",\n",
    "              \"url\": \"http://t.co/v2Y6vl3f9e\",\n",
    "              \"media_url_https\": \"https://pbs.twimg.com/media/B021tLsIYAADq21.jpg\",\n",
    "              \"id_str\": \"526276519308845056\",\n",
    "              \"sizes\": {\n",
    "                \"small\": {\n",
    "                  \"h\": 191,\n",
    "                  \"resize\": \"fit\",\n",
    "                  \"w\": 340\n",
    "                },\n",
    "                \"large\": {\n",
    "                  \"h\": 576,\n",
    "                  \"resize\": \"fit\",\n",
    "                  \"w\": 1024\n",
    "                },\n",
    "                \"medium\": {\n",
    "                  \"h\": 337,\n",
    "                  \"resize\": \"fit\",\n",
    "                  \"w\": 600\n",
    "                },\n",
    "                \"thumb\": {\n",
    "                  \"h\": 150,\n",
    "                  \"resize\": \"crop\",\n",
    "                  \"w\": 150\n",
    "                }\n",
    "              },\n",
    "              \"indices\": [\n",
    "                80,\n",
    "                102\n",
    "              ],\n",
    "              \"type\": \"photo\",\n",
    "              \"id\": 526276519308845056,\n",
    "              \"media_url\": \"http://pbs.twimg.com/media/B021tLsIYAADq21.jpg\"\n",
    "            }\n",
    "          ]\n",
    "        },\n",
    "        \"in_reply_to_screen_name\": None,\n",
    "        \"in_reply_to_user_id\": None,\n",
    "        \"retweet_count\": 27,\n",
    "        \"id_str\": \"526276522374889472\",\n",
    "        \"favorited\": False,\n",
    "        \"user\": {\n",
    "          \"follow_request_sent\": False,\n",
    "          \"profile_use_background_image\": True,\n",
    "          \"profile_text_color\": \"333333\",\n",
    "          \"default_profile_image\": False,\n",
    "          \"id\": 462890283,\n",
    "          \"profile_background_image_url_https\": \"https://abs.twimg.com/images/themes/theme1/bg.png\",\n",
    "          \"verified\": False,\n",
    "          \"profile_location\": None,\n",
    "          \"profile_image_url_https\": \"https://pbs.twimg.com/profile_images/1791926707/Plantedd_Logo__square__normal.jpg\",\n",
    "          \"profile_sidebar_fill_color\": \"DDEEF6\",\n",
    "          \"entities\": {\n",
    "            \"url\": {\n",
    "              \"urls\": [\n",
    "                {\n",
    "                  \"url\": \"http://t.co/ZOnsCHvoKt\",\n",
    "                  \"indices\": [\n",
    "                    0,\n",
    "                    22\n",
    "                  ],\n",
    "                  \"expanded_url\": \"http://www.plantedd.com\",\n",
    "                  \"display_url\": \"plantedd.com\"\n",
    "                }\n",
    "              ]\n",
    "            },\n",
    "            \"description\": {\n",
    "              \"urls\": []\n",
    "            }\n",
    "          },\n",
    "          \"followers_count\": 2598,\n",
    "          \"profile_sidebar_border_color\": \"C0DEED\",\n",
    "          \"id_str\": \"462890283\",\n",
    "          \"profile_background_color\": \"C0DEED\",\n",
    "          \"listed_count\": 61,\n",
    "          \"is_translation_enabled\": False,\n",
    "          \"utc_offset\": 0,\n",
    "          \"statuses_count\": 8157,\n",
    "          \"description\": \"Hello, I'm the supervillain behind Plantedd. We're an online market for plant lovers plotting to take over the world by making it simple to find and buy plants.\",\n",
    "          \"friends_count\": 2664,\n",
    "          \"location\": \"UK\",\n",
    "          \"profile_link_color\": \"0084B4\",\n",
    "          \"profile_image_url\": \"http://pbs.twimg.com/profile_images/1791926707/Plantedd_Logo__square__normal.jpg\",\n",
    "          \"following\": False,\n",
    "          \"geo_enabled\": False,\n",
    "          \"profile_banner_url\": \"https://pbs.twimg.com/profile_banners/462890283/1398254314\",\n",
    "          \"profile_background_image_url\": \"http://abs.twimg.com/images/themes/theme1/bg.png\",\n",
    "          \"name\": \"David Wong\",\n",
    "          \"lang\": \"en\",\n",
    "          \"profile_background_tile\": False,\n",
    "          \"favourites_count\": 371,\n",
    "          \"screen_name\": \"Plantedd\",\n",
    "          \"notifications\": False,\n",
    "          \"url\": \"http://t.co/ZOnsCHvoKt\",\n",
    "          \"created_at\": \"Fri Jan 13 13:46:46 +0000 2012\",\n",
    "          \"contributors_enabled\": False,\n",
    "          \"time_zone\": \"Edinburgh\",\n",
    "          \"protected\": False,\n",
    "          \"default_profile\": True,\n",
    "          \"is_translator\": False\n",
    "        },\n",
    "        \"geo\": None,\n",
    "        \"in_reply_to_user_id_str\": None,\n",
    "        \"possibly_sensitive\": False,\n",
    "        \"lang\": \"en\",\n",
    "        \"created_at\": \"Sun Oct 26 07:37:55 +0000 2014\",\n",
    "        \"in_reply_to_status_id_str\": None,\n",
    "        \"place\": None,\n",
    "        \"metadata\": {\n",
    "          \"iso_language_code\": \"en\",\n",
    "          \"result_type\": \"recent\"\n",
    "        }\n",
    "      },\n",
    "      \"user\": {\n",
    "        \"follow_request_sent\": False,\n",
    "        \"profile_use_background_image\": True,\n",
    "        \"profile_text_color\": \"2A48AE\",\n",
    "        \"default_profile_image\": False,\n",
    "        \"id\": 104940733,\n",
    "        \"profile_background_image_url_https\": \"https://abs.twimg.com/images/themes/theme17/bg.gif\",\n",
    "        \"verified\": False,\n",
    "        \"profile_location\": None,\n",
    "        \"profile_image_url_https\": \"https://pbs.twimg.com/profile_images/2878477539/78e20432088b5ee2addc9ce3362fd461_normal.jpeg\",\n",
    "        \"profile_sidebar_fill_color\": \"6378B1\",\n",
    "        \"entities\": {\n",
    "          \"description\": {\n",
    "            \"urls\": []\n",
    "          }\n",
    "        },\n",
    "        \"followers_count\": 149,\n",
    "        \"profile_sidebar_border_color\": \"FBD0C9\",\n",
    "        \"id_str\": \"104940733\",\n",
    "        \"profile_background_color\": \"0C003D\",\n",
    "        \"listed_count\": 18,\n",
    "        \"is_translation_enabled\": False,\n",
    "        \"utc_offset\": 0,\n",
    "        \"statuses_count\": 16031,\n",
    "        \"description\": \"Have you any dreams you'd like to sell?\",\n",
    "        \"friends_count\": 248,\n",
    "        \"location\": \"\",\n",
    "        \"profile_link_color\": \"0F1B7C\",\n",
    "        \"profile_image_url\": \"http://pbs.twimg.com/profile_images/2878477539/78e20432088b5ee2addc9ce3362fd461_normal.jpeg\",\n",
    "        \"following\": False,\n",
    "        \"geo_enabled\": False,\n",
    "        \"profile_banner_url\": \"https://pbs.twimg.com/profile_banners/104940733/1410032966\",\n",
    "        \"profile_background_image_url\": \"http://abs.twimg.com/images/themes/theme17/bg.gif\",\n",
    "        \"name\": \"Heather\",\n",
    "        \"lang\": \"en\",\n",
    "        \"profile_background_tile\": False,\n",
    "        \"favourites_count\": 777,\n",
    "        \"screen_name\": \"froyoho\",\n",
    "        \"notifications\": False,\n",
    "        \"url\": None,\n",
    "        \"created_at\": \"Thu Jan 14 21:37:54 +0000 2010\",\n",
    "        \"contributors_enabled\": False,\n",
    "        \"time_zone\": \"London\",\n",
    "        \"protected\": False,\n",
    "        \"default_profile\": False,\n",
    "        \"is_translator\": False\n",
    "      },\n",
    "      \"geo\": None,\n",
    "      \"in_reply_to_user_id_str\": None,\n",
    "      \"possibly_sensitive\": False,\n",
    "      \"lang\": \"en\",\n",
    "      \"created_at\": \"Sun Nov 23 20:55:57 +0000 2014\",\n",
    "      \"in_reply_to_status_id_str\": None,\n",
    "      \"place\": None,\n",
    "      \"metadata\": {\n",
    "        \"iso_language_code\": \"en\",\n",
    "        \"result_type\": \"recent\"\n",
    "      }\n",
    "    },\n",
    "    {\n",
    "      \"contributors\": None,\n",
    "      \"truncated\": False,\n",
    "      \"text\": \"RT @NotableHistory: Madonna, 18 year old freshman at the University of Michigan, 1976 http://t.co/x2dm1G67ea\",\n",
    "      \"in_reply_to_status_id\": None,\n",
    "      \"id\": 536623674942439425,\n",
    "      \"favorite_count\": 0,\n",
    "      \"source\": \"<a href=\\\"http://twitter.com/download/android\\\" rel=\\\"nofollow\\\">Twitter for Android</a>\",\n",
    "      \"retweeted\": False,\n",
    "      \"coordinates\": None,\n",
    "      \"entities\": {\n",
    "        \"symbols\": [],\n",
    "        \"user_mentions\": [\n",
    "          {\n",
    "            \"id\": 844766941,\n",
    "            \"indices\": [\n",
    "              3,\n",
    "              18\n",
    "            ],\n",
    "            \"id_str\": \"844766941\",\n",
    "            \"screen_name\": \"NotableHistory\",\n",
    "            \"name\": \"OnThisDay & Facts\"\n",
    "          }\n",
    "        ],\n",
    "        \"hashtags\": [],\n",
    "        \"urls\": [],\n",
    "        \"media\": [\n",
    "          {\n",
    "            \"source_status_id_str\": \"536610190334779392\",\n",
    "            \"expanded_url\": \"http://twitter.com/NotableHistory/status/536610190334779392/photo/1\",\n",
    "            \"display_url\": \"pic.twitter.com/x2dm1G67ea\",\n",
    "            \"url\": \"http://t.co/x2dm1G67ea\",\n",
    "            \"media_url_https\": \"https://pbs.twimg.com/media/B3EXbQkCMAEipwM.jpg\",\n",
    "            \"source_status_id\": 536610190334779392,\n",
    "            \"id_str\": \"536235587703812097\",\n",
    "            \"sizes\": {\n",
    "              \"small\": {\n",
    "                \"h\": 487,\n",
    "                \"resize\": \"fit\",\n",
    "                \"w\": 340\n",
    "              },\n",
    "              \"large\": {\n",
    "                \"h\": 918,\n",
    "                \"resize\": \"fit\",\n",
    "                \"w\": 640\n",
    "              },\n",
    "              \"medium\": {\n",
    "                \"h\": 860,\n",
    "                \"resize\": \"fit\",\n",
    "                \"w\": 600\n",
    "              },\n",
    "              \"thumb\": {\n",
    "                \"h\": 150,\n",
    "                \"resize\": \"crop\",\n",
    "                \"w\": 150\n",
    "              }\n",
    "            },\n",
    "            \"indices\": [\n",
    "              86,\n",
    "              108\n",
    "            ],\n",
    "            \"type\": \"photo\",\n",
    "            \"id\": 536235587703812097,\n",
    "            \"media_url\": \"http://pbs.twimg.com/media/B3EXbQkCMAEipwM.jpg\"\n",
    "          }\n",
    "        ]\n",
    "      },\n",
    "      \"in_reply_to_screen_name\": None,\n",
    "      \"in_reply_to_user_id\": None,\n",
    "      \"retweet_count\": 9,\n",
    "      \"id_str\": \"536623674942439425\",\n",
    "      \"favorited\": False,\n",
    "      \"retweeted_status\": {\n",
    "        \"contributors\": None,\n",
    "        \"truncated\": False,\n",
    "        \"text\": \"Madonna, 18 year old freshman at the University of Michigan, 1976 http://t.co/x2dm1G67ea\",\n",
    "        \"in_reply_to_status_id\": None,\n",
    "        \"id\": 536610190334779392,\n",
    "        \"favorite_count\": 13,\n",
    "        \"source\": \"<a href=\\\"https://ads.twitter.com\\\" rel=\\\"nofollow\\\">Twitter Ads</a>\",\n",
    "        \"retweeted\": False,\n",
    "        \"coordinates\": None,\n",
    "        \"entities\": {\n",
    "          \"symbols\": [],\n",
    "          \"user_mentions\": [],\n",
    "          \"hashtags\": [],\n",
    "          \"urls\": [],\n",
    "          \"media\": [\n",
    "            {\n",
    "              \"expanded_url\": \"http://twitter.com/NotableHistory/status/536610190334779392/photo/1\",\n",
    "              \"display_url\": \"pic.twitter.com/x2dm1G67ea\",\n",
    "              \"url\": \"http://t.co/x2dm1G67ea\",\n",
    "              \"media_url_https\": \"https://pbs.twimg.com/media/B3EXbQkCMAEipwM.jpg\",\n",
    "              \"id_str\": \"536235587703812097\",\n",
    "              \"sizes\": {\n",
    "                \"small\": {\n",
    "                  \"h\": 487,\n",
    "                  \"resize\": \"fit\",\n",
    "                  \"w\": 340\n",
    "                },\n",
    "                \"large\": {\n",
    "                  \"h\": 918,\n",
    "                  \"resize\": \"fit\",\n",
    "                  \"w\": 640\n",
    "                },\n",
    "                \"medium\": {\n",
    "                  \"h\": 860,\n",
    "                  \"resize\": \"fit\",\n",
    "                  \"w\": 600\n",
    "                },\n",
    "                \"thumb\": {\n",
    "                  \"h\": 150,\n",
    "                  \"resize\": \"crop\",\n",
    "                  \"w\": 150\n",
    "                }\n",
    "              },\n",
    "              \"indices\": [\n",
    "                66,\n",
    "                88\n",
    "              ],\n",
    "              \"type\": \"photo\",\n",
    "              \"id\": 536235587703812097,\n",
    "              \"media_url\": \"http://pbs.twimg.com/media/B3EXbQkCMAEipwM.jpg\"\n",
    "            }\n",
    "          ]\n",
    "        },\n",
    "        \"in_reply_to_screen_name\": None,\n",
    "        \"in_reply_to_user_id\": None,\n",
    "        \"retweet_count\": 9,\n",
    "        \"id_str\": \"536610190334779392\",\n",
    "        \"favorited\": False,\n",
    "        \"user\": {\n",
    "          \"follow_request_sent\": False,\n",
    "          \"profile_use_background_image\": True,\n",
    "          \"profile_text_color\": \"333333\",\n",
    "          \"default_profile_image\": False,\n",
    "          \"id\": 844766941,\n",
    "          \"profile_background_image_url_https\": \"https://pbs.twimg.com/profile_background_images/458461302696837121/rGlGdWsc.png\",\n",
    "          \"verified\": False,\n",
    "          \"profile_location\": None,\n",
    "          \"profile_image_url_https\": \"https://pbs.twimg.com/profile_images/481243404320251905/gCr1cVP2_normal.png\",\n",
    "          \"profile_sidebar_fill_color\": \"DDFFCC\",\n",
    "          \"entities\": {\n",
    "            \"url\": {\n",
    "              \"urls\": [\n",
    "                {\n",
    "                  \"url\": \"http://t.co/9fTPk5A4wh\",\n",
    "                  \"indices\": [\n",
    "                    0,\n",
    "                    22\n",
    "                  ],\n",
    "                  \"expanded_url\": \"http://notablefacts.com/\",\n",
    "                  \"display_url\": \"notablefacts.com\"\n",
    "                }\n",
    "              ]\n",
    "            },\n",
    "            \"description\": {\n",
    "              \"urls\": []\n",
    "            }\n",
    "          },\n",
    "          \"followers_count\": 73817,\n",
    "          \"profile_sidebar_border_color\": \"FFFFFF\",\n",
    "          \"id_str\": \"844766941\",\n",
    "          \"profile_background_color\": \"9AE4E8\",\n",
    "          \"listed_count\": 485,\n",
    "          \"is_translation_enabled\": False,\n",
    "          \"utc_offset\": -21600,\n",
    "          \"statuses_count\": 38841,\n",
    "          \"description\": \"On This Day in History, Historical Pictures & other Interesting Facts....Historyfollower@gmail.com\",\n",
    "          \"friends_count\": 43594,\n",
    "          \"location\": \"\",\n",
    "          \"profile_link_color\": \"0084B4\",\n",
    "          \"profile_image_url\": \"http://pbs.twimg.com/profile_images/481243404320251905/gCr1cVP2_normal.png\",\n",
    "          \"following\": False,\n",
    "          \"geo_enabled\": False,\n",
    "          \"profile_banner_url\": \"https://pbs.twimg.com/profile_banners/844766941/1411076349\",\n",
    "          \"profile_background_image_url\": \"http://pbs.twimg.com/profile_background_images/458461302696837121/rGlGdWsc.png\",\n",
    "          \"name\": \"OnThisDay & Facts\",\n",
    "          \"lang\": \"en\",\n",
    "          \"profile_background_tile\": True,\n",
    "          \"favourites_count\": 1383,\n",
    "          \"screen_name\": \"NotableHistory\",\n",
    "          \"notifications\": False,\n",
    "          \"url\": \"http://t.co/9fTPk5A4wh\",\n",
    "          \"created_at\": \"Tue Sep 25 03:08:59 +0000 2012\",\n",
    "          \"contributors_enabled\": False,\n",
    "          \"time_zone\": \"Central Time (US & Canada)\",\n",
    "          \"protected\": False,\n",
    "          \"default_profile\": False,\n",
    "          \"is_translator\": False\n",
    "        },\n",
    "        \"geo\": None,\n",
    "        \"in_reply_to_user_id_str\": None,\n",
    "        \"possibly_sensitive\": False,\n",
    "        \"lang\": \"en\",\n",
    "        \"created_at\": \"Sun Nov 23 20:00:13 +0000 2014\",\n",
    "        \"in_reply_to_status_id_str\": None,\n",
    "        \"place\": None,\n",
    "        \"metadata\": {\n",
    "          \"iso_language_code\": \"en\",\n",
    "          \"result_type\": \"recent\"\n",
    "        }\n",
    "      },\n",
    "      \"user\": {\n",
    "        \"follow_request_sent\": False,\n",
    "        \"profile_use_background_image\": True,\n",
    "        \"profile_text_color\": \"333333\",\n",
    "        \"default_profile_image\": False,\n",
    "        \"id\": 818185729,\n",
    "        \"profile_background_image_url_https\": \"https://abs.twimg.com/images/themes/theme1/bg.png\",\n",
    "        \"verified\": False,\n",
    "        \"profile_location\": None,\n",
    "        \"profile_image_url_https\": \"https://pbs.twimg.com/profile_images/486215801498640384/rz9o7LnF_normal.jpeg\",\n",
    "        \"profile_sidebar_fill_color\": \"DDEEF6\",\n",
    "        \"entities\": {\n",
    "          \"description\": {\n",
    "            \"urls\": []\n",
    "          }\n",
    "        },\n",
    "        \"followers_count\": 302,\n",
    "        \"profile_sidebar_border_color\": \"C0DEED\",\n",
    "        \"id_str\": \"818185729\",\n",
    "        \"profile_background_color\": \"C0DEED\",\n",
    "        \"listed_count\": 0,\n",
    "        \"is_translation_enabled\": False,\n",
    "        \"utc_offset\": None,\n",
    "        \"statuses_count\": 395,\n",
    "        \"description\": \"Formerly with California Dept of General Services, now freelancing around the Sacramento area...\",\n",
    "        \"friends_count\": 1521,\n",
    "        \"location\": \"Citrus Heights, CA\",\n",
    "        \"profile_link_color\": \"0084B4\",\n",
    "        \"profile_image_url\": \"http://pbs.twimg.com/profile_images/486215801498640384/rz9o7LnF_normal.jpeg\",\n",
    "        \"following\": False,\n",
    "        \"geo_enabled\": True,\n",
    "        \"profile_banner_url\": \"https://pbs.twimg.com/profile_banners/818185729/1383764759\",\n",
    "        \"profile_background_image_url\": \"http://abs.twimg.com/images/themes/theme1/bg.png\",\n",
    "        \"name\": \"M Duncan\",\n",
    "        \"lang\": \"en\",\n",
    "        \"profile_background_tile\": False,\n",
    "        \"favourites_count\": 6544,\n",
    "        \"screen_name\": \"MDuncan95814\",\n",
    "        \"notifications\": False,\n",
    "        \"url\": None,\n",
    "        \"created_at\": \"Tue Sep 11 21:02:09 +0000 2012\",\n",
    "        \"contributors_enabled\": False,\n",
    "        \"time_zone\": None,\n",
    "        \"protected\": False,\n",
    "        \"default_profile\": True,\n",
    "        \"is_translator\": False\n",
    "      },\n",
    "      \"geo\": None,\n",
    "      \"in_reply_to_user_id_str\": None,\n",
    "      \"possibly_sensitive\": False,\n",
    "      \"lang\": \"en\",\n",
    "      \"created_at\": \"Sun Nov 23 20:53:48 +0000 2014\",\n",
    "      \"in_reply_to_status_id_str\": None,\n",
    "      \"place\": None,\n",
    "      \"metadata\": {\n",
    "        \"iso_language_code\": \"en\",\n",
    "        \"result_type\": \"recent\"\n",
    "      }\n",
    "    }\n",
    "  ]\n",
    "}"
   ]
  },
  {
   "cell_type": "code",
   "execution_count": 19,
   "metadata": {},
   "outputs": [
    {
     "ename": "TypeError",
     "evalue": "list indices must be integers or slices, not dict",
     "output_type": "error",
     "traceback": [
      "\u001b[0;31m---------------------------------------------------------------------------\u001b[0m",
      "\u001b[0;31mTypeError\u001b[0m                                 Traceback (most recent call last)",
      "\u001b[0;32m<ipython-input-19-b2f8c1bd0a75>\u001b[0m in \u001b[0;36m<module>\u001b[0;34m\u001b[0m\n\u001b[1;32m      1\u001b[0m \u001b[0;32mfor\u001b[0m \u001b[0mi\u001b[0m \u001b[0;32min\u001b[0m \u001b[0mres\u001b[0m\u001b[0;34m[\u001b[0m\u001b[0;34m'statuses'\u001b[0m\u001b[0;34m]\u001b[0m\u001b[0;34m[\u001b[0m\u001b[0;34m:\u001b[0m\u001b[0;36m1\u001b[0m\u001b[0;34m]\u001b[0m\u001b[0;34m:\u001b[0m\u001b[0;34m\u001b[0m\u001b[0;34m\u001b[0m\u001b[0m\n\u001b[0;32m----> 2\u001b[0;31m     \u001b[0mprint\u001b[0m\u001b[0;34m(\u001b[0m\u001b[0mres\u001b[0m\u001b[0;34m[\u001b[0m\u001b[0;34m'statuses'\u001b[0m\u001b[0;34m]\u001b[0m\u001b[0;34m[\u001b[0m\u001b[0mi\u001b[0m\u001b[0;34m]\u001b[0m\u001b[0;34m)\u001b[0m\u001b[0;34m\u001b[0m\u001b[0;34m\u001b[0m\u001b[0m\n\u001b[0m",
      "\u001b[0;31mTypeError\u001b[0m: list indices must be integers or slices, not dict"
     ]
    }
   ],
   "source": [
    "for i in res['statuses'][:1]:\n",
    "    print(res['statuses'][i])"
   ]
  },
  {
   "cell_type": "code",
   "execution_count": 22,
   "metadata": {},
   "outputs": [],
   "source": [
    "london_gold=0\n",
    "nested_d = {'Beijing':{'China':51, 'USA':36, 'Russia':22, 'Great Britain':19}, 'London':{'USA':46, 'China':38, 'Great Britain':29, 'Russia':22}, 'Rio':{'USA':35, 'Great Britain':22, 'China':20, 'Germany':13}}\n",
    "for i in nested_d:\n",
    "    london_gold=london_gold+nested_d[i]['Great Britain']\n"
   ]
  },
  {
   "cell_type": "code",
   "execution_count": 25,
   "metadata": {},
   "outputs": [],
   "source": [
    "lst = [['apple', 'orange', 'banana'], [5, 6, 7, 8, 9.9, 10], ['green', 'yellow', 'purple', 'red']]\n",
    "\n",
    "#Test to see if 'yellow' is in the third list of lst. Save to variable ``yellow``\n",
    "if 'yellow' in lst[2]:\n",
    "    yellow = True\n",
    "else:\n",
    "    yellow=False\n",
    "    \n",
    "\n",
    "#Test to see if 4 is in the second list of lst. Save to variable ``four``\n",
    "if 4 in lst[1]:\n",
    "    four=True\n",
    "else:\n",
    "    four=False\n",
    "\n",
    "#Test to see if 'orange' is in the first element of lst. Save to variable ``orange``\n",
    "if 'orange' in lst[0]:\n",
    "    orange=True\n",
    "else:\n",
    "    orange=False\n"
   ]
  },
  {
   "cell_type": "code",
   "execution_count": 26,
   "metadata": {},
   "outputs": [
    {
     "data": {
      "text/plain": [
       "True"
      ]
     },
     "execution_count": 26,
     "metadata": {},
     "output_type": "execute_result"
    }
   ],
   "source": [
    "yellow"
   ]
  },
  {
   "cell_type": "code",
   "execution_count": 27,
   "metadata": {},
   "outputs": [],
   "source": [
    "nested = {'data': ['finding', 23, ['exercises', 'hangout', 34]], 'window': ['part', 'whole', [], 'sum', ['math', 'calculus', 'algebra', 'geometry', 'statistics',['physics', 'chemistry', 'biology']]]}\n",
    "\n",
    "# Check to see if the string data is a key in nested, if it is, assign True to the variable data, otherwise assign False.\n",
    "if 'data' in nested.keys():\n",
    "    data=True\n",
    "else:\n",
    "    date=False\n",
    "# Check to see if the integer 24 is in the value of the key data, if it is then assign to the variable twentyfour the value of True, otherwise False.\n",
    "if 24 in nested['data']:\n",
    "    twentyfour=True\n",
    "else:\n",
    "    twentyfour=False\n",
    "# Check to see that the string 'whole' is not in the value of the key window. If it's not, then assign to the variable whole the value of True, otherwise False.\n",
    "if 'whole' in nested['window']:\n",
    "    whole=True\n",
    "else:\n",
    "    whole=False\n",
    "\n",
    "# Check to see if the string 'physics' is a key in the dictionary nested. If it is, assign to the variable physics, the value of True, otherwise False.\n",
    "if 'physics' in nested.keys():\n",
    "    physics=True\n",
    "else:\n",
    "    physics=False\n"
   ]
  },
  {
   "cell_type": "code",
   "execution_count": 28,
   "metadata": {},
   "outputs": [
    {
     "ename": "FileNotFoundError",
     "evalue": "[Errno 2] No such file or directory: 'positive_words.txt'",
     "output_type": "error",
     "traceback": [
      "\u001b[0;31m---------------------------------------------------------------------------\u001b[0m",
      "\u001b[0;31mFileNotFoundError\u001b[0m                         Traceback (most recent call last)",
      "\u001b[0;32m<ipython-input-28-0f19e9931eeb>\u001b[0m in \u001b[0;36m<module>\u001b[0;34m\u001b[0m\n\u001b[1;32m      2\u001b[0m \u001b[0;31m# list of positive words to use\u001b[0m\u001b[0;34m\u001b[0m\u001b[0;34m\u001b[0m\u001b[0;34m\u001b[0m\u001b[0m\n\u001b[1;32m      3\u001b[0m \u001b[0mpositive_words\u001b[0m \u001b[0;34m=\u001b[0m \u001b[0;34m[\u001b[0m\u001b[0;34m]\u001b[0m\u001b[0;34m\u001b[0m\u001b[0;34m\u001b[0m\u001b[0m\n\u001b[0;32m----> 4\u001b[0;31m \u001b[0;32mwith\u001b[0m \u001b[0mopen\u001b[0m\u001b[0;34m(\u001b[0m\u001b[0;34m\"positive_words.txt\"\u001b[0m\u001b[0;34m)\u001b[0m \u001b[0;32mas\u001b[0m \u001b[0mpos_f\u001b[0m\u001b[0;34m:\u001b[0m\u001b[0;34m\u001b[0m\u001b[0;34m\u001b[0m\u001b[0m\n\u001b[0m\u001b[1;32m      5\u001b[0m     \u001b[0;32mfor\u001b[0m \u001b[0mlin\u001b[0m \u001b[0;32min\u001b[0m \u001b[0mpos_f\u001b[0m\u001b[0;34m:\u001b[0m\u001b[0;34m\u001b[0m\u001b[0;34m\u001b[0m\u001b[0m\n\u001b[1;32m      6\u001b[0m         \u001b[0;32mif\u001b[0m \u001b[0mlin\u001b[0m\u001b[0;34m[\u001b[0m\u001b[0;36m0\u001b[0m\u001b[0;34m]\u001b[0m \u001b[0;34m!=\u001b[0m \u001b[0;34m';'\u001b[0m \u001b[0;32mand\u001b[0m \u001b[0mlin\u001b[0m\u001b[0;34m[\u001b[0m\u001b[0;36m0\u001b[0m\u001b[0;34m]\u001b[0m \u001b[0;34m!=\u001b[0m \u001b[0;34m'\\n'\u001b[0m\u001b[0;34m:\u001b[0m\u001b[0;34m\u001b[0m\u001b[0;34m\u001b[0m\u001b[0m\n",
      "\u001b[0;31mFileNotFoundError\u001b[0m: [Errno 2] No such file or directory: 'positive_words.txt'"
     ]
    }
   ],
   "source": [
    "punctuation_chars = [\"'\", '\"', \",\", \".\", \"!\", \":\", \";\", '#', '@']\n",
    "# list of positive words to use\n",
    "positive_words = []\n",
    "with open(\"positive_words.txt\") as pos_f:\n",
    "    for lin in pos_f:\n",
    "        if lin[0] != ';' and lin[0] != '\\n':\n",
    "            positive_words.append(lin.strip())\n",
    "\n",
    "def get_pos(x):\n",
    "    count=0\n",
    "    for i in x.lower().split():\n",
    "        if str(i) in positive_words:\n",
    "            count+=1 \n",
    "        elif strip_punctuation(i) in positive_words:\n",
    "            count+=1\n",
    "    return count  \n",
    "def strip_punctuation(x):\n",
    "    for i in punctuation_chars:\n",
    "        x=x.replace(i,\"\")\n",
    "    return x\n"
   ]
  },
  {
   "cell_type": "code",
   "execution_count": 29,
   "metadata": {},
   "outputs": [],
   "source": [
    "def strip_punctuation(x):\n",
    "    for i in punctuation_chars:\n",
    "        x=x.replace(i,\"\")\n",
    "    return x"
   ]
  },
  {
   "cell_type": "code",
   "execution_count": 30,
   "metadata": {},
   "outputs": [],
   "source": [
    "def get_neg(x):\n",
    "    count=0\n",
    "    for i in x.lower().split():\n",
    "        if str(i) in negative_words:\n",
    "            count+=1 \n",
    "        elif strip_punctuation(i) in negative_words:\n",
    "            count+=1\n",
    "    return count  \n",
    "def strip_punctuation(x):\n",
    "    for i in punctuation_chars:\n",
    "        x=x.replace(i,\"\")\n",
    "    return x"
   ]
  },
  {
   "cell_type": "code",
   "execution_count": 1,
   "metadata": {},
   "outputs": [
    {
     "name": "stdout",
     "output_type": "stream",
     "text": [
      "[6, 15, 27]\n",
      "[8, 20, 36]\n"
     ]
    }
   ],
   "source": [
    "def triple(value):\n",
    "    return 3*value\n",
    "\n",
    "def tripleStuff(a_list):\n",
    "    new_seq = map(triple, a_list)\n",
    "    return list(new_seq)\n",
    "\n",
    "def quadrupleStuff(a_list):\n",
    "    new_seq = map(lambda value: 4*value, a_list)\n",
    "    return list(new_seq)\n",
    "\n",
    "things = [2, 5, 9]\n",
    "things3 = tripleStuff(things)\n",
    "print(things3)\n",
    "things4 = quadrupleStuff(things)\n",
    "print(things4)\n"
   ]
  },
  {
   "cell_type": "code",
   "execution_count": 2,
   "metadata": {},
   "outputs": [
    {
     "name": "stdout",
     "output_type": "stream",
     "text": [
      "[4, 6, 0]\n"
     ]
    }
   ],
   "source": [
    "def keep_evens(nums):\n",
    "    new_seq = filter(lambda num: num % 2 == 0, nums)\n",
    "    return list(new_seq)\n",
    "\n",
    "print(keep_evens([3, 4, 6, 7, 0, 1]))\n"
   ]
  },
  {
   "cell_type": "code",
   "execution_count": 3,
   "metadata": {},
   "outputs": [
    {
     "ename": "SyntaxError",
     "evalue": "invalid syntax (<ipython-input-3-62cb79c4439a>, line 2)",
     "output_type": "error",
     "traceback": [
      "\u001b[0;36m  File \u001b[0;32m\"<ipython-input-3-62cb79c4439a>\"\u001b[0;36m, line \u001b[0;32m2\u001b[0m\n\u001b[0;31m    if nu\u001b[0m\n\u001b[0m         ^\u001b[0m\n\u001b[0;31mSyntaxError\u001b[0m\u001b[0;31m:\u001b[0m invalid syntax\n"
     ]
    }
   ],
   "source": [
    "def odd_eve(num):\n",
    "    if nu"
   ]
  },
  {
   "cell_type": "code",
   "execution_count": 2,
   "metadata": {},
   "outputs": [
    {
     "name": "stdout",
     "output_type": "stream",
     "text": [
      "guess the number1\n",
      "guess the number2\n",
      "guess the number3\n",
      "guess the number4\n",
      "guess the number5\n",
      "guess the number6\n",
      "guess the number7\n",
      "guess the number8\n",
      "guess the number98\n",
      "guess the number9\n",
      "guess the number0\n",
      "guess the number12\n",
      "guess the number11\n",
      "guess the number13\n",
      "guess the number14\n",
      "guess the number15\n",
      "guess the number16\n",
      "congo\n"
     ]
    }
   ],
   "source": [
    "# guessing number between 0 to 20:\n",
    "from random import randint \n",
    "\n",
    "x=randint(0,20)\n",
    "while -1!=x:\n",
    "    i=int(input(\"guess the number\"))\n",
    "    if i == x:\n",
    "        print(\"congo\")\n",
    "        break\n",
    "    else:\n",
    "        continue"
   ]
  },
  {
   "cell_type": "code",
   "execution_count": 21,
   "metadata": {},
   "outputs": [
    {
     "name": "stdout",
     "output_type": "stream",
     "text": [
      "what would u like to take stone paper or scissor :stone\n",
      "computer did: paper\n",
      "you did: stone\n"
     ]
    }
   ],
   "source": [
    "from random import randint\n",
    "x=[\"stone\",\"paper\",\"scissors\"]\n",
    "y=x[randint(0,2)]\n",
    "answer=input(\"what would u like to take stone paper or scissor :\")\n",
    "if y==answer.lower():\n",
    "    print(\"DRAW\")\n",
    "elif y is \"paper\" and answer is \"scissor\":\n",
    "    print()\n",
    "print(f\"computer did: {y}\")\n",
    "print(f\"you did: {answer}\")"
   ]
  },
  {
   "cell_type": "code",
   "execution_count": 4,
   "metadata": {
    "scrolled": true
   },
   "outputs": [
    {
     "name": "stdout",
     "output_type": "stream",
     "text": [
      "0123456789\n",
      "enter how long u want password should be 'should be greater or equal to 6' :6\n",
      "$\n",
      "password is : JoRpR\n"
     ]
    },
    {
     "ename": "TypeError",
     "evalue": "replace() takes at least 2 arguments (0 given)",
     "output_type": "error",
     "traceback": [
      "\u001b[0;31m---------------------------------------------------------------------------\u001b[0m",
      "\u001b[0;31mTypeError\u001b[0m                                 Traceback (most recent call last)",
      "\u001b[0;32m<ipython-input-4-874847e365b7>\u001b[0m in \u001b[0;36m<module>\u001b[0;34m\u001b[0m\n\u001b[1;32m     22\u001b[0m \u001b[0mprint\u001b[0m\u001b[0;34m(\u001b[0m\u001b[0;34mf\"password is : {password}\"\u001b[0m\u001b[0;34m)\u001b[0m\u001b[0;34m\u001b[0m\u001b[0;34m\u001b[0m\u001b[0m\n\u001b[1;32m     23\u001b[0m \u001b[0;34m\u001b[0m\u001b[0m\n\u001b[0;32m---> 24\u001b[0;31m \u001b[0;34m\"akshay\"\u001b[0m\u001b[0;34m.\u001b[0m\u001b[0mreplace\u001b[0m\u001b[0;34m(\u001b[0m\u001b[0;34m)\u001b[0m\u001b[0;34m\u001b[0m\u001b[0;34m\u001b[0m\u001b[0m\n\u001b[0m",
      "\u001b[0;31mTypeError\u001b[0m: replace() takes at least 2 arguments (0 given)"
     ]
    }
   ],
   "source": [
    "\"\"\"Password Generator\n",
    "\n",
    "Write a programme, which generates a random password for the user. Ask the user how long they want their password \n",
    "to be, and how many letters and numbers they want in their password. Have a mix of upper and lowercase letters, \n",
    "as well as numbers and symbols. The password should be a minimum of 6 characters long.\n",
    "\"\"\"\n",
    "import string\n",
    "import random\n",
    "from random import randint\n",
    "special_chars=[\"!\",\"@\",\"#\",\"$\",\"%\",\"^\",\"*\"]\n",
    "password=\"\"\n",
    "y=string.ascii_letters\n",
    "print(y)\n",
    "x=0\n",
    "while x<6:\n",
    "    x=int(input(\"enter how long u want password should be 'should be greater or equal to 6' :\"))\n",
    "for i in range(x-1):\n",
    "    password=password+random.choice(string.ascii_letters)\n",
    "    \n",
    "h=special_chars[randint(0,len(special_chars))]\n",
    "print(h)\n",
    "print(f\"password is : {password}\")\n",
    "    \n",
    "\"akshay\".replace()"
   ]
  },
  {
   "cell_type": "code",
   "execution_count": 1,
   "metadata": {},
   "outputs": [
    {
     "name": "stdout",
     "output_type": "stream",
     "text": [
      "[4, 10, 18]\n"
     ]
    }
   ],
   "source": [
    "things = [2, 5, 9]\n",
    "\n",
    "yourlist = [value * 2 for value in things]\n",
    "\n",
    "print(yourlist)\n"
   ]
  },
  {
   "cell_type": "code",
   "execution_count": 2,
   "metadata": {},
   "outputs": [
    {
     "name": "stdout",
     "output_type": "stream",
     "text": [
      "[4, 6, 0]\n"
     ]
    }
   ],
   "source": [
    "def keep_evens(nums):\n",
    "    new_list = [num for num in nums if num % 2 == 0]\n",
    "    return new_list\n",
    "\n",
    "print(keep_evens([3, 4, 6, 7, 0, 1]))\n"
   ]
  },
  {
   "cell_type": "code",
   "execution_count": 7,
   "metadata": {},
   "outputs": [
    {
     "name": "stdout",
     "output_type": "stream",
     "text": [
      "Lauren\n",
      "Ayo\n",
      "Kathryn\n",
      "Nick\n",
      "Gladys\n",
      "Adam\n"
     ]
    }
   ],
   "source": [
    "tester = {'info': [{\"name\": \"Lauren\", 'class standing': 'Junior', 'major': \"Information Science\"},{'name': 'Ayo', 'class standing': \"Bachelor's\", 'major': 'Information Science'}, {'name': 'Kathryn', 'class standing': 'Senior', 'major': 'Sociology'}, {'name': 'Nick', 'class standing': 'Junior', 'major': 'Computer Science'}, {'name': 'Gladys', 'class standing': 'Sophomore', 'major': 'History'}, {'name': 'Adam', 'major': 'Violin Performance', 'class standing': 'Senior'}]}\n",
    "for i in tester:\n",
    "    \n",
    "    for j in tester[i]:\n",
    "        print(j['name'])\n",
    "\n"
   ]
  },
  {
   "cell_type": "code",
   "execution_count": 8,
   "metadata": {},
   "outputs": [],
   "source": [
    "tester = {'info': [{\"name\": \"Lauren\", 'class standing': 'Junior', 'major': \"Information Science\"},{'name': 'Ayo', 'class standing': \"Bachelor's\", 'major': 'Information Science'}, {'name': 'Kathryn', 'class standing': 'Senior', 'major': 'Sociology'}, {'name': 'Nick', 'class standing': 'Junior', 'major': 'Computer Science'}, {'name': 'Gladys', 'class standing': 'Sophomore', 'major': 'History'}, {'name': 'Adam', 'major': 'Violin Performance', 'class standing': 'Senior'}]}\n",
    "name=[j['name']for i in tester for j in tester[i]]"
   ]
  },
  {
   "cell_type": "code",
   "execution_count": 9,
   "metadata": {},
   "outputs": [
    {
     "data": {
      "text/plain": [
       "['Lauren', 'Ayo', 'Kathryn', 'Nick', 'Gladys', 'Adam']"
      ]
     },
     "execution_count": 9,
     "metadata": {},
     "output_type": "execute_result"
    }
   ],
   "source": [
    "name"
   ]
  },
  {
   "cell_type": "code",
   "execution_count": 10,
   "metadata": {},
   "outputs": [
    {
     "name": "stdout",
     "output_type": "stream",
     "text": [
      "[(3, 1), (4, 2), (5, 3)]\n"
     ]
    }
   ],
   "source": [
    "L1 = [3, 4, 5]\n",
    "L2 = [1, 2, 3]\n",
    "L4 = list(zip(L1, L2))\n",
    "print(L4)\n"
   ]
  },
  {
   "cell_type": "code",
   "execution_count": 11,
   "metadata": {},
   "outputs": [
    {
     "name": "stdout",
     "output_type": "stream",
     "text": [
      "[4, 6, 8]\n"
     ]
    }
   ],
   "source": [
    "L1 = [3, 4, 5]\n",
    "L2 = [1, 2, 3]\n",
    "L3 = [x1 + x2 for (x1, x2) in list(zip(L1, L2))]\n",
    "print(L3)\n"
   ]
  },
  {
   "cell_type": "code",
   "execution_count": 3,
   "metadata": {},
   "outputs": [],
   "source": [
    "l1 = ['left', 'up', 'front']\n",
    "l2 = ['right', 'down', 'back']\n",
    "\n",
    "l3=zip(l1,l2)\n",
    "def opposite(x,y):\n",
    "    if len(x)==len(y):\n",
    "        return x,y\n",
    "opposites=filter(opposite,zip(l1,l2))"
   ]
  },
  {
   "cell_type": "code",
   "execution_count": 5,
   "metadata": {},
   "outputs": [
    {
     "ename": "TypeError",
     "evalue": "opposite() missing 1 required positional argument: 'y'",
     "output_type": "error",
     "traceback": [
      "\u001b[0;31m---------------------------------------------------------------------------\u001b[0m",
      "\u001b[0;31mTypeError\u001b[0m                                 Traceback (most recent call last)",
      "\u001b[0;32m<ipython-input-5-ac179ec40354>\u001b[0m in \u001b[0;36m<module>\u001b[0;34m\u001b[0m\n\u001b[0;32m----> 1\u001b[0;31m \u001b[0;32mfor\u001b[0m \u001b[0mi\u001b[0m \u001b[0;32min\u001b[0m \u001b[0mopposites\u001b[0m\u001b[0;34m:\u001b[0m\u001b[0;34m\u001b[0m\u001b[0;34m\u001b[0m\u001b[0m\n\u001b[0m\u001b[1;32m      2\u001b[0m     \u001b[0mprint\u001b[0m\u001b[0;34m(\u001b[0m\u001b[0mi\u001b[0m\u001b[0;34m)\u001b[0m\u001b[0;34m\u001b[0m\u001b[0;34m\u001b[0m\u001b[0m\n",
      "\u001b[0;31mTypeError\u001b[0m: opposite() missing 1 required positional argument: 'y'"
     ]
    }
   ],
   "source": [
    "for i in opposites:\n",
    "    print(i)"
   ]
  },
  {
   "cell_type": "code",
   "execution_count": 8,
   "metadata": {},
   "outputs": [
    {
     "name": "stdout",
     "output_type": "stream",
     "text": [
      "[]\n"
     ]
    }
   ],
   "source": [
    "l1 = ['left', 'up', 'front']\n",
    "l2 = ['right', 'down', 'back']\n",
    "l3=zip(l1,l2)\n",
    "opposites=[zip(x,y) for x,y in l3 if len(x)==len(y)]\n",
    "print(opposites)"
   ]
  },
  {
   "cell_type": "code",
   "execution_count": 12,
   "metadata": {},
   "outputs": [
    {
     "name": "stdout",
     "output_type": "stream",
     "text": [
      "[('left', 'right'), ('front', 'back')]\n"
     ]
    }
   ],
   "source": [
    "l1 = ['left', 'up', 'front']\n",
    "l2 = ['right', 'down', 'back']\n",
    "l3=zip(l1,l2)\n",
    "print(list(filter(lambda x:len(x[0])>=3 and len(x[1])>=3,l3)))\n"
   ]
  },
  {
   "cell_type": "code",
   "execution_count": 13,
   "metadata": {},
   "outputs": [
    {
     "name": "stdout",
     "output_type": "stream",
     "text": [
      "<class 'requests.models.Response'>\n",
      "[{\"word\":\"money\",\"score\":4415,\"numSyllables\":2},{\"word\":\"honey\",\"score\":1206,\"numSyllables\":2},{\"word\":\"sunny\",\"score\":718,\"numSyllables\":2},{\"word\":\"\n",
      "https://api.datamuse.com/words?rel_rhy=funny\n",
      "------\n",
      "<class 'list'>\n",
      "---first item in the list---\n",
      "{'word': 'money', 'score': 4415, 'numSyllables': 2}\n",
      "---the whole list, pretty printed---\n",
      "[\n",
      "  {\n",
      "    \"word\": \"money\",\n",
      "    \"score\": 4415,\n",
      "    \"numSyllables\": 2\n",
      "  },\n",
      "  {\n",
      "    \"word\": \"honey\",\n",
      "    \"score\": 1206,\n",
      "    \"numSyllables\": 2\n",
      "  },\n",
      "  {\n",
      "    \"word\": \"sunny\",\n",
      "    \"score\": 718,\n",
      "    \"numSyllables\": 2\n",
      "  },\n",
      "  {\n",
      "    \"word\": \"bunny\",\n",
      "    \"score\": 702,\n",
      "    \"numSyllables\": 2\n",
      "  },\n",
      "  {\n",
      "    \"word\": \"blini\",\n",
      "    \"score\": 613,\n",
      "    \"numSyllables\": 2\n",
      "  },\n",
      "  {\n",
      "    \"word\": \"gunny\",\n",
      "    \"score\": 449,\n",
      "    \"numSyllables\": 2\n",
      "  },\n",
      "  {\n",
      "    \"word\": \"tunny\",\n",
      "    \"score\": 301,\n",
      "    \"numSyllables\": 2\n",
      "  },\n",
      "  {\n",
      "    \"word\": \"sonny\",\n",
      "    \"score\": 286,\n",
      "    \"numSyllables\": 2\n",
      "  },\n",
      "  {\n",
      "    \"word\": \"dunny\",\n",
      "    \"score\": 245,\n",
      "    \"numSyllables\": 2\n",
      "  },\n",
      "  {\n",
      "    \"word\": \"runny\",\n",
      "    \"score\": 225,\n",
      "    \"numSyllables\": 2\n",
      "  },\n",
      "  {\n",
      "    \"word\": \"thunny\",\n",
      "    \"score\": 222,\n",
      "    \"numSyllables\": 2\n",
      "  },\n",
      "  {\n",
      "    \"word\": \"aknee\",\n",
      "    \"score\": 179,\n",
      "    \"numSyllables\": 2\n",
      "  },\n",
      "  {\n",
      "    \"word\": \"squinny\",\n",
      "    \"score\": 170,\n",
      "    \"numSyllables\": 2\n",
      "  },\n",
      "  {\n",
      "    \"word\": \"fiat money\",\n",
      "    \"score\": 160,\n",
      "    \"numSyllables\": 4\n",
      "  },\n",
      "  {\n",
      "    \"word\": \"gunnie\",\n",
      "    \"score\": 156,\n",
      "    \"numSyllables\": 2\n",
      "  },\n",
      "  {\n",
      "    \"word\": \"blood money\",\n",
      "    \"score\": 152,\n",
      "    \"numSyllables\": 3\n",
      "  },\n",
      "  {\n",
      "    \"word\": \"squiny\",\n",
      "    \"score\": 151,\n",
      "    \"numSyllables\": 2\n",
      "  },\n",
      "  {\n",
      "    \"word\": \"tunney\",\n",
      "    \"score\": 119,\n",
      "    \"numSyllables\": 2\n",
      "  },\n",
      "  {\n",
      "    \"word\": \"spinny\",\n",
      "    \"score\": 117,\n",
      "    \"numSyllables\": 2\n",
      "  },\n",
      "  {\n",
      "    \"word\": \"pin money\",\n",
      "    \"score\": 107,\n",
      "    \"numSyllables\": 3\n",
      "  },\n",
      "  {\n",
      "    \"word\": \"easy money\",\n",
      "    \"score\": 66,\n",
      "    \"numSyllables\": 4\n",
      "  },\n",
      "  {\n",
      "    \"word\": \"smart money\",\n",
      "    \"score\": 66,\n",
      "    \"numSyllables\": 3\n",
      "  },\n",
      "  {\n",
      "    \"word\": \"earnest money\",\n",
      "    \"score\": 62,\n",
      "    \"numSyllables\": 4\n",
      "  },\n",
      "  {\n",
      "    \"word\": \"easter bunny\",\n",
      "    \"score\": 56,\n",
      "    \"numSyllables\": 4\n",
      "  },\n",
      "  {\n",
      "    \"word\": \"paper money\",\n",
      "    \"score\": 54,\n",
      "    \"numSyllables\": 4\n",
      "  },\n",
      "  {\n",
      "    \"word\": \"pocket money\",\n",
      "    \"score\": 47,\n",
      "    \"numSyllables\": 4\n",
      "  },\n",
      "  {\n",
      "    \"word\": \"folding money\",\n",
      "    \"score\": 46,\n",
      "    \"numSyllables\": 4\n",
      "  },\n",
      "  {\n",
      "    \"word\": \"conscience money\",\n",
      "    \"score\": 41,\n",
      "    \"numSyllables\": 4\n",
      "  },\n",
      "  {\n",
      "    \"word\": \"hush money\",\n",
      "    \"score\": 40,\n",
      "    \"numSyllables\": 3\n",
      "  },\n",
      "  {\n",
      "    \"word\": \"prize money\",\n",
      "    \"score\": 37,\n",
      "    \"numSyllables\": 3\n",
      "  },\n",
      "  {\n",
      "    \"word\": \"amount of money\",\n",
      "    \"score\": 33,\n",
      "    \"numSyllables\": 5\n",
      "  },\n",
      "  {\n",
      "    \"word\": \"for love or money\",\n",
      "    \"score\": 32,\n",
      "    \"numSyllables\": 5\n",
      "  },\n",
      "  {\n",
      "    \"word\": \"tight money\",\n",
      "    \"score\": 32,\n",
      "    \"numSyllables\": 3\n",
      "  },\n",
      "  {\n",
      "    \"word\": \"ship money\",\n",
      "    \"score\": 30,\n",
      "    \"numSyllables\": 3\n",
      "  },\n",
      "  {\n",
      "    \"word\": \"metal money\",\n",
      "    \"score\": 27,\n",
      "    \"numSyllables\": 4\n",
      "  },\n",
      "  {\n",
      "    \"word\": \"sum of money\",\n",
      "    \"score\": 23,\n",
      "    \"numSyllables\": 4\n",
      "  },\n",
      "  {\n",
      "    \"word\": \"entrance money\",\n",
      "    \"score\": 22,\n",
      "    \"numSyllables\": 4\n",
      "  },\n",
      "  {\n",
      "    \"word\": \"cheap money\",\n",
      "    \"score\": 21,\n",
      "    \"numSyllables\": 3\n",
      "  },\n",
      "  {\n",
      "    \"word\": \"spending money\",\n",
      "    \"score\": 21,\n",
      "    \"numSyllables\": 4\n",
      "  },\n",
      "  {\n",
      "    \"word\": \"token money\",\n",
      "    \"score\": 21,\n",
      "    \"numSyllables\": 4\n",
      "  },\n",
      "  {\n",
      "    \"word\": \"waste of money\",\n",
      "    \"score\": 19,\n",
      "    \"numSyllables\": 4\n",
      "  },\n",
      "  {\n",
      "    \"word\": \"ransom money\",\n",
      "    \"score\": 18,\n",
      "    \"numSyllables\": 4\n",
      "  },\n",
      "  {\n",
      "    \"word\": \"hearth money\",\n",
      "    \"score\": 14,\n",
      "    \"numSyllables\": 3\n",
      "  },\n",
      "  {\n",
      "    \"word\": \"munni\",\n",
      "    \"score\": 14,\n",
      "    \"numSyllables\": 2\n",
      "  },\n",
      "  {\n",
      "    \"word\": \"bunnie\",\n",
      "    \"score\": 2,\n",
      "    \"numSyllables\": 2\n",
      "  },\n",
      "  {\n",
      "    \"word\": \"euromoney\",\n",
      "    \"score\": 2,\n",
      "    \"numSyllables\": 4\n",
      "  },\n",
      "  {\n",
      "    \"word\": \"smartmoney\",\n",
      "    \"score\": 2,\n",
      "    \"numSyllables\": 3\n",
      "  },\n",
      "  {\n",
      "    \"word\": \"anyone he\",\n",
      "    \"numSyllables\": 4\n",
      "  },\n",
      "  {\n",
      "    \"word\": \"begun he\",\n",
      "    \"numSyllables\": 3\n",
      "  },\n",
      "  {\n",
      "    \"word\": \"bunney\",\n",
      "    \"numSyllables\": 2\n",
      "  },\n",
      "  {\n",
      "    \"word\": \"ca ne\",\n",
      "    \"numSyllables\": 2\n",
      "  },\n",
      "  {\n",
      "    \"word\": \"done he\",\n",
      "    \"numSyllables\": 2\n",
      "  },\n",
      "  {\n",
      "    \"word\": \"donne e\",\n",
      "    \"numSyllables\": 2\n",
      "  },\n",
      "  {\n",
      "    \"word\": \"everyone he\",\n",
      "    \"numSyllables\": 4\n",
      "  },\n",
      "  {\n",
      "    \"word\": \"fun he\",\n",
      "    \"numSyllables\": 2\n",
      "  },\n",
      "  {\n",
      "    \"word\": \"grandson he\",\n",
      "    \"numSyllables\": 3\n",
      "  },\n",
      "  {\n",
      "    \"word\": \"gun he\",\n",
      "    \"numSyllables\": 2\n",
      "  },\n",
      "  {\n",
      "    \"word\": \"handgun he\",\n",
      "    \"numSyllables\": 3\n",
      "  },\n",
      "  {\n",
      "    \"word\": \"kun hee\",\n",
      "    \"numSyllables\": 2\n",
      "  },\n",
      "  {\n",
      "    \"word\": \"le ne\",\n",
      "    \"numSyllables\": 2\n",
      "  },\n",
      "  {\n",
      "    \"word\": \"lunney\",\n",
      "    \"numSyllables\": 2\n",
      "  },\n",
      "  {\n",
      "    \"word\": \"lunny\",\n",
      "    \"numSyllables\": 2\n",
      "  },\n",
      "  {\n",
      "    \"word\": \"none e\",\n",
      "    \"numSyllables\": 2\n",
      "  },\n",
      "  {\n",
      "    \"word\": \"none he\",\n",
      "    \"numSyllables\": 2\n",
      "  },\n",
      "  {\n",
      "    \"word\": \"nun he\",\n",
      "    \"numSyllables\": 2\n",
      "  },\n",
      "  {\n",
      "    \"word\": \"one he\",\n",
      "    \"numSyllables\": 2\n",
      "  },\n",
      "  {\n",
      "    \"word\": \"one knee\",\n",
      "    \"numSyllables\": 2\n",
      "  },\n",
      "  {\n",
      "    \"word\": \"pun he\",\n",
      "    \"numSyllables\": 2\n",
      "  },\n",
      "  {\n",
      "    \"word\": \"run e\",\n",
      "    \"numSyllables\": 2\n",
      "  },\n",
      "  {\n",
      "    \"word\": \"run he\",\n",
      "    \"numSyllables\": 2\n",
      "  },\n",
      "  {\n",
      "    \"word\": \"shotgun he\",\n",
      "    \"numSyllables\": 3\n",
      "  },\n",
      "  {\n",
      "    \"word\": \"someone e\",\n",
      "    \"numSyllables\": 3\n",
      "  },\n",
      "  {\n",
      "    \"word\": \"someone he\",\n",
      "    \"numSyllables\": 3\n",
      "  },\n",
      "  {\n",
      "    \"word\": \"son e\",\n",
      "    \"numSyllables\": 2\n",
      "  },\n",
      "  {\n",
      "    \"word\": \"son he\",\n",
      "    \"numSyllables\": 2\n",
      "  },\n",
      "  {\n",
      "    \"word\": \"sun e\",\n",
      "    \"numSyllables\": 2\n",
      "  },\n",
      "  {\n",
      "    \"word\": \"sun he\",\n",
      "    \"numSyllables\": 2\n",
      "  },\n",
      "  {\n",
      "    \"word\": \"ton he\",\n",
      "    \"numSyllables\": 2\n",
      "  },\n",
      "  {\n",
      "    \"word\": \"ton ne\",\n",
      "    \"numSyllables\": 2\n",
      "  },\n",
      "  {\n",
      "    \"word\": \"un e\",\n",
      "    \"numSyllables\": 2\n",
      "  },\n",
      "  {\n",
      "    \"word\": \"un he\",\n",
      "    \"numSyllables\": 2\n",
      "  },\n",
      "  {\n",
      "    \"word\": \"un ne\",\n",
      "    \"numSyllables\": 2\n",
      "  },\n",
      "  {\n",
      "    \"word\": \"un ni\",\n",
      "    \"numSyllables\": 2\n",
      "  },\n",
      "  {\n",
      "    \"word\": \"won he\",\n",
      "    \"numSyllables\": 2\n",
      "  }\n",
      "]\n"
     ]
    }
   ],
   "source": [
    "import requests\n",
    "import json\n",
    "\n",
    "page = requests.get(\"https://api.datamuse.com/words?rel_rhy=funny\")\n",
    "print(type(page))\n",
    "print(page.text[:150]) # print the first 150 characters\n",
    "print(page.url) # print the url that was fetched\n",
    "print(\"------\")\n",
    "x = page.json() # turn page.text into a python object\n",
    "print(type(x))\n",
    "print(\"---first item in the list---\")\n",
    "print(x[0])\n",
    "print(\"---the whole list, pretty printed---\")\n",
    "print(json.dumps(x, indent=2)) # pretty print the results\n"
   ]
  },
  {
   "cell_type": "code",
   "execution_count": 14,
   "metadata": {},
   "outputs": [
    {
     "data": {
      "text/plain": [
       "1"
      ]
     },
     "execution_count": 14,
     "metadata": {},
     "output_type": "execute_result"
    }
   ],
   "source": [
    "x=[1,2,3,4,5,6]\n",
    "x.count(1)"
   ]
  },
  {
   "cell_type": "code",
   "execution_count": 19,
   "metadata": {},
   "outputs": [
    {
     "name": "stdout",
     "output_type": "stream",
     "text": [
      "2\n",
      "akshay\n",
      "akshay\n",
      "2 1 "
     ]
    }
   ],
   "source": [
    "n=int(input())\n",
    "i=0\n",
    "y=[]\n",
    "for i in range(n):\n",
    "    y=list(input())\n",
    "\n",
    "for i in range(n):\n",
    "    print(y.count(y[i]),end=\" \")\n"
   ]
  },
  {
   "cell_type": "code",
   "execution_count": 20,
   "metadata": {},
   "outputs": [
    {
     "name": "stdout",
     "output_type": "stream",
     "text": [
      "nice\n"
     ]
    }
   ],
   "source": [
    "x=3\n",
    "if 5>x>2:\n",
    "    print(\"nice\")"
   ]
  },
  {
   "cell_type": "code",
   "execution_count": 1,
   "metadata": {},
   "outputs": [
    {
     "name": "stdout",
     "output_type": "stream",
     "text": [
      "['money', 'honey', 'sunny']\n"
     ]
    }
   ],
   "source": [
    "import requests\n",
    "\n",
    "def get_rhymes(word):\n",
    "    baseurl = \"https://api.datamuse.com/words\"\n",
    "    params_diction = {} # Set up an empty dictionary for query parameters\n",
    "    params_diction[\"rel_rhy\"] = word\n",
    "    params_diction[\"max\"] = \"3\" # get at most 3 results\n",
    "    resp = requests.get(baseurl, params=params_diction)\n",
    "    # return the top three words\n",
    "    word_ds = resp.json()\n",
    "    return [d['word'] for d in word_ds]\n",
    "    return resp.json() # Return a python object (a list of dictionaries in this case)\n",
    "\n",
    "print(get_rhymes(\"funny\"))"
   ]
  },
  {
   "cell_type": "code",
   "execution_count": 2,
   "metadata": {},
   "outputs": [
    {
     "data": {
      "text/plain": [
       "5"
      ]
     },
     "execution_count": 2,
     "metadata": {},
     "output_type": "execute_result"
    }
   ],
   "source": [
    "max([1,2,3,4,5])"
   ]
  },
  {
   "cell_type": "code",
   "execution_count": 14,
   "metadata": {},
   "outputs": [
    {
     "name": "stdout",
     "output_type": "stream",
     "text": [
      "scissor\n"
     ]
    }
   ],
   "source": [
    "from random import randint\n",
    "computer=[\"rock\",\"paper\",\"scissor\"][randint(0,2)]\n",
    "print(computer)"
   ]
  },
  {
   "cell_type": "code",
   "execution_count": 18,
   "metadata": {},
   "outputs": [
    {
     "name": "stdout",
     "output_type": "stream",
     "text": [
      "3\n",
      "enter the num1\n",
      "enter the num2\n",
      "enter the num2\n",
      "1\n"
     ]
    }
   ],
   "source": [
    "n=int(input())\n",
    "given_list=[]\n",
    "max1=0\n",
    "max2=0\n",
    "for i in range(n):\n",
    "    z=int(input(\"enter the num\"))\n",
    "    given_list.append(z)\n",
    "max1=max(given_list)\n",
    "ini=given_list.count(max1)\n",
    "for i in range(ini):\n",
    "    index=given_list.index(max1)\n",
    "    given_list.pop(index)\n",
    "max2=max(given_list)\n",
    "print(max2)\n",
    "\n"
   ]
  },
  {
   "cell_type": "markdown",
   "metadata": {},
   "source": [
    " for i in given_list:\n",
    "    if max1<i:\n",
    "        max1=i\n",
    "    else:\n",
    "    continue "
   ]
  },
  {
   "cell_type": "code",
   "execution_count": 11,
   "metadata": {},
   "outputs": [
    {
     "name": "stdout",
     "output_type": "stream",
     "text": [
      "2\n",
      "akshay\n",
      "0\n",
      "0\n",
      "0\n",
      "rahul\n",
      "5\n",
      "6\n",
      "7\n",
      "['akshay', '0', '0', '0', 'rahul', '5', '6', '7']\n"
     ]
    }
   ],
   "source": [
    "\"\"\"3\n",
    "Krishna 67 68 69\n",
    "Arjun 70 98 63\n",
    "Malika 52 56 60\n",
    "Malika\"\"\"\n",
    "ini=0\n",
    "\n",
    "average=[]\n",
    "x=int(input())\n",
    "while ini < x:\n",
    "    for i in range(4):\n",
    "        y=input()\n",
    "        average.append(y)\n",
    "        \n",
    "        \n",
    "    ini=ini+1\n",
    "    \n",
    "    \n",
    "print(average)\n",
    "    \n",
    "    \n",
    "    \n",
    "        \n",
    "    "
   ]
  },
  {
   "cell_type": "code",
   "execution_count": 1,
   "metadata": {},
   "outputs": [
    {
     "name": "stdout",
     "output_type": "stream",
     "text": [
      "what u want 1)rock 2)paper 3)scissor: 2\n",
      "computer's choice :rock\n",
      "your choice is :paper\n",
      "congo u won\n",
      "wanna play again y or n:y\n",
      "what u want 1)rock 2)paper 3)scissor: 2\n",
      "computer's choice :paper\n",
      "your choice is :paper\n",
      "tie\n",
      "wanna play again y or n:n\n"
     ]
    }
   ],
   "source": [
    "from random import randint\n",
    "answer = False\n",
    "while not answer:\n",
    "    \n",
    "    computer=[\"rock\",\"paper\",\"scissor\"][randint(0,2)]\n",
    "    choice=int(input(\"what u want 1)rock 2)paper 3)scissor: \"))\n",
    "    while choice>3:\n",
    "        choice=int(input(\"what u want 1)rock 2)paper 3)scissor: \"))\n",
    "        continue\n",
    "        \n",
    "    your_choice=[\"rock\",\"paper\",\"scissor\"][choice-1]\n",
    "    print(f\"computer's choice :{computer}\")\n",
    "    print(f\"your choice is :{your_choice}\")\n",
    "    # i guess 9 if statements will come her any idea to short this ?\n",
    "    if computer==your_choice:\n",
    "        print(\"tie\")\n",
    "    elif computer==\"rock\":\n",
    "        if your_choice==\"paper\":\n",
    "            print(\"congo u won\")\n",
    "        else:\n",
    "            print(\"umm u lost\")\n",
    "    elif computer==\"paper\":\n",
    "        if your_choice==\"rock\":\n",
    "            print(\"u lost \")\n",
    "        else:\n",
    "            print(\"u won\")\n",
    "    elif computer==\"scissor\":\n",
    "        if your_choice==\"paper\":\n",
    "            print(\"u lost \")\n",
    "        else:\n",
    "            print(\"u won \")\n",
    "\n",
    "    \n",
    "    play_again=input(\"wanna play again y or n:\")\n",
    "    if play_again==\"y\":\n",
    "        continue\n",
    "    else:\n",
    "        answer=True\n",
    "        "
   ]
  },
  {
   "cell_type": "markdown",
   "metadata": {},
   "source": [
    "sum=0\n",
    "for i in range(1,11)"
   ]
  },
  {
   "cell_type": "code",
   "execution_count": 13,
   "metadata": {},
   "outputs": [
    {
     "name": "stdout",
     "output_type": "stream",
     "text": [
      "1\n",
      "1\n",
      "2\n",
      "4\n",
      "7\n",
      "11\n",
      "16\n",
      "22\n",
      "29\n",
      "37\n",
      "46\n"
     ]
    }
   ],
   "source": [
    "ini,sum1=1,0\n",
    "for i in range(0,11):\n",
    "    print(ini)\n",
    "    ini=ini+sum1\n",
    "    sum1=sum1+1\n",
    "    "
   ]
  },
  {
   "cell_type": "code",
   "execution_count": 1,
   "metadata": {},
   "outputs": [
    {
     "ename": "SyntaxError",
     "evalue": "invalid syntax (<ipython-input-1-1dfa6013e0c0>, line 1)",
     "output_type": "error",
     "traceback": [
      "\u001b[0;36m  File \u001b[0;32m\"<ipython-input-1-1dfa6013e0c0>\"\u001b[0;36m, line \u001b[0;32m1\u001b[0m\n\u001b[0;31m    Create a class called NumberSet that accepts 2 integers as input, and defines two instance variables: num1 and\u001b[0m\n\u001b[0m           ^\u001b[0m\n\u001b[0;31mSyntaxError\u001b[0m\u001b[0;31m:\u001b[0m invalid syntax\n"
     ]
    }
   ],
   "source": [
    "Create a class called NumberSet that accepts 2 integers as input, and defines two instance variables: num1 and \n",
    "    num2, which hold each of the input integers. Then, create an instance of NumberSet where its num1 is 6 and \n",
    "    its num2 is 10. Save this instance to a variable t\n",
    "    \n",
    "    \n",
    "class Numberset:\n",
    "    \"\"\" Point class for representing and manipulating x,y coordinates. \"\"\"\n",
    "\n",
    "    def __init__(self, num1, num2):\n",
    "\n",
    "        self.num1 = num1\n",
    "        self.num2 = num2\n",
    "\n",
    "t = Numberset(6,10)\n",
    "\n",
    "    \n",
    "\n"
   ]
  },
  {
   "cell_type": "code",
   "execution_count": 2,
   "metadata": {},
   "outputs": [],
   "source": [
    "class Animal():\n",
    "    def __init__(self,arms,legs):\n",
    "        self.arms=arms\n",
    "        self.legs=legs\n",
    "    def limbs(self):\n",
    "        return self.legs+self.arms\n",
    "    \n",
    "    \n",
    "spider=Animal(4,4)\n",
    "spidlimbs=spider.limbs()"
   ]
  },
  {
   "cell_type": "code",
   "execution_count": 23,
   "metadata": {},
   "outputs": [
    {
     "name": "stdout",
     "output_type": "stream",
     "text": [
      "2\n"
     ]
    }
   ],
   "source": [
    "\n",
    "class info:\n",
    "    def __init__(self,a1,a2):\n",
    "        self.age11=a1\n",
    "        self.age2=a2\n",
    "        \n",
    "    \n",
    "age1=info(2,2)\n",
    "print(age1.age11)\n",
    "\n",
    "    "
   ]
  },
  {
   "cell_type": "code",
   "execution_count": 24,
   "metadata": {},
   "outputs": [
    {
     "ename": "SyntaxError",
     "evalue": "invalid syntax (<ipython-input-24-a7f883229a08>, line 1)",
     "output_type": "error",
     "traceback": [
      "\u001b[0;36m  File \u001b[0;32m\"<ipython-input-24-a7f883229a08>\"\u001b[0;36m, line \u001b[0;32m1\u001b[0m\n\u001b[0;31m    Create a clas called Cereal that accepts three inputs: 2 strings and 1 integer, and assigns them to 3\u001b[0m\n\u001b[0m           ^\u001b[0m\n\u001b[0;31mSyntaxError\u001b[0m\u001b[0;31m:\u001b[0m invalid syntax\n"
     ]
    }
   ],
   "source": [
    "Create a clas called Cereal that accepts three inputs: 2 strings and 1 integer, and assigns them to 3 \n",
    "    instance variables in the constructor: name, brand, and fiber. When an instance of Cereal is printed, the\n",
    "        user should see the following: “[name] cereal is produced by [brand] and has [fiber integer] grams of \n",
    "            fiber in every serving!” To the variable name c1, assign an instance of Cereal whose name \n",
    "            is \"\", brand is \"\", and fiber is 2. To the variable name c2, assign an instance \n",
    "            of Cereal whose name is \"Honey Nut Cheerios\", brand is \"General Mills\", and fiber is 3. Practice \n",
    "            printing both!\n",
    "            \n",
    "class careal:\n",
    "    def __init__(self,str1,str2,int1):\n",
    "        self.name=str1\n",
    "        self.brand=str2\n",
    "        self.fiber=int1\n",
    "    def __str__(self):\n",
    "        return '{} cerael is produced by {} and has {} grams of fiber in every serving!'.format(self.name,self.brand,self.fiber)\n",
    "    \n",
    "c1=careal(\"corn flakes\",\"Kellogg's\",2)"
   ]
  },
  {
   "cell_type": "code",
   "execution_count": 26,
   "metadata": {},
   "outputs": [
    {
     "name": "stdout",
     "output_type": "stream",
     "text": [
      "corn flakes cerael is produced by Kellogg's and has 2 grams of fiber in every serving!\n"
     ]
    }
   ],
   "source": [
    "class careal:\n",
    "    def __init__(self,str1,str2,int1):\n",
    "        self.name=str1\n",
    "        self.brand=str2\n",
    "        self.fiber=int1\n",
    "    def __str__(self):\n",
    "        return '{} cerael is produced by {} and has {} grams of fiber in every serving!'.format(self.name,self.brand,self.fiber)\n",
    "    \n",
    "c1=careal(\"Corn Flakes\",\"Kellogg's\",2)\n",
    "c2=careal(\"Honey Nut Cheerios\",\"General Mills\",3)"
   ]
  },
  {
   "cell_type": "code",
   "execution_count": 1,
   "metadata": {},
   "outputs": [
    {
     "name": "stdout",
     "output_type": "stream",
     "text": [
      "x = 4.0, y = 8.0\n",
      "4.0\n",
      "8.0\n"
     ]
    }
   ],
   "source": [
    "class Point:\n",
    "\n",
    "    def __init__(self, initX, initY):\n",
    "\n",
    "        self.x = initX\n",
    "        self.y = initY\n",
    "\n",
    "    def getX(self):\n",
    "        return self.x\n",
    "\n",
    "    def getY(self):\n",
    "        return self.y\n",
    "\n",
    "    def distanceFromOrigin(self):\n",
    "        return ((self.x ** 2) + (self.y ** 2)) ** 0.5\n",
    "\n",
    "    def __str__(self):\n",
    "        return \"x = {}, y = {}\".format(self.x, self.y)\n",
    "\n",
    "    def halfway(self, target):\n",
    "        mx = (self.x + target.x)/2\n",
    "        my = (self.y + target.y)/2\n",
    "        return Point(mx, my)\n",
    "\n",
    "p = Point(3,4)\n",
    "q = Point(5,12)\n",
    "mid = p.halfway(q)\n",
    "\n",
    "print(mid)\n",
    "print(mid.getX())\n",
    "print(mid.getY())\n"
   ]
  },
  {
   "cell_type": "code",
   "execution_count": 4,
   "metadata": {},
   "outputs": [],
   "source": [
    "class bike:\n",
    "    def __init__(self,color,price):\n",
    "        self.color=color\n",
    "        self.price=price\n",
    "        \n",
    "\n",
    "testOne=bike(\"blue\",89.99)\n",
    "testTwo=bike(\"purple\",25.0)"
   ]
  },
  {
   "cell_type": "code",
   "execution_count": 13,
   "metadata": {},
   "outputs": [
    {
     "name": "stdout",
     "output_type": "stream",
     "text": [
      "A basket of 2 green apples.\n",
      "3\n"
     ]
    }
   ],
   "source": [
    "class AppleBasket:\n",
    "    def __init__(self,color,quantity):\n",
    "        self.apple_color=color\n",
    "        self.apple_quantity=quantity\n",
    "        \n",
    "    def increase(self):\n",
    "        return self.apple_quantity+1\n",
    "    \n",
    "    def __str__(self):\n",
    "        return \"A basket of {} {} apples.\".format(self.apple_quantity,self.apple_color)\n",
    "apple1=AppleBasket(\"green\",2)\n",
    "print(apple1)\n",
    "print(apple1.increase())"
   ]
  },
  {
   "cell_type": "code",
   "execution_count": 14,
   "metadata": {},
   "outputs": [],
   "source": [
    "class BankAccount:\n",
    "    def __init__(self,name,ammount):\n",
    "        self.name=name\n",
    "        self.amt=ammount\n",
    "        \n",
    "    def __str__(self):\n",
    "        return \"Your account, {}, has {} dollars.\".format(self.name,self.amt)\n",
    "    \n",
    "    \n",
    "t1=BankAccount(\"Bob\",100)\n",
    "\n"
   ]
  },
  {
   "cell_type": "code",
   "execution_count": 15,
   "metadata": {},
   "outputs": [],
   "source": [
    "class bike:\n",
    "    def __init__(self,color,price):\n",
    "        self.color=color\n",
    "        self.price=price\n",
    "        \n",
    "\n",
    "testOne=bike(\"blue\",89.99)\n",
    "testTwo=bike(\"purple\",25.0)"
   ]
  },
  {
   "cell_type": "code",
   "execution_count": 16,
   "metadata": {},
   "outputs": [],
   "source": [
    "class AppleBasket:\n",
    "    def __init__(self,color,quantity):\n",
    "        self.apple_color=color\n",
    "        self.apple_quantity=quantity\n",
    "        \n",
    "    def increase(self):\n",
    "        self.apple_quantity=self.apple_quantity+1\n",
    "        return self.apple_quantity\n",
    "    \n",
    "    def __str__(self):\n",
    "        return \"A basket of {} {} apples.\".format(self.apple_quantity,self.apple_color)\n"
   ]
  },
  {
   "cell_type": "code",
   "execution_count": 1,
   "metadata": {},
   "outputs": [],
   "source": [
    "class Pokemon(object):\n",
    "    attack = 12\n",
    "    defense = 10\n",
    "    health = 15\n",
    "    p_type = \"Normal\"\n",
    "\n",
    "    def __init__(self, name, level = 5):\n",
    "        self.name = name\n",
    "        self.level = level\n",
    "\n",
    "    def train(self):\n",
    "        self.update()\n",
    "        self.attack_up()\n",
    "        self.defense_up()\n",
    "        self.health_up()\n",
    "        self.level = self.level + 1\n",
    "        if self.level%self.evolve == 0:\n",
    "            return self.level, \"Evolved!\"\n",
    "        else:\n",
    "            return self.level\n",
    "\n",
    "    def attack_up(self):\n",
    "        self.attack = self.attack + self.attack_boost\n",
    "        return self.attack\n",
    "\n",
    "    def defense_up(self):\n",
    "        self.defense = self.defense + self.defense_boost\n",
    "        return self.defense\n",
    "\n",
    "    def health_up(self):\n",
    "        self.health = self.health + self.health_boost\n",
    "        return self.health\n",
    "\n",
    "    def update(self):\n",
    "        self.health_boost = 5\n",
    "        self.attack_boost = 3\n",
    "        self.defense_boost = 2\n",
    "        self.evolve = 10\n",
    "\n",
    "    def __str__(self):\n",
    "        self.update()\n",
    "        return \"Pokemon name: {}, Type: {}, Level: {}\".format(self.name, self.p_type, self.level)\n",
    "\n",
    "class Grass_Pokemon(Pokemon):\n",
    "    attack = 15\n",
    "    defense = 14\n",
    "    health = 12\n",
    "    def __init__(self, name, level = 5):\n",
    "        Pokemon.__init__(self,name,level=5)\n",
    "        \n",
    "\n",
    "    def update(self):\n",
    "        self.health_boost = 6\n",
    "        self.attack_boost = 2\n",
    "        self.defense_boost = 3\n",
    "        self.evolve = 12\n",
    "\n",
    "    def moves(self):\n",
    "        self.p_moves = [\"razor leaf\", \"synthesis\", \"petal dance\"]\n",
    "        \n",
    "    def action(self):\n",
    "        return \"{} knows a lot of different moves!\".format(self.name)\n",
    "\n",
    "p1=Grass_Pokemon(\"Belle\")"
   ]
  },
  {
   "cell_type": "code",
   "execution_count": 2,
   "metadata": {},
   "outputs": [],
   "source": [
    "class Pokemon(object):\n",
    "    attack = 12\n",
    "    defense = 10\n",
    "    health = 15\n",
    "    p_type = \"Normal\"\n",
    "\n",
    "    def __init__(self, name, level = 5):\n",
    "        self.name = name\n",
    "        self.level = level\n",
    "\n",
    "    def train(self):\n",
    "        self.update()\n",
    "        self.attack_up()\n",
    "        self.defense_up()\n",
    "        self.health_up()\n",
    "        self.level = self.level + 1\n",
    "        if self.level%self.evolve == 0:\n",
    "            return self.level, \"Evolved!\"\n",
    "        else:\n",
    "            return self.level\n",
    "\n",
    "    def attack_up(self):\n",
    "        self.attack = self.attack + self.attack_boost\n",
    "        return self.attack\n",
    "\n",
    "    def defense_up(self):\n",
    "        self.defense = self.defense + self.defense_boost\n",
    "        return self.defense\n",
    "\n",
    "    def health_up(self):\n",
    "        self.health = self.health + self.health_boost\n",
    "        return self.health\n",
    "\n",
    "    def update(self):\n",
    "        self.health_boost = 5\n",
    "        self.attack_boost = 3\n",
    "        self.defense_boost = 2\n",
    "        self.evolve = 10\n",
    "\n",
    "    def __str__(self):\n",
    "        return \"Pokemon name: {}, Type: {}, Level: {}\".format(self.name, self.p_type, self.level)\n",
    "\n",
    "class Grass_Pokemon(Pokemon):\n",
    "    attack = 15\n",
    "    defense = 14\n",
    "    health = 12\n",
    "    p_type = \"Grass\"\n",
    "    def __init__(self, name, level = 5):\n",
    "        Pokemon.__init__(self,name,level=5)\n",
    "\n",
    "    def update(self):\n",
    "        self.health_boost = 6\n",
    "        self.attack_boost = 2\n",
    "        self.defense_boost = 3\n",
    "        self.evolve = 12\n",
    "\n",
    "    def moves(self):\n",
    "        self.p_moves = [\"razor leaf\", \"synthesis\", \"petal dance\"]\n",
    "       \n",
    "    def train(self):\n",
    "        if self.train>=10:\n",
    "            Pokemon.train(self)\n",
    "    def attack_up(self):\n",
    "        Pokemon.attack_up(self)\n",
    "    def update(self):\n",
    "        Pokemon.update(self)"
   ]
  },
  {
   "cell_type": "code",
   "execution_count": 3,
   "metadata": {},
   "outputs": [],
   "source": [
    "class Pokemon(object):\n",
    "    attack = 12\n",
    "    defense = 10\n",
    "    health = 15\n",
    "    p_type = \"Normal\"\n",
    "\n",
    "    def __init__(self, name, level = 5):\n",
    "        self.name = name\n",
    "        self.level = level\n",
    "\n",
    "    def train(self):\n",
    "        self.update()\n",
    "        self.attack_up()\n",
    "        self.defense_up()\n",
    "        self.health_up()\n",
    "        self.level = self.level + 1\n",
    "        if self.level%self.evolve == 0:\n",
    "            return self.level, \"Evolved!\"\n",
    "        else:\n",
    "            return self.level\n",
    "\n",
    "    def attack_up(self):\n",
    "        self.attack = self.attack + self.attack_boost\n",
    "        return self.attack\n",
    "\n",
    "    def defense_up(self):\n",
    "        self.defense = self.defense + self.defense_boost\n",
    "        return self.defense\n",
    "\n",
    "    def health_up(self):\n",
    "        self.health = self.health + self.health_boost\n",
    "        return self.health\n",
    "\n",
    "    def update(self):\n",
    "        self.health_boost = 5\n",
    "        self.attack_boost = 3\n",
    "        self.defense_boost = 2\n",
    "        self.evolve = 10\n",
    "\n",
    "    def __str__(self):\n",
    "        return \"Pokemon name: {}, Type: {}, Level: {}\".format(self.name, self.p_type, self.level)\n",
    "\n",
    "class Grass_Pokemon(Pokemon):\n",
    "    attack = 15\n",
    "    defense = 14\n",
    "    health = 12\n",
    "    p_type = \"Grass\"\n",
    "    attack_boost=10\n",
    "    def update(self):\n",
    "        self.health_boost = 6\n",
    "        self.attack_boost = 2\n",
    "        self.defense_boost = 3\n",
    "        self.evolve = 12\n",
    "\n",
    "    def moves(self):\n",
    "        self.p_moves = [\"razor leaf\", \"synthesis\", \"petal dance\"]\n",
    "\n",
    "\n",
    "p2=Grass_Pokemon(\"Bulby\")\n",
    "p3=Grass_Pokemon(\"Pika\")\n"
   ]
  },
  {
   "cell_type": "code",
   "execution_count": 5,
   "metadata": {},
   "outputs": [
    {
     "data": {
      "text/plain": [
       "28.274333882308138"
      ]
     },
     "execution_count": 5,
     "metadata": {},
     "output_type": "execute_result"
    }
   ],
   "source": [
    "import math\n",
    "\n",
    "class Circle:\n",
    "    def __init__(self,r):\n",
    "        self.r=r\n",
    "    def area(self):\n",
    "        return math.pi*self.r*self.r\n",
    "    def perimeter(self):\n",
    "        return 2*math.pi*self.r\n",
    "smallc=Circle(3)\n",
    "smallc.area()"
   ]
  },
  {
   "cell_type": "code",
   "execution_count": 32,
   "metadata": {},
   "outputs": [
    {
     "name": "stdout",
     "output_type": "stream",
     "text": [
      "[0, 0, 0]\n",
      "[0, 0, 0]\n",
      "[0, 0, 0]\n",
      "0\n"
     ]
    }
   ],
   "source": [
    "result=False\n",
    "def input_user(choice,c,r):\n",
    "    global y\n",
    "    y[c][r].append(choice)\n",
    "\n",
    "x=[]\n",
    "y=[]\n",
    "for i in range(3):\n",
    "    for j in range(1):\n",
    "        x.append(0)\n",
    "    \n",
    "    y.append(x)\n",
    "for i in y:\n",
    "    print(i)\n",
    "\n",
    "p1=input(\"entyer the name of first player :\")\n",
    "p2=input(\"enter the name of second player :\")\n",
    "p1c=input(\"what u want to take X or O\")\n",
    "if p1c==\"X\":\n",
    "    p2c=\"O\"\n",
    "else:\n",
    "    p2c=\"X\"\n",
    "while not result:\n",
    "    print(\"player one\")\n",
    "    c=input(\"which column\")\n",
    "    r=input(\"which row\")\n",
    "    input_user(p1c,c,r)\n",
    "    \n",
    "\n",
    "    \n",
    "\n",
    "    "
   ]
  },
  {
   "cell_type": "code",
   "execution_count": null,
   "metadata": {},
   "outputs": [],
   "source": []
  }
 ],
 "metadata": {
  "kernelspec": {
   "display_name": "Python 3",
   "language": "python",
   "name": "python3"
  },
  "language_info": {
   "codemirror_mode": {
    "name": "ipython",
    "version": 3
   },
   "file_extension": ".py",
   "mimetype": "text/x-python",
   "name": "python",
   "nbconvert_exporter": "python",
   "pygments_lexer": "ipython3",
   "version": "3.7.6"
  }
 },
 "nbformat": 4,
 "nbformat_minor": 4
}
