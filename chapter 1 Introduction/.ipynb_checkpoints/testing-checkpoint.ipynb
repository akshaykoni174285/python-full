{
 "cells": [
  {
   "cell_type": "markdown",
   "id": "c41c7b8c",
   "metadata": {},
   "source": [
    "# Heading\n",
    "## h2 heading \n",
    "<div alert alert-block alert-warning>\n",
    "    this is a warning \n",
    "</div>\n",
    "\n",
    "- this is a bullet \n",
    "    - this is sub section bullet \n"
   ]
  },
  {
   "cell_type": "code",
   "execution_count": 5,
   "id": "0e4766a2",
   "metadata": {},
   "outputs": [
    {
     "name": "stdout",
     "output_type": "stream",
     "text": [
      "hello my name is akshay\n"
     ]
    }
   ],
   "source": [
    "print(\"hello my name is akshay\")"
   ]
  },
  {
   "cell_type": "code",
   "execution_count": null,
   "id": "864d3f10",
   "metadata": {},
   "outputs": [],
   "source": []
  },
  {
   "cell_type": "code",
   "execution_count": null,
   "id": "d217d3fe",
   "metadata": {},
   "outputs": [],
   "source": []
  },
  {
   "cell_type": "code",
   "execution_count": null,
   "id": "6f5ed00f",
   "metadata": {},
   "outputs": [],
   "source": []
  },
  {
   "cell_type": "code",
   "execution_count": null,
   "id": "ff51b96e",
   "metadata": {},
   "outputs": [],
   "source": []
  }
 ],
 "metadata": {
  "kernelspec": {
   "display_name": "Python 3 (ipykernel)",
   "language": "python",
   "name": "python3"
  },
  "language_info": {
   "codemirror_mode": {
    "name": "ipython",
    "version": 3
   },
   "file_extension": ".py",
   "mimetype": "text/x-python",
   "name": "python",
   "nbconvert_exporter": "python",
   "pygments_lexer": "ipython3",
   "version": "3.10.4"
  }
 },
 "nbformat": 4,
 "nbformat_minor": 5
}
